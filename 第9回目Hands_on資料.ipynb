{
  "nbformat": 4,
  "nbformat_minor": 0,
  "metadata": {
    "colab": {
      "name": "第9回目Hands-on資料.ipynb",
      "provenance": [],
      "collapsed_sections": [],
      "include_colab_link": true
    },
    "kernelspec": {
      "name": "python3",
      "display_name": "Python 3"
    },
    "widgets": {
      "application/vnd.jupyter.widget-state+json": {
        "3d2b89145bef4f8886009c67e341e013": {
          "model_module": "@jupyter-widgets/controls",
          "model_name": "HBoxModel",
          "state": {
            "_view_name": "HBoxView",
            "_dom_classes": [],
            "_model_name": "HBoxModel",
            "_view_module": "@jupyter-widgets/controls",
            "_model_module_version": "1.5.0",
            "_view_count": null,
            "_view_module_version": "1.5.0",
            "box_style": "",
            "layout": "IPY_MODEL_7c3db432bed9426a8b401d75ec6ce87a",
            "_model_module": "@jupyter-widgets/controls",
            "children": [
              "IPY_MODEL_b9f1398826fe451c97cc1d46275eae04",
              "IPY_MODEL_4cdc1c18dd9047b590abde0b0c23de84"
            ]
          }
        },
        "7c3db432bed9426a8b401d75ec6ce87a": {
          "model_module": "@jupyter-widgets/base",
          "model_name": "LayoutModel",
          "state": {
            "_view_name": "LayoutView",
            "grid_template_rows": null,
            "right": null,
            "justify_content": null,
            "_view_module": "@jupyter-widgets/base",
            "overflow": null,
            "_model_module_version": "1.2.0",
            "_view_count": null,
            "flex_flow": null,
            "width": null,
            "min_width": null,
            "border": null,
            "align_items": null,
            "bottom": null,
            "_model_module": "@jupyter-widgets/base",
            "top": null,
            "grid_column": null,
            "overflow_y": null,
            "overflow_x": null,
            "grid_auto_flow": null,
            "grid_area": null,
            "grid_template_columns": null,
            "flex": null,
            "_model_name": "LayoutModel",
            "justify_items": null,
            "grid_row": null,
            "max_height": null,
            "align_content": null,
            "visibility": null,
            "align_self": null,
            "height": null,
            "min_height": null,
            "padding": null,
            "grid_auto_rows": null,
            "grid_gap": null,
            "max_width": null,
            "order": null,
            "_view_module_version": "1.2.0",
            "grid_template_areas": null,
            "object_position": null,
            "object_fit": null,
            "grid_auto_columns": null,
            "margin": null,
            "display": null,
            "left": null
          }
        },
        "b9f1398826fe451c97cc1d46275eae04": {
          "model_module": "@jupyter-widgets/controls",
          "model_name": "FloatProgressModel",
          "state": {
            "_view_name": "ProgressView",
            "style": "IPY_MODEL_bb9624b4c74347e4a630f659c7967495",
            "_dom_classes": [],
            "description": "",
            "_model_name": "FloatProgressModel",
            "bar_style": "success",
            "max": 26421880,
            "_view_module": "@jupyter-widgets/controls",
            "_model_module_version": "1.5.0",
            "value": 26421880,
            "_view_count": null,
            "_view_module_version": "1.5.0",
            "orientation": "horizontal",
            "min": 0,
            "description_tooltip": null,
            "_model_module": "@jupyter-widgets/controls",
            "layout": "IPY_MODEL_3d7535cfdeee47158b915bc65668aa50"
          }
        },
        "4cdc1c18dd9047b590abde0b0c23de84": {
          "model_module": "@jupyter-widgets/controls",
          "model_name": "HTMLModel",
          "state": {
            "_view_name": "HTMLView",
            "style": "IPY_MODEL_f68b277708674bbf82daa7b52d92315f",
            "_dom_classes": [],
            "description": "",
            "_model_name": "HTMLModel",
            "placeholder": "​",
            "_view_module": "@jupyter-widgets/controls",
            "_model_module_version": "1.5.0",
            "value": " 26422272/? [00:04&lt;00:00, 5602153.63it/s]",
            "_view_count": null,
            "_view_module_version": "1.5.0",
            "description_tooltip": null,
            "_model_module": "@jupyter-widgets/controls",
            "layout": "IPY_MODEL_58d3f43bed9a4c3e8c3013a3662c2525"
          }
        },
        "bb9624b4c74347e4a630f659c7967495": {
          "model_module": "@jupyter-widgets/controls",
          "model_name": "ProgressStyleModel",
          "state": {
            "_view_name": "StyleView",
            "_model_name": "ProgressStyleModel",
            "description_width": "initial",
            "_view_module": "@jupyter-widgets/base",
            "_model_module_version": "1.5.0",
            "_view_count": null,
            "_view_module_version": "1.2.0",
            "bar_color": null,
            "_model_module": "@jupyter-widgets/controls"
          }
        },
        "3d7535cfdeee47158b915bc65668aa50": {
          "model_module": "@jupyter-widgets/base",
          "model_name": "LayoutModel",
          "state": {
            "_view_name": "LayoutView",
            "grid_template_rows": null,
            "right": null,
            "justify_content": null,
            "_view_module": "@jupyter-widgets/base",
            "overflow": null,
            "_model_module_version": "1.2.0",
            "_view_count": null,
            "flex_flow": null,
            "width": null,
            "min_width": null,
            "border": null,
            "align_items": null,
            "bottom": null,
            "_model_module": "@jupyter-widgets/base",
            "top": null,
            "grid_column": null,
            "overflow_y": null,
            "overflow_x": null,
            "grid_auto_flow": null,
            "grid_area": null,
            "grid_template_columns": null,
            "flex": null,
            "_model_name": "LayoutModel",
            "justify_items": null,
            "grid_row": null,
            "max_height": null,
            "align_content": null,
            "visibility": null,
            "align_self": null,
            "height": null,
            "min_height": null,
            "padding": null,
            "grid_auto_rows": null,
            "grid_gap": null,
            "max_width": null,
            "order": null,
            "_view_module_version": "1.2.0",
            "grid_template_areas": null,
            "object_position": null,
            "object_fit": null,
            "grid_auto_columns": null,
            "margin": null,
            "display": null,
            "left": null
          }
        },
        "f68b277708674bbf82daa7b52d92315f": {
          "model_module": "@jupyter-widgets/controls",
          "model_name": "DescriptionStyleModel",
          "state": {
            "_view_name": "StyleView",
            "_model_name": "DescriptionStyleModel",
            "description_width": "",
            "_view_module": "@jupyter-widgets/base",
            "_model_module_version": "1.5.0",
            "_view_count": null,
            "_view_module_version": "1.2.0",
            "_model_module": "@jupyter-widgets/controls"
          }
        },
        "58d3f43bed9a4c3e8c3013a3662c2525": {
          "model_module": "@jupyter-widgets/base",
          "model_name": "LayoutModel",
          "state": {
            "_view_name": "LayoutView",
            "grid_template_rows": null,
            "right": null,
            "justify_content": null,
            "_view_module": "@jupyter-widgets/base",
            "overflow": null,
            "_model_module_version": "1.2.0",
            "_view_count": null,
            "flex_flow": null,
            "width": null,
            "min_width": null,
            "border": null,
            "align_items": null,
            "bottom": null,
            "_model_module": "@jupyter-widgets/base",
            "top": null,
            "grid_column": null,
            "overflow_y": null,
            "overflow_x": null,
            "grid_auto_flow": null,
            "grid_area": null,
            "grid_template_columns": null,
            "flex": null,
            "_model_name": "LayoutModel",
            "justify_items": null,
            "grid_row": null,
            "max_height": null,
            "align_content": null,
            "visibility": null,
            "align_self": null,
            "height": null,
            "min_height": null,
            "padding": null,
            "grid_auto_rows": null,
            "grid_gap": null,
            "max_width": null,
            "order": null,
            "_view_module_version": "1.2.0",
            "grid_template_areas": null,
            "object_position": null,
            "object_fit": null,
            "grid_auto_columns": null,
            "margin": null,
            "display": null,
            "left": null
          }
        },
        "24ea96e52c3147958cec8427255de042": {
          "model_module": "@jupyter-widgets/controls",
          "model_name": "HBoxModel",
          "state": {
            "_view_name": "HBoxView",
            "_dom_classes": [],
            "_model_name": "HBoxModel",
            "_view_module": "@jupyter-widgets/controls",
            "_model_module_version": "1.5.0",
            "_view_count": null,
            "_view_module_version": "1.5.0",
            "box_style": "",
            "layout": "IPY_MODEL_6a2ae42aa58543d9a3a8a3c83ddba3fb",
            "_model_module": "@jupyter-widgets/controls",
            "children": [
              "IPY_MODEL_c668786f0e534e1bb87f46f994c23101",
              "IPY_MODEL_75942d0f70574c629043ae67352a9444"
            ]
          }
        },
        "6a2ae42aa58543d9a3a8a3c83ddba3fb": {
          "model_module": "@jupyter-widgets/base",
          "model_name": "LayoutModel",
          "state": {
            "_view_name": "LayoutView",
            "grid_template_rows": null,
            "right": null,
            "justify_content": null,
            "_view_module": "@jupyter-widgets/base",
            "overflow": null,
            "_model_module_version": "1.2.0",
            "_view_count": null,
            "flex_flow": null,
            "width": null,
            "min_width": null,
            "border": null,
            "align_items": null,
            "bottom": null,
            "_model_module": "@jupyter-widgets/base",
            "top": null,
            "grid_column": null,
            "overflow_y": null,
            "overflow_x": null,
            "grid_auto_flow": null,
            "grid_area": null,
            "grid_template_columns": null,
            "flex": null,
            "_model_name": "LayoutModel",
            "justify_items": null,
            "grid_row": null,
            "max_height": null,
            "align_content": null,
            "visibility": null,
            "align_self": null,
            "height": null,
            "min_height": null,
            "padding": null,
            "grid_auto_rows": null,
            "grid_gap": null,
            "max_width": null,
            "order": null,
            "_view_module_version": "1.2.0",
            "grid_template_areas": null,
            "object_position": null,
            "object_fit": null,
            "grid_auto_columns": null,
            "margin": null,
            "display": null,
            "left": null
          }
        },
        "c668786f0e534e1bb87f46f994c23101": {
          "model_module": "@jupyter-widgets/controls",
          "model_name": "FloatProgressModel",
          "state": {
            "_view_name": "ProgressView",
            "style": "IPY_MODEL_05f4f01f78144b17b7616c52a3fb4d55",
            "_dom_classes": [],
            "description": "",
            "_model_name": "FloatProgressModel",
            "bar_style": "success",
            "max": 29515,
            "_view_module": "@jupyter-widgets/controls",
            "_model_module_version": "1.5.0",
            "value": 29515,
            "_view_count": null,
            "_view_module_version": "1.5.0",
            "orientation": "horizontal",
            "min": 0,
            "description_tooltip": null,
            "_model_module": "@jupyter-widgets/controls",
            "layout": "IPY_MODEL_2010e2a855ce404a9bac095e4cef7382"
          }
        },
        "75942d0f70574c629043ae67352a9444": {
          "model_module": "@jupyter-widgets/controls",
          "model_name": "HTMLModel",
          "state": {
            "_view_name": "HTMLView",
            "style": "IPY_MODEL_caeb350924384a0e965207bdbdcfb3fc",
            "_dom_classes": [],
            "description": "",
            "_model_name": "HTMLModel",
            "placeholder": "​",
            "_view_module": "@jupyter-widgets/controls",
            "_model_module_version": "1.5.0",
            "value": " 29696/? [00:00&lt;00:00, 56427.68it/s]",
            "_view_count": null,
            "_view_module_version": "1.5.0",
            "description_tooltip": null,
            "_model_module": "@jupyter-widgets/controls",
            "layout": "IPY_MODEL_94ba7ed48bf449969d9df80d27a50488"
          }
        },
        "05f4f01f78144b17b7616c52a3fb4d55": {
          "model_module": "@jupyter-widgets/controls",
          "model_name": "ProgressStyleModel",
          "state": {
            "_view_name": "StyleView",
            "_model_name": "ProgressStyleModel",
            "description_width": "initial",
            "_view_module": "@jupyter-widgets/base",
            "_model_module_version": "1.5.0",
            "_view_count": null,
            "_view_module_version": "1.2.0",
            "bar_color": null,
            "_model_module": "@jupyter-widgets/controls"
          }
        },
        "2010e2a855ce404a9bac095e4cef7382": {
          "model_module": "@jupyter-widgets/base",
          "model_name": "LayoutModel",
          "state": {
            "_view_name": "LayoutView",
            "grid_template_rows": null,
            "right": null,
            "justify_content": null,
            "_view_module": "@jupyter-widgets/base",
            "overflow": null,
            "_model_module_version": "1.2.0",
            "_view_count": null,
            "flex_flow": null,
            "width": null,
            "min_width": null,
            "border": null,
            "align_items": null,
            "bottom": null,
            "_model_module": "@jupyter-widgets/base",
            "top": null,
            "grid_column": null,
            "overflow_y": null,
            "overflow_x": null,
            "grid_auto_flow": null,
            "grid_area": null,
            "grid_template_columns": null,
            "flex": null,
            "_model_name": "LayoutModel",
            "justify_items": null,
            "grid_row": null,
            "max_height": null,
            "align_content": null,
            "visibility": null,
            "align_self": null,
            "height": null,
            "min_height": null,
            "padding": null,
            "grid_auto_rows": null,
            "grid_gap": null,
            "max_width": null,
            "order": null,
            "_view_module_version": "1.2.0",
            "grid_template_areas": null,
            "object_position": null,
            "object_fit": null,
            "grid_auto_columns": null,
            "margin": null,
            "display": null,
            "left": null
          }
        },
        "caeb350924384a0e965207bdbdcfb3fc": {
          "model_module": "@jupyter-widgets/controls",
          "model_name": "DescriptionStyleModel",
          "state": {
            "_view_name": "StyleView",
            "_model_name": "DescriptionStyleModel",
            "description_width": "",
            "_view_module": "@jupyter-widgets/base",
            "_model_module_version": "1.5.0",
            "_view_count": null,
            "_view_module_version": "1.2.0",
            "_model_module": "@jupyter-widgets/controls"
          }
        },
        "94ba7ed48bf449969d9df80d27a50488": {
          "model_module": "@jupyter-widgets/base",
          "model_name": "LayoutModel",
          "state": {
            "_view_name": "LayoutView",
            "grid_template_rows": null,
            "right": null,
            "justify_content": null,
            "_view_module": "@jupyter-widgets/base",
            "overflow": null,
            "_model_module_version": "1.2.0",
            "_view_count": null,
            "flex_flow": null,
            "width": null,
            "min_width": null,
            "border": null,
            "align_items": null,
            "bottom": null,
            "_model_module": "@jupyter-widgets/base",
            "top": null,
            "grid_column": null,
            "overflow_y": null,
            "overflow_x": null,
            "grid_auto_flow": null,
            "grid_area": null,
            "grid_template_columns": null,
            "flex": null,
            "_model_name": "LayoutModel",
            "justify_items": null,
            "grid_row": null,
            "max_height": null,
            "align_content": null,
            "visibility": null,
            "align_self": null,
            "height": null,
            "min_height": null,
            "padding": null,
            "grid_auto_rows": null,
            "grid_gap": null,
            "max_width": null,
            "order": null,
            "_view_module_version": "1.2.0",
            "grid_template_areas": null,
            "object_position": null,
            "object_fit": null,
            "grid_auto_columns": null,
            "margin": null,
            "display": null,
            "left": null
          }
        },
        "02423de1688e41259ab701252f1a5fe7": {
          "model_module": "@jupyter-widgets/controls",
          "model_name": "HBoxModel",
          "state": {
            "_view_name": "HBoxView",
            "_dom_classes": [],
            "_model_name": "HBoxModel",
            "_view_module": "@jupyter-widgets/controls",
            "_model_module_version": "1.5.0",
            "_view_count": null,
            "_view_module_version": "1.5.0",
            "box_style": "",
            "layout": "IPY_MODEL_de886169ec6f4b7984445560761fdd9e",
            "_model_module": "@jupyter-widgets/controls",
            "children": [
              "IPY_MODEL_7f7ab846daf841b78efe940c64daa7dc",
              "IPY_MODEL_444cab79b0c743a29ed7a400f284499e"
            ]
          }
        },
        "de886169ec6f4b7984445560761fdd9e": {
          "model_module": "@jupyter-widgets/base",
          "model_name": "LayoutModel",
          "state": {
            "_view_name": "LayoutView",
            "grid_template_rows": null,
            "right": null,
            "justify_content": null,
            "_view_module": "@jupyter-widgets/base",
            "overflow": null,
            "_model_module_version": "1.2.0",
            "_view_count": null,
            "flex_flow": null,
            "width": null,
            "min_width": null,
            "border": null,
            "align_items": null,
            "bottom": null,
            "_model_module": "@jupyter-widgets/base",
            "top": null,
            "grid_column": null,
            "overflow_y": null,
            "overflow_x": null,
            "grid_auto_flow": null,
            "grid_area": null,
            "grid_template_columns": null,
            "flex": null,
            "_model_name": "LayoutModel",
            "justify_items": null,
            "grid_row": null,
            "max_height": null,
            "align_content": null,
            "visibility": null,
            "align_self": null,
            "height": null,
            "min_height": null,
            "padding": null,
            "grid_auto_rows": null,
            "grid_gap": null,
            "max_width": null,
            "order": null,
            "_view_module_version": "1.2.0",
            "grid_template_areas": null,
            "object_position": null,
            "object_fit": null,
            "grid_auto_columns": null,
            "margin": null,
            "display": null,
            "left": null
          }
        },
        "7f7ab846daf841b78efe940c64daa7dc": {
          "model_module": "@jupyter-widgets/controls",
          "model_name": "FloatProgressModel",
          "state": {
            "_view_name": "ProgressView",
            "style": "IPY_MODEL_e4e0a24d257c487097a1e7fe496edd73",
            "_dom_classes": [],
            "description": "",
            "_model_name": "FloatProgressModel",
            "bar_style": "success",
            "max": 4422102,
            "_view_module": "@jupyter-widgets/controls",
            "_model_module_version": "1.5.0",
            "value": 4422102,
            "_view_count": null,
            "_view_module_version": "1.5.0",
            "orientation": "horizontal",
            "min": 0,
            "description_tooltip": null,
            "_model_module": "@jupyter-widgets/controls",
            "layout": "IPY_MODEL_5aba6675eeca440291721a413e8db4a9"
          }
        },
        "444cab79b0c743a29ed7a400f284499e": {
          "model_module": "@jupyter-widgets/controls",
          "model_name": "HTMLModel",
          "state": {
            "_view_name": "HTMLView",
            "style": "IPY_MODEL_5e60b490fa3b47b08cc31ce842ddaa14",
            "_dom_classes": [],
            "description": "",
            "_model_name": "HTMLModel",
            "placeholder": "​",
            "_view_module": "@jupyter-widgets/controls",
            "_model_module_version": "1.5.0",
            "value": " 4422656/? [00:01&lt;00:00, 2410581.39it/s]",
            "_view_count": null,
            "_view_module_version": "1.5.0",
            "description_tooltip": null,
            "_model_module": "@jupyter-widgets/controls",
            "layout": "IPY_MODEL_f556862079fb49d485ac525827d803a5"
          }
        },
        "e4e0a24d257c487097a1e7fe496edd73": {
          "model_module": "@jupyter-widgets/controls",
          "model_name": "ProgressStyleModel",
          "state": {
            "_view_name": "StyleView",
            "_model_name": "ProgressStyleModel",
            "description_width": "initial",
            "_view_module": "@jupyter-widgets/base",
            "_model_module_version": "1.5.0",
            "_view_count": null,
            "_view_module_version": "1.2.0",
            "bar_color": null,
            "_model_module": "@jupyter-widgets/controls"
          }
        },
        "5aba6675eeca440291721a413e8db4a9": {
          "model_module": "@jupyter-widgets/base",
          "model_name": "LayoutModel",
          "state": {
            "_view_name": "LayoutView",
            "grid_template_rows": null,
            "right": null,
            "justify_content": null,
            "_view_module": "@jupyter-widgets/base",
            "overflow": null,
            "_model_module_version": "1.2.0",
            "_view_count": null,
            "flex_flow": null,
            "width": null,
            "min_width": null,
            "border": null,
            "align_items": null,
            "bottom": null,
            "_model_module": "@jupyter-widgets/base",
            "top": null,
            "grid_column": null,
            "overflow_y": null,
            "overflow_x": null,
            "grid_auto_flow": null,
            "grid_area": null,
            "grid_template_columns": null,
            "flex": null,
            "_model_name": "LayoutModel",
            "justify_items": null,
            "grid_row": null,
            "max_height": null,
            "align_content": null,
            "visibility": null,
            "align_self": null,
            "height": null,
            "min_height": null,
            "padding": null,
            "grid_auto_rows": null,
            "grid_gap": null,
            "max_width": null,
            "order": null,
            "_view_module_version": "1.2.0",
            "grid_template_areas": null,
            "object_position": null,
            "object_fit": null,
            "grid_auto_columns": null,
            "margin": null,
            "display": null,
            "left": null
          }
        },
        "5e60b490fa3b47b08cc31ce842ddaa14": {
          "model_module": "@jupyter-widgets/controls",
          "model_name": "DescriptionStyleModel",
          "state": {
            "_view_name": "StyleView",
            "_model_name": "DescriptionStyleModel",
            "description_width": "",
            "_view_module": "@jupyter-widgets/base",
            "_model_module_version": "1.5.0",
            "_view_count": null,
            "_view_module_version": "1.2.0",
            "_model_module": "@jupyter-widgets/controls"
          }
        },
        "f556862079fb49d485ac525827d803a5": {
          "model_module": "@jupyter-widgets/base",
          "model_name": "LayoutModel",
          "state": {
            "_view_name": "LayoutView",
            "grid_template_rows": null,
            "right": null,
            "justify_content": null,
            "_view_module": "@jupyter-widgets/base",
            "overflow": null,
            "_model_module_version": "1.2.0",
            "_view_count": null,
            "flex_flow": null,
            "width": null,
            "min_width": null,
            "border": null,
            "align_items": null,
            "bottom": null,
            "_model_module": "@jupyter-widgets/base",
            "top": null,
            "grid_column": null,
            "overflow_y": null,
            "overflow_x": null,
            "grid_auto_flow": null,
            "grid_area": null,
            "grid_template_columns": null,
            "flex": null,
            "_model_name": "LayoutModel",
            "justify_items": null,
            "grid_row": null,
            "max_height": null,
            "align_content": null,
            "visibility": null,
            "align_self": null,
            "height": null,
            "min_height": null,
            "padding": null,
            "grid_auto_rows": null,
            "grid_gap": null,
            "max_width": null,
            "order": null,
            "_view_module_version": "1.2.0",
            "grid_template_areas": null,
            "object_position": null,
            "object_fit": null,
            "grid_auto_columns": null,
            "margin": null,
            "display": null,
            "left": null
          }
        },
        "e9259028c7104565affc13b5f3f9aba1": {
          "model_module": "@jupyter-widgets/controls",
          "model_name": "HBoxModel",
          "state": {
            "_view_name": "HBoxView",
            "_dom_classes": [],
            "_model_name": "HBoxModel",
            "_view_module": "@jupyter-widgets/controls",
            "_model_module_version": "1.5.0",
            "_view_count": null,
            "_view_module_version": "1.5.0",
            "box_style": "",
            "layout": "IPY_MODEL_1e93e757508a4c4a9538d1d86f571bd3",
            "_model_module": "@jupyter-widgets/controls",
            "children": [
              "IPY_MODEL_d973a162a491486bb30c854d9ef36221",
              "IPY_MODEL_0a2a01389b024d5c9ea37e802375c416"
            ]
          }
        },
        "1e93e757508a4c4a9538d1d86f571bd3": {
          "model_module": "@jupyter-widgets/base",
          "model_name": "LayoutModel",
          "state": {
            "_view_name": "LayoutView",
            "grid_template_rows": null,
            "right": null,
            "justify_content": null,
            "_view_module": "@jupyter-widgets/base",
            "overflow": null,
            "_model_module_version": "1.2.0",
            "_view_count": null,
            "flex_flow": null,
            "width": null,
            "min_width": null,
            "border": null,
            "align_items": null,
            "bottom": null,
            "_model_module": "@jupyter-widgets/base",
            "top": null,
            "grid_column": null,
            "overflow_y": null,
            "overflow_x": null,
            "grid_auto_flow": null,
            "grid_area": null,
            "grid_template_columns": null,
            "flex": null,
            "_model_name": "LayoutModel",
            "justify_items": null,
            "grid_row": null,
            "max_height": null,
            "align_content": null,
            "visibility": null,
            "align_self": null,
            "height": null,
            "min_height": null,
            "padding": null,
            "grid_auto_rows": null,
            "grid_gap": null,
            "max_width": null,
            "order": null,
            "_view_module_version": "1.2.0",
            "grid_template_areas": null,
            "object_position": null,
            "object_fit": null,
            "grid_auto_columns": null,
            "margin": null,
            "display": null,
            "left": null
          }
        },
        "d973a162a491486bb30c854d9ef36221": {
          "model_module": "@jupyter-widgets/controls",
          "model_name": "FloatProgressModel",
          "state": {
            "_view_name": "ProgressView",
            "style": "IPY_MODEL_12e0c972abaa4722b1b50bdf38ae0609",
            "_dom_classes": [],
            "description": "",
            "_model_name": "FloatProgressModel",
            "bar_style": "success",
            "max": 5148,
            "_view_module": "@jupyter-widgets/controls",
            "_model_module_version": "1.5.0",
            "value": 5148,
            "_view_count": null,
            "_view_module_version": "1.5.0",
            "orientation": "horizontal",
            "min": 0,
            "description_tooltip": null,
            "_model_module": "@jupyter-widgets/controls",
            "layout": "IPY_MODEL_87e3dd41069145fbabfe34bada11dea6"
          }
        },
        "0a2a01389b024d5c9ea37e802375c416": {
          "model_module": "@jupyter-widgets/controls",
          "model_name": "HTMLModel",
          "state": {
            "_view_name": "HTMLView",
            "style": "IPY_MODEL_df785040ff514007ad46f873d6fe5d42",
            "_dom_classes": [],
            "description": "",
            "_model_name": "HTMLModel",
            "placeholder": "​",
            "_view_module": "@jupyter-widgets/controls",
            "_model_module_version": "1.5.0",
            "value": " 6144/? [00:00&lt;00:00, 16161.46it/s]",
            "_view_count": null,
            "_view_module_version": "1.5.0",
            "description_tooltip": null,
            "_model_module": "@jupyter-widgets/controls",
            "layout": "IPY_MODEL_0e7cf3db141441cda5dcca37aba9e082"
          }
        },
        "12e0c972abaa4722b1b50bdf38ae0609": {
          "model_module": "@jupyter-widgets/controls",
          "model_name": "ProgressStyleModel",
          "state": {
            "_view_name": "StyleView",
            "_model_name": "ProgressStyleModel",
            "description_width": "initial",
            "_view_module": "@jupyter-widgets/base",
            "_model_module_version": "1.5.0",
            "_view_count": null,
            "_view_module_version": "1.2.0",
            "bar_color": null,
            "_model_module": "@jupyter-widgets/controls"
          }
        },
        "87e3dd41069145fbabfe34bada11dea6": {
          "model_module": "@jupyter-widgets/base",
          "model_name": "LayoutModel",
          "state": {
            "_view_name": "LayoutView",
            "grid_template_rows": null,
            "right": null,
            "justify_content": null,
            "_view_module": "@jupyter-widgets/base",
            "overflow": null,
            "_model_module_version": "1.2.0",
            "_view_count": null,
            "flex_flow": null,
            "width": null,
            "min_width": null,
            "border": null,
            "align_items": null,
            "bottom": null,
            "_model_module": "@jupyter-widgets/base",
            "top": null,
            "grid_column": null,
            "overflow_y": null,
            "overflow_x": null,
            "grid_auto_flow": null,
            "grid_area": null,
            "grid_template_columns": null,
            "flex": null,
            "_model_name": "LayoutModel",
            "justify_items": null,
            "grid_row": null,
            "max_height": null,
            "align_content": null,
            "visibility": null,
            "align_self": null,
            "height": null,
            "min_height": null,
            "padding": null,
            "grid_auto_rows": null,
            "grid_gap": null,
            "max_width": null,
            "order": null,
            "_view_module_version": "1.2.0",
            "grid_template_areas": null,
            "object_position": null,
            "object_fit": null,
            "grid_auto_columns": null,
            "margin": null,
            "display": null,
            "left": null
          }
        },
        "df785040ff514007ad46f873d6fe5d42": {
          "model_module": "@jupyter-widgets/controls",
          "model_name": "DescriptionStyleModel",
          "state": {
            "_view_name": "StyleView",
            "_model_name": "DescriptionStyleModel",
            "description_width": "",
            "_view_module": "@jupyter-widgets/base",
            "_model_module_version": "1.5.0",
            "_view_count": null,
            "_view_module_version": "1.2.0",
            "_model_module": "@jupyter-widgets/controls"
          }
        },
        "0e7cf3db141441cda5dcca37aba9e082": {
          "model_module": "@jupyter-widgets/base",
          "model_name": "LayoutModel",
          "state": {
            "_view_name": "LayoutView",
            "grid_template_rows": null,
            "right": null,
            "justify_content": null,
            "_view_module": "@jupyter-widgets/base",
            "overflow": null,
            "_model_module_version": "1.2.0",
            "_view_count": null,
            "flex_flow": null,
            "width": null,
            "min_width": null,
            "border": null,
            "align_items": null,
            "bottom": null,
            "_model_module": "@jupyter-widgets/base",
            "top": null,
            "grid_column": null,
            "overflow_y": null,
            "overflow_x": null,
            "grid_auto_flow": null,
            "grid_area": null,
            "grid_template_columns": null,
            "flex": null,
            "_model_name": "LayoutModel",
            "justify_items": null,
            "grid_row": null,
            "max_height": null,
            "align_content": null,
            "visibility": null,
            "align_self": null,
            "height": null,
            "min_height": null,
            "padding": null,
            "grid_auto_rows": null,
            "grid_gap": null,
            "max_width": null,
            "order": null,
            "_view_module_version": "1.2.0",
            "grid_template_areas": null,
            "object_position": null,
            "object_fit": null,
            "grid_auto_columns": null,
            "margin": null,
            "display": null,
            "left": null
          }
        }
      }
    }
  },
  "cells": [
    {
      "cell_type": "markdown",
      "metadata": {
        "id": "view-in-github",
        "colab_type": "text"
      },
      "source": [
        "<a href=\"https://colab.research.google.com/github/HaseU-git/GCI_2021/blob/branch/%E7%AC%AC9%E5%9B%9E%E7%9B%AEHands_on%E8%B3%87%E6%96%99.ipynb\" target=\"_parent\"><img src=\"https://colab.research.google.com/assets/colab-badge.svg\" alt=\"Open In Colab\"/></a>"
      ]
    },
    {
      "cell_type": "markdown",
      "metadata": {
        "id": "xD4b_9oEOVmK"
      },
      "source": [
        "コードをターミナル（コマンドプロンプト）上で実行する際に、どの環境で実行しているかはこれを参考にしてください\n",
        "\n",
        "```\n",
        "ローカルPC 　　   C:\\Users\\Owner> or Owner@MacBook-Pro GCI %\n",
        "EC2　　　　　　　　　　　　　   ubuntu@ip-172-31-7-87:~$\n",
        "Dockerコンテナ root@43a2429a4b12:/home#\n",
        "```"
      ]
    },
    {
      "cell_type": "markdown",
      "metadata": {
        "id": "GFxV_E6bXs-X"
      },
      "source": [
        "## 目次\n",
        "**<a href='#0'> 0. Introduction</a>** \n",
        "><a href='#0-1'> 0.1 なぜGCIでMLOpsを扱うか？</a>\n",
        ">\n",
        "><a href='#0-2'> 0.2 なぜMLOpsが注目されているのか？</a>\n",
        ">\n",
        "><a href='#0-3'> 0.3 MLOpsとは</a>\n",
        ">\n",
        "><a href='#0-4'> 0.4 どこがMLの社会実装の障壁となっているのか？</a>\n",
        ">\n",
        "><a href='#0-5'> 0.5 機械学習プロダクトの開発はデータサイエンティストだけの仕事ではない！</a>\n",
        ">\n",
        "\n",
        "**<a href='#1'> 1. ハイパーパラメータのチューニング</a>** \n",
        "><a href='#1-1'> 1.1 ハイパーパラメータ</a>\n",
        ">\n",
        "><a href='#1-2'> 1.2 Optuna</a>\n",
        ">\n",
        "><a href='#1-3'> 1.3 RandomForestのハイパーパラメータをOptunaでチューニング</a>\n",
        ">\n",
        "><a href='#1-4'> 1.4 多層パーセプトロンのハイパーパラメータをOptunaでチューニング</a>\n",
        ">\n",
        "\n",
        "**<a href='#2'> 2. 実験管理</a>** \n",
        "><a href='#2-1'> 2.1 実験管理とは</a>\n",
        ">\n",
        "><a href='#2-2'> 2.2 実験管理ツールの紹介</a>\n",
        ">\n",
        "\n",
        "**<a href='#3'> 3. MLflowを使った実験管理</a>** \n",
        "><a href='#3-1'> 2.1 MLflowの使い方</a>\n",
        ">\n",
        "><a href='#3-2'> 2.2 MLflowUIの使い方</a>\n",
        ">\n",
        "\n",
        "**<a href='#4'> 4. ワークフロー管理</a>** \n",
        "><a href='#4-1'> 4.1 ワークフロー管理とは</a>\n",
        ">\n",
        "><a href='#4-2'> 4.2 ワークフロー管理ライブラリの紹介</a>\n",
        ">\n",
        "\n",
        "**<a href='#5'> 4. Airflowを使ったワークフロー管理</a>** \n",
        "><a href='#5-1'> 5.1 Airflowの使い方</a>\n",
        ">\n",
        "><a href='#5-2'> 5.2 AirflowUIの使い方</a>\n",
        ">\n"
      ]
    },
    {
      "cell_type": "markdown",
      "metadata": {
        "id": "ivCy1o79gTqO"
      },
      "source": [
        "<a name='0'></a>\n",
        "## Introduction"
      ]
    },
    {
      "cell_type": "markdown",
      "metadata": {
        "id": "KizYaSIOMTw5"
      },
      "source": [
        "<a name='0-1'></a>\n",
        "### なぜGCIでMLOpsを扱うか？\n",
        "\n",
        "GCI受講生には、データサイエンティストやMLエンジニアに興味を持っている方も多くいらっしゃるかと思います。機械学習を社会実装する際には、GCIの講義で学んだ機械学習のコード以外にもインフラ構築や実験管理、ワークフロー管理など様々な技術が活用されます。そして、昨今MLOpsという、機械学習の社会実装に関する様々な障壁を乗り越えるための概念が注目されています。\n",
        "\n",
        "**GCIでMLOpsを扱う理由は、機械学習の社会実装に、どのような困難が伴うのか、そしてそれを解決するにはどのような手段があるのかを知ることで、機械学習プロダクトの開発に携わる際のTipsを提供することです。**\n",
        "\n",
        "\n",
        "※MLOpsという分野はまだ未熟でこれが正解というものがない中で、現在わかっている先人たちの知恵をまとめたものになります。各課題にあった最適な方法は個別で考える必要があります。\n",
        "\n"
      ]
    },
    {
      "cell_type": "markdown",
      "metadata": {
        "id": "mhF-cUEXf4yE"
      },
      "source": [
        "<a name='0-2'></a>\n",
        "### なぜMLOpsが注目されているのか？\n",
        "\n",
        "- PoCで終わってしまう機械学習プロジェクトが多く、社会実装にまで至っていないことがほとんどだから\n",
        "\n",
        "> PoCとは：PoCとは、Proof of Conceptの略で、日本語では「概念実証」。新たな概念やアイデアの実現可能性を示すために、簡単かつ不完全な実現化（または概要）を行うこと。あるいは原理のデモンストレーションによって、ある概念や理論の実用化が可能であることを示すこと。\n",
        "https://ja.wikipedia.org/wiki/%E6%A6%82%E5%BF%B5%E5%AE%9F%E8%A8%BC\n",
        "\n",
        "<img src='https://drive.google.com/uc?export=view&id=1xrL-WopJtCh2Ct5vGpT0PuQ7yXgO6azq' name=機械学習プロジェクトの流れ.png width=100%>"
      ]
    },
    {
      "cell_type": "markdown",
      "metadata": {
        "id": "xhxhDLlqNnQG"
      },
      "source": [
        "<a name='0-3'></a>\n",
        "### MLOpsとは\n",
        "\n",
        "MLOpsはMachine Learning Operationsの略語で開発(dev)と運用(ops)を効率化する概念であるDevOpsとMLの組み合わせだと考えられています。\n",
        "\n",
        "> DevOpsは、開発と運用を効率的に連携するための概念もしくは文化です。\n",
        "1. コード ： コードの開発とレビュー、バージョン管理ツール、コードのマージ\n",
        "2. ビルド ： 継続的インテグレーションのツール、ビルドステータス\n",
        "3. テスト ： パフォーマンスを決定するためのテストと結果\n",
        "4. パッケージ ： 案件リポジトリ、アプリの展開前ステージング\n",
        "5. リリース ： 変更管理、リリース承認、リリース自動化\n",
        "6. コンフィギュレーション ： インフラストラクチャの設定と管理、インフラストラクチャとしてのコードのツール\n",
        "7. モニター ： アプリの性能監視、エンドユーザーエクスペリエンス\n",
        ">\n",
        ">https://ja.wikipedia.org/wiki/DevOps\n",
        "\n",
        "\n",
        "DevOpsで考えられていた、開発と運用を効率的に連携する概念や文化を機械学習プロダクトの開発に適応することを目的としたものが、MLOpsです。機械学習プロダクト開発が、DevOpsの枠組みではなく、MLOpsとして考えられている理由は、機械学習開発独自の難しさが存在するからです。"
      ]
    },
    {
      "cell_type": "markdown",
      "metadata": {
        "id": "D-x3wRlVf9PB"
      },
      "source": [
        "<a name='0-4'></a>\n",
        "### どこがMLの社会実装の障壁となっているのか？\n",
        "\n",
        "一度作成した機械学習モデルは時間が経過するにつれて精度が下がってしまいます。これは、学習時のデータと本番環境でのデータの分布に変化が生じることがあるからです。例えば、商品の需要予測をする際も、直近の需要データまでを学習させる必要があるでしょう。なぜなら、学習時のデータと本番環境でのデータの分布が必ずしも同じではないと考えられるからです。\n",
        "\n",
        "機械学習モデルは、入力の特徴量行列Xと目的変数yとの関係性を記述したものだと考えることができます。機械学習で解く課題は、現実世界の状況に依存しています。そして、現実世界では入力データそのものに変化（データドリフト）が生じたり、入力データと目的変数の関係性に変化（コンセプトドリフト）が生じることがあります。\n",
        "\n",
        "- データドリフト\n",
        "\n",
        "    スマートフォンで音声認識をする場合を考えてみましょう。音声認識モデルを作成する際には、学習データが必要なので、既存の音声データセットを購入するなりして用意します。そこで良いモデルが作成できて、スマートフォンで使うとうまくいかないことが起こり得ます。なぜなら、スマートフォンで認識した音声では、ノイズが加わり明瞭さに違いが生じるからです。\n",
        "    \n",
        "    このように学習時の入力データと、推論時の入力データの分布の違いによって生じるモデルの性能低下はデータドリフトによるものと分類することができます。\n",
        "\n",
        "- コンセプトドリフト\n",
        "    \n",
        "    アプリの操作ログから、アプリ内での滞在時間を予測をするモデルを考えてみましょう。UIを変更した場合、過去のトラキングデータから、滞在時間を予測するモデルはうまく機能しないことが考えられます。これは、学習時の入力と出力の関係性と推論時の入力と出力の関係性に変化が生じているからです。\n",
        "\n",
        "    このように、入力データと目的変数の関係性の変化によって生じるモデルの性能低下はコンセプトドリフトによるものと分類することができます。\n",
        "\n",
        "|  名称  |  定義  | \n",
        "| ---- | ---- | \n",
        "|  データドリフト  |  入力データに変化  | \n",
        "|  コンセプトドリフト  |  入力データと目的変数の関係性に変化  | \n",
        "\n",
        "これらを、より詳細に学びたい場合は、<a href='#6'> Appendix</a>にあるCourseraのMLOpsの講義や[こちらの記事](https://towardsdatascience.com/machine-learning-in-production-why-you-should-care-about-data-and-concept-drift-d96d0bc907fb)が詳しいです。\n",
        "\n",
        "これらの問題に対処する一つの方法として、モデルの継続的な更新を行う基盤が整えることが挙げられます。\n",
        "\n",
        "\n"
      ]
    },
    {
      "cell_type": "markdown",
      "metadata": {
        "id": "7wQk0egagCva"
      },
      "source": [
        "<a name='0-5'></a>\n",
        "### 機械学習プロダクトの開発はデータサイエンティストだけの仕事ではない！\n",
        "\n",
        "データサイエンティストはモデルを開発し、コードを書いたら仕事が終わりだと考えています。しかし、実際には作成したモデルをデプロイし、精度の検証・モデルの再構築などを行う、継続的な更新が必要です。通常では後者により多くの労力をかける必要があります。\n",
        "\n",
        "また、ビジネスとして機械学習を活用するためには、いかに機械学習プロダクトをマネジメントするかが重要になります。今回のGCIでは開発・運用に焦点を当てて紹介するためプロジェクトマネジメントについては扱いませんが、ビジネスとして機械学習の活用を考える場合は課題の設定の仕方、KPIの設定、利用可能なデータなどから考える必要があります。\n",
        "\n"
      ]
    },
    {
      "cell_type": "markdown",
      "metadata": {
        "id": "MyLGMb19WcDu"
      },
      "source": [
        "MLOpsとはデータの前処理、モデル開発、デプロイ、運用などを含む機械学習のライフサイクルを管理する技術/知見のことです。\n",
        "\n",
        "これまでに学んだ機械学習のコードは機械学習プロダクトを開発する中では小さな一要素にしかすぎず、他にも自動化、データ収集、データ検証、特徴量エンジニアリング、テストとデバッグ、リソース管理、モデル評価、プロセス管理とメタデータ管理、インフラ設計、監視などが存在します。\n",
        "\n",
        "よって、実社会で機械学習プロダクトを開発・運用するには、単に機械学習のコードを書くだけではなく、様々な技術を駆使する必要があります。\n",
        "\n",
        "<img src='https://drive.google.com/uc?export=view&id=1vmiWmdXltlyv3Fm7wqwpgjcGTMdhWndh' name=MLシステムの要素.png width=100%>\n",
        "\n",
        "**[Hidden Technical Debt in Machine Learning Systems](https://papers.nips.cc/paper/2015/file/86df7dcfd896fcaf2674f757a2463eba-Paper.pdf)からの抜粋**\n",
        "\n",
        "\n",
        "<br>\n",
        "\n",
        "\n"
      ]
    },
    {
      "cell_type": "markdown",
      "metadata": {
        "id": "P4dfQ15_dy-5"
      },
      "source": [
        "機械学習プロダクトのデータの収集からモデルのデプロイまでを手動で行う一連の流れは、一般的にこのように構成されます。\n",
        "\n",
        "\n",
        "<img src='https://drive.google.com/uc?export=view&id=1YPC4EwDTet69eE7QASwlwVSjMLeedjD9' name=MLOps手動プロセス.png width=100%>\n",
        "\n",
        "\n",
        "ここでは、これまでのコンペティションで行ったのと同じように、データの前処理→モデルの学習→評価までの流れは、ノートブックのようなインタラクティブな環境で行われます。\n",
        "\n",
        "この手動プロセスは本番環境には、pickleファイルのようなモデルのアーキテクチャをデプロイし、継続的なモデルの更新やリアルタイムのパフォーマンスの監視は想定していません。\n",
        "\n",
        "<br>\n",
        "<br>\n",
        "\n",
        "より自動化された機械学習プロダクトの一連の流れは、このように構成されています。\n",
        "<img src='https://drive.google.com/uc?export=view&id=1nH89B0oUmI9rmiRYr8OVmut47joFTdUO' name=MLOps半自動プロセス.png width=100%>\n",
        "\n",
        "画像引用：[MLOps: 機械学習における継続的デリバリーと自動化のパイプライン図２、図３より引用](https://cloud.google.com/architecture/mlops-continuous-delivery-and-automation-pipelines-in-machine-learning)\n",
        "\n",
        "\n",
        "ここでは、背景が青色の部分は自動化されており、開発環境での機械学習パイプラインのソースコードを本番環境にデプロイします。\n",
        "\n",
        "パイプラインのコードを本番環境にデプロイすることで、モデルの継続的なトレーニングを実行することができるようになり、新しいデータへの適合や再トレーニングするプロセスを自動化することが可能になります。\n",
        "\n",
        "機械学習のビジネス適用が進む中で、モデルを継続的に管理、運用するという新たなチャレンジがでてきており、このテーマでの議論もよく聞かれるようになってきました。\n",
        "近年では、MLOps勉強会や専門のカンファレンスも開催され、熱気にあふれています。\n",
        "\n",
        "この章ではMLOpsの構成要素である**実験管理**と**ワークフロー管理**の基礎を簡単な実装とともに紹介していきます。"
      ]
    },
    {
      "cell_type": "markdown",
      "metadata": {
        "id": "hXupSxhLiqDd"
      },
      "source": [
        "<a name='1'></a>\n",
        "## 1. ハイパーパラメータのチューニング"
      ]
    },
    {
      "cell_type": "markdown",
      "metadata": {
        "id": "q6b7xkQM2Dsd"
      },
      "source": [
        "ここでは、実験管理で活用するハイパーパラメータの自動チューニングについて紹介します。"
      ]
    },
    {
      "cell_type": "markdown",
      "metadata": {
        "id": "_mUW5rpWluae"
      },
      "source": [
        "<a name='1-1'></a>\n",
        "### 1.1 ハイパーパラメータ"
      ]
    },
    {
      "cell_type": "markdown",
      "metadata": {
        "id": "6uVtKOAL1q6s"
      },
      "source": [
        "#### パラメータとは\n",
        "\n",
        "\n",
        "機械学習を行う上でのパラメータとは、モデルの学習や与えられたデータから得られるものです。そのため、モデルに内在する設定変数であり、その値はデータから推定することができます。\n",
        "\n",
        "- モデルで予測を行う際に必要になるもの\n",
        "- これらの値は問題に対するモデルのスキルを定義する\n",
        "- データから推定や学習される\n",
        "- 多くの場合、手動で設定されない\n",
        "- 多くの場合、学習したモデルの一部として保存される\n",
        "\n",
        "パラメータは機械学習アルゴリズムの鍵であり、過去の学習データから学習されたモデルの一部です。モデルを仮説としてパラメータを特定のデータに合わせて仮説を調整するものと考えることができます。多くの場合、パラメータは最適化アルゴリズムを使い推定されます。\n",
        "\n",
        "例) ガウス分布などの変数の分布における平均や標準偏差、ニューラルネットワークの重みやロジスティック回帰の係数\n"
      ]
    },
    {
      "cell_type": "markdown",
      "metadata": {
        "id": "3NmU1uS4s8sH"
      },
      "source": [
        "#### ハイパーパラメータとは\n",
        "\n",
        "機械学習を行う上でのハイパーパラメータとは、モデル作成の設計図のようなもので、あらかじめ決めておくものです。そのため、モデル外部の設定でありデータから値を推定しないことが基本です。\n",
        "\n",
        "- 多くの場合、モデルのパラメータを推定するプロセスで使用される\n",
        "- 多くの場合、手動で値を決める\n",
        "- 多くの場合、ヒューリスティックに設定できる\n",
        "- 特定の予測モデリング問題のためにチューニングを行うことが多い\n",
        "\n",
        "特定の問題に対するモデルのハイパーパラメータのベストな値を知ることはできません。経験則を使用したり、他の問題に対して使った値を流用したりや試行錯誤しながら、ベストな値の探索を行います。\n",
        "\n",
        "例)ニューラルネットワークを学習させるための学習率、層の数、K近傍法におけるK"
      ]
    },
    {
      "cell_type": "markdown",
      "metadata": {
        "id": "1rntc6jk0OvI"
      },
      "source": [
        "参考) ランダムフォレスト(RandomForestClassifier)のハイパーパラメータ\n",
        "[ランダムフォレストの公式ドキュメント](https://scikit-learn.org/stable/modules/generated/sklearn.ensemble.RandomForestClassifier.html)\n",
        "\n",
        "\n",
        "|  パラメータ  |  型  |  デフォルトの値  | \n",
        "| ---- | ---- | ---- | \n",
        "|  n_estimator  |  int  |  100  | \n",
        "|  criterion  |  {“gini”, “entropy”}  |  ”gini”  | \n",
        "|  max_depth  |  int  |  None  |  \n",
        "|  min_samples_split  |  int or float  |  2  |  \n",
        "|  min_samples_leaf  |  int or float  |  1  |  \n",
        "|  min_weight_fraction_leaf  |  float  |  0.0  |  \n",
        "|  max_features  |  {“auto”, “sqrt”, “log2”}, <br> int or float  |  ”auto”  |  \n",
        "|  max_leaf_nodes  |  int  |  None  |  \n",
        "|  min_impurity_decrease  |  float  |  0.0  |  \n",
        "|  min_impurity_split  |  float  |  None  | \n",
        "|  bootstrap  |  bool  |  True  |  \n",
        "|  oob_score  |  bool  |  False  |  \n",
        "|  n_jobs  |  int  |  None  |  \n",
        "|  random_state  |  int  |  None  |  \n",
        "|  verbose  |  int  |  0  |  \n",
        "|  warm_start  |  bool  |  False  |  \n",
        "|  class_weight  |  {“balanced”, “balanced_subsample”}, <br> dict or list of dicts  |  None  |  \n",
        "|  ccp_alpha  |  non-negative float  |  0.0  | \n",
        "|  max_samples  |  int or float  |  None  |  \n",
        "\n"
      ]
    },
    {
      "cell_type": "markdown",
      "metadata": {
        "id": "D6Kil02D6biE"
      },
      "source": [
        "ハイパーパラメータは学習器によっても異なり、数も少なくないため、ハイパーパラメータを手動で調整するのは難しいといえます。\n",
        "\n",
        "そこで、ハイパーパラメータの自動チューニングが用いられます。"
      ]
    },
    {
      "cell_type": "markdown",
      "metadata": {
        "id": "-V01NCvjvvvo"
      },
      "source": [
        "#### ハイパーパラメータのチューニング方法\n",
        "\n",
        "- グリッドサーチ\n",
        "  \n",
        "    指定した探索空間を格子状に区切り、格子点上の値の全組み合わせから適切なハイパーパラメータを探索する手法。\n",
        "\n",
        "    例)パラメータX(1, 3, 5)とパラメータY(0, 1)の二つのパラメータのチューニングを行う場合は、3*2 = 6通りの探索を行います。\n",
        "\n",
        "- ランダムサーチ\n",
        "\n",
        "    指定した探索空間からあらかじめ決めた回数パラメータを無作為に抽出して適切なハイパーパラメータを探索する手法。\n",
        "    \n",
        "    グリッドサーチの格子上から回数制限を設けて無作為に抽出を行うため探索空間が大きくても対応できます。\n",
        "\n",
        "- ベイズ最適化\n",
        "\n",
        "    一つ前の探索結果を基に次に探索する場所を決めていくことでヒューリスティックに適切なハイパーパラメータを探索する手法。\n",
        "\n",
        "\n",
        "そのなかでも今回はOptunaを使ったベイズ最適化によるハイパーパラメータチューニングを紹介します。\n"
      ]
    },
    {
      "cell_type": "markdown",
      "metadata": {
        "id": "qHV0DiLamNPH"
      },
      "source": [
        "<a name='1-2'></a>\n",
        "### 1.2 Optuna"
      ]
    },
    {
      "cell_type": "markdown",
      "metadata": {
        "id": "38yX_AYomojV"
      },
      "source": [
        "\n",
        "\n",
        "OptunaはPreferred Networks(PFN)の提供するハイパーパラメータ自動最適化フレームワークです。\n",
        "\n",
        "Optunaは次の試行で試すべきハイパーパラメータの値を決めるために、完了している試行の履歴を用いています。そこまでで完了している試行の履歴に基づき、有望そうな領域を推定し、その領域の値を実際に試すということを繰り返します。そして、新たに得られた結果に基づき、更に有望そうな領域を推定します。具体的には、Tree-structured Parzen Estimator というベイズ最適化アルゴリズムの一種を用いています。\n",
        "\n",
        "【PFNのOptuna紹介ページ】https://www.preferred.jp/ja/projects/optuna/\n",
        "\n",
        "【公式ページ】https://optuna.org/\n",
        "\n",
        "【開発者ブログ】https://tech.preferred.jp/ja/blog/optuna-release/\n",
        "\n",
        "【チュートリアル】https://optuna.readthedocs.io/en/stable/tutorial/index.html\n",
        "\n",
        "【GitHub】https://github.com/optuna/optuna\n",
        "\n"
      ]
    },
    {
      "cell_type": "markdown",
      "metadata": {
        "id": "cMWDoD5QmiYB"
      },
      "source": [
        "[主な機能](https://optuna.readthedocs.io/en/stable/)\n",
        "\n",
        "- [軽量で汎用性が高く、プラットフォームに依存せず使用できる](https://optuna.readthedocs.io/en/stable/tutorial/10_key_features/001_first.html)\n",
        "\n",
        "    OptunaはPythonで記述されており、依存関係はほとんどないのでPythonが使えればすぐに使える。\n",
        "\n",
        "- [Pythonらしいコードで探索空間の定義が行える](https://optuna.readthedocs.io/en/stable/tutorial/10_key_features/002_configurations.html)\n",
        "\n",
        "    Optunaでは条件分岐やループなど、Pythonでおなじみの構文を使って検索空間を定義できます。\n",
        "\n",
        "- [効率的な最適化アルゴリズム](https://optuna.readthedocs.io/en/stable/tutorial/10_key_features/003_efficient_optimization_algorithms.html)\n",
        "\n",
        "    ハイパーパラメータのサンプリングや、不必要なトライアルの効率的な刈り込みなどを行うため無駄の少ないハイパーパラメータ探索が行える。\n",
        "\n",
        "- [簡単に並列化を行える](https://optuna.readthedocs.io/en/stable/tutorial/10_key_features/004_distributed.html)\n",
        "\n",
        "    コードをほとんど変更することなく、数十人から数百人の規模の研究を行うことができます。Kubernetesでも使うことができる。\n",
        "\n",
        "- [すばやく可視化できる](https://optuna.readthedocs.io/en/stable/tutorial/10_key_features/005_visualization.html)\n",
        "\n",
        "    様々なプロッティング機能により、最適化の履歴を確認できるので、最適化の結果を視覚的に分析することができる。\n"
      ]
    },
    {
      "cell_type": "markdown",
      "metadata": {
        "id": "8O9-lEgDiyUZ"
      },
      "source": [
        "<a name='1-3'></a>\n",
        "### 1.3 RandomForestのハイパーパラメータをOptunaでチューニング\n"
      ]
    },
    {
      "cell_type": "markdown",
      "metadata": {
        "id": "iAn_RWlwg31N"
      },
      "source": [
        "Optunaを使ってRandomForestの3つのハイパーパラメータ(max_depth、min_samples_leaf、max_features)を実際にチューニングを行いその効果を確認しましょう。"
      ]
    },
    {
      "cell_type": "code",
      "metadata": {
        "id": "DtdfKUxiLU5Y",
        "colab": {
          "base_uri": "https://localhost:8080/"
        },
        "outputId": "717433a1-2181-4539-fc2d-17c5ca945460"
      },
      "source": [
        "# optunaのインストール\n",
        "!pip install optuna"
      ],
      "execution_count": null,
      "outputs": [
        {
          "output_type": "stream",
          "text": [
            "Collecting optuna\n",
            "\u001b[?25l  Downloading https://files.pythonhosted.org/packages/1a/18/b49ca91cf592747e19f2d333c2a86cd7c81895b922a5a09adf6335471576/optuna-2.8.0-py3-none-any.whl (301kB)\n",
            "\u001b[K     |████████████████████████████████| 307kB 4.3MB/s \n",
            "\u001b[?25hCollecting cmaes>=0.8.2\n",
            "  Downloading https://files.pythonhosted.org/packages/01/1f/43b01223a0366171f474320c6e966c39a11587287f098a5f09809b45e05f/cmaes-0.8.2-py3-none-any.whl\n",
            "Collecting cliff\n",
            "\u001b[?25l  Downloading https://files.pythonhosted.org/packages/87/11/aea1cacbd4cf8262809c4d6f95dcb3f2802594de1f51c5bd454d69bf15c5/cliff-3.8.0-py3-none-any.whl (80kB)\n",
            "\u001b[K     |████████████████████████████████| 81kB 9.3MB/s \n",
            "\u001b[?25hRequirement already satisfied: numpy in /usr/local/lib/python3.7/dist-packages (from optuna) (1.19.5)\n",
            "Requirement already satisfied: packaging>=20.0 in /usr/local/lib/python3.7/dist-packages (from optuna) (20.9)\n",
            "Requirement already satisfied: sqlalchemy>=1.1.0 in /usr/local/lib/python3.7/dist-packages (from optuna) (1.4.18)\n",
            "Requirement already satisfied: scipy!=1.4.0 in /usr/local/lib/python3.7/dist-packages (from optuna) (1.4.1)\n",
            "Requirement already satisfied: tqdm in /usr/local/lib/python3.7/dist-packages (from optuna) (4.41.1)\n",
            "Collecting colorlog\n",
            "  Downloading https://files.pythonhosted.org/packages/32/e6/e9ddc6fa1104fda718338b341e4b3dc31cd8039ab29e52fc73b508515361/colorlog-5.0.1-py2.py3-none-any.whl\n",
            "Collecting alembic\n",
            "\u001b[?25l  Downloading https://files.pythonhosted.org/packages/d5/80/ef186e599a57d0e4cb78fc76e0bfc2e6953fa9716b2a5cf2de0117ed8eb5/alembic-1.6.5-py2.py3-none-any.whl (164kB)\n",
            "\u001b[K     |████████████████████████████████| 174kB 31.6MB/s \n",
            "\u001b[?25hCollecting pbr!=2.1.0,>=2.0.0\n",
            "\u001b[?25l  Downloading https://files.pythonhosted.org/packages/18/e0/1d4702dd81121d04a477c272d47ee5b6bc970d1a0990b11befa275c55cf2/pbr-5.6.0-py2.py3-none-any.whl (111kB)\n",
            "\u001b[K     |████████████████████████████████| 112kB 30.2MB/s \n",
            "\u001b[?25hRequirement already satisfied: PrettyTable>=0.7.2 in /usr/local/lib/python3.7/dist-packages (from cliff->optuna) (2.1.0)\n",
            "Collecting stevedore>=2.0.1\n",
            "\u001b[?25l  Downloading https://files.pythonhosted.org/packages/d4/49/b602307aeac3df3384ff1fcd05da9c0376c622a6c48bb5325f28ab165b57/stevedore-3.3.0-py3-none-any.whl (49kB)\n",
            "\u001b[K     |████████████████████████████████| 51kB 6.9MB/s \n",
            "\u001b[?25hCollecting cmd2>=1.0.0\n",
            "\u001b[?25l  Downloading https://files.pythonhosted.org/packages/f8/3b/fe4cb62694423bf22b7e7c9678cab731706cb79850845019cbc1ecaf7093/cmd2-2.1.0-py3-none-any.whl (140kB)\n",
            "\u001b[K     |████████████████████████████████| 143kB 27.0MB/s \n",
            "\u001b[?25hRequirement already satisfied: PyYAML>=3.12 in /usr/local/lib/python3.7/dist-packages (from cliff->optuna) (3.13)\n",
            "Requirement already satisfied: pyparsing>=2.1.0 in /usr/local/lib/python3.7/dist-packages (from cliff->optuna) (2.4.7)\n",
            "Requirement already satisfied: greenlet!=0.4.17; python_version >= \"3\" in /usr/local/lib/python3.7/dist-packages (from sqlalchemy>=1.1.0->optuna) (1.1.0)\n",
            "Requirement already satisfied: importlib-metadata; python_version < \"3.8\" in /usr/local/lib/python3.7/dist-packages (from sqlalchemy>=1.1.0->optuna) (4.5.0)\n",
            "Requirement already satisfied: python-dateutil in /usr/local/lib/python3.7/dist-packages (from alembic->optuna) (2.8.1)\n",
            "Collecting python-editor>=0.3\n",
            "  Downloading https://files.pythonhosted.org/packages/c6/d3/201fc3abe391bbae6606e6f1d598c15d367033332bd54352b12f35513717/python_editor-1.0.4-py3-none-any.whl\n",
            "Collecting Mako\n",
            "\u001b[?25l  Downloading https://files.pythonhosted.org/packages/f3/54/dbc07fbb20865d3b78fdb7cf7fa713e2cba4f87f71100074ef2dc9f9d1f7/Mako-1.1.4-py2.py3-none-any.whl (75kB)\n",
            "\u001b[K     |████████████████████████████████| 81kB 8.6MB/s \n",
            "\u001b[?25hRequirement already satisfied: wcwidth in /usr/local/lib/python3.7/dist-packages (from PrettyTable>=0.7.2->cliff->optuna) (0.2.5)\n",
            "Collecting colorama>=0.3.7\n",
            "  Downloading https://files.pythonhosted.org/packages/44/98/5b86278fbbf250d239ae0ecb724f8572af1c91f4a11edf4d36a206189440/colorama-0.4.4-py2.py3-none-any.whl\n",
            "Requirement already satisfied: typing-extensions; python_version < \"3.8\" in /usr/local/lib/python3.7/dist-packages (from cmd2>=1.0.0->cliff->optuna) (3.7.4.3)\n",
            "Collecting pyperclip>=1.6\n",
            "  Downloading https://files.pythonhosted.org/packages/a7/2c/4c64579f847bd5d539803c8b909e54ba087a79d01bb3aba433a95879a6c5/pyperclip-1.8.2.tar.gz\n",
            "Requirement already satisfied: attrs>=16.3.0 in /usr/local/lib/python3.7/dist-packages (from cmd2>=1.0.0->cliff->optuna) (21.2.0)\n",
            "Requirement already satisfied: zipp>=0.5 in /usr/local/lib/python3.7/dist-packages (from importlib-metadata; python_version < \"3.8\"->sqlalchemy>=1.1.0->optuna) (3.4.1)\n",
            "Requirement already satisfied: six>=1.5 in /usr/local/lib/python3.7/dist-packages (from python-dateutil->alembic->optuna) (1.15.0)\n",
            "Requirement already satisfied: MarkupSafe>=0.9.2 in /usr/local/lib/python3.7/dist-packages (from Mako->alembic->optuna) (2.0.1)\n",
            "Building wheels for collected packages: pyperclip\n",
            "  Building wheel for pyperclip (setup.py) ... \u001b[?25l\u001b[?25hdone\n",
            "  Created wheel for pyperclip: filename=pyperclip-1.8.2-cp37-none-any.whl size=11136 sha256=379edf688b8a86e5c253f3f2697dadce56c0539eb9594d4bc6081a0b30d41aac\n",
            "  Stored in directory: /root/.cache/pip/wheels/25/af/b8/3407109267803f4015e1ee2ff23be0c8c19ce4008665931ee1\n",
            "Successfully built pyperclip\n",
            "Installing collected packages: cmaes, pbr, stevedore, colorama, pyperclip, cmd2, cliff, colorlog, python-editor, Mako, alembic, optuna\n",
            "Successfully installed Mako-1.1.4 alembic-1.6.5 cliff-3.8.0 cmaes-0.8.2 cmd2-2.1.0 colorama-0.4.4 colorlog-5.0.1 optuna-2.8.0 pbr-5.6.0 pyperclip-1.8.2 python-editor-1.0.4 stevedore-3.3.0\n"
          ],
          "name": "stdout"
        }
      ]
    },
    {
      "cell_type": "markdown",
      "metadata": {
        "id": "mj32_E80zTEm"
      },
      "source": [
        "まず、Scikit-Learnで準備されている乳がんのデータを使い、ランダムフォレストを使い悪性(malignant)と良性(benign)を0/1で二値分類を行ってみましょう。\n",
        "\n"
      ]
    },
    {
      "cell_type": "code",
      "metadata": {
        "colab": {
          "base_uri": "https://localhost:8080/"
        },
        "id": "ObcjjfeQjC9p",
        "outputId": "22df2cce-17c0-4bb5-f9fa-9e970d0120df"
      },
      "source": [
        "import numpy as np\n",
        "import pandas as pd\n",
        "from sklearn.model_selection import train_test_split\n",
        "from sklearn.datasets import load_breast_cancer\n",
        "\n",
        "# 乳がんデータの準備\n",
        "cancer = load_breast_cancer()\n",
        "X = pd.DataFrame(cancer.data, columns = cancer.feature_names)\n",
        "y = cancer.target\n",
        "\n",
        "# 学習データと検証データに分ける\n",
        "X_train, X_test, y_train, y_test = train_test_split(X, y, test_size=0.25, random_state=42)\n",
        "\n",
        "# データ数と欠損値の確認\n",
        "print(f'X_train: {X_train.shape}')\n",
        "print(f'y_train: {len(y_train)}')\n",
        "print(f'欠損値: {X_train.isnull().sum().sum()+np.isnan(y_train).sum()}\\n')\n",
        "print(f'X_test: {X_test.shape}')\n",
        "print(f'y_test: {len(y_test)}')\n",
        "print(f'欠損値: {X_test.isnull().sum().sum()+np.isnan(y_test).sum()}')"
      ],
      "execution_count": null,
      "outputs": [
        {
          "output_type": "stream",
          "text": [
            "X_train: (426, 30)\n",
            "y_train: 426\n",
            "欠損値: 0\n",
            "\n",
            "X_test: (143, 30)\n",
            "y_test: 143\n",
            "欠損値: 0\n"
          ],
          "name": "stdout"
        }
      ]
    },
    {
      "cell_type": "code",
      "metadata": {
        "colab": {
          "base_uri": "https://localhost:8080/",
          "height": 132
        },
        "id": "40kN_PyDZSZa",
        "outputId": "4c550e3d-997b-497b-fe34-8b0ff476cb1a"
      },
      "source": [
        "# ランダムに1行取得して列と値の確認\n",
        "X_test.sample(1)"
      ],
      "execution_count": null,
      "outputs": [
        {
          "output_type": "execute_result",
          "data": {
            "text/html": [
              "<div>\n",
              "<style scoped>\n",
              "    .dataframe tbody tr th:only-of-type {\n",
              "        vertical-align: middle;\n",
              "    }\n",
              "\n",
              "    .dataframe tbody tr th {\n",
              "        vertical-align: top;\n",
              "    }\n",
              "\n",
              "    .dataframe thead th {\n",
              "        text-align: right;\n",
              "    }\n",
              "</style>\n",
              "<table border=\"1\" class=\"dataframe\">\n",
              "  <thead>\n",
              "    <tr style=\"text-align: right;\">\n",
              "      <th></th>\n",
              "      <th>mean radius</th>\n",
              "      <th>mean texture</th>\n",
              "      <th>mean perimeter</th>\n",
              "      <th>mean area</th>\n",
              "      <th>mean smoothness</th>\n",
              "      <th>mean compactness</th>\n",
              "      <th>mean concavity</th>\n",
              "      <th>mean concave points</th>\n",
              "      <th>mean symmetry</th>\n",
              "      <th>mean fractal dimension</th>\n",
              "      <th>radius error</th>\n",
              "      <th>texture error</th>\n",
              "      <th>perimeter error</th>\n",
              "      <th>area error</th>\n",
              "      <th>smoothness error</th>\n",
              "      <th>compactness error</th>\n",
              "      <th>concavity error</th>\n",
              "      <th>concave points error</th>\n",
              "      <th>symmetry error</th>\n",
              "      <th>fractal dimension error</th>\n",
              "      <th>worst radius</th>\n",
              "      <th>worst texture</th>\n",
              "      <th>worst perimeter</th>\n",
              "      <th>worst area</th>\n",
              "      <th>worst smoothness</th>\n",
              "      <th>worst compactness</th>\n",
              "      <th>worst concavity</th>\n",
              "      <th>worst concave points</th>\n",
              "      <th>worst symmetry</th>\n",
              "      <th>worst fractal dimension</th>\n",
              "    </tr>\n",
              "  </thead>\n",
              "  <tbody>\n",
              "    <tr>\n",
              "      <th>158</th>\n",
              "      <td>12.06</td>\n",
              "      <td>12.74</td>\n",
              "      <td>76.84</td>\n",
              "      <td>448.6</td>\n",
              "      <td>0.09311</td>\n",
              "      <td>0.05241</td>\n",
              "      <td>0.01972</td>\n",
              "      <td>0.01963</td>\n",
              "      <td>0.159</td>\n",
              "      <td>0.05907</td>\n",
              "      <td>0.1822</td>\n",
              "      <td>0.7285</td>\n",
              "      <td>1.171</td>\n",
              "      <td>13.25</td>\n",
              "      <td>0.005528</td>\n",
              "      <td>0.009789</td>\n",
              "      <td>0.008342</td>\n",
              "      <td>0.006273</td>\n",
              "      <td>0.01465</td>\n",
              "      <td>0.00253</td>\n",
              "      <td>13.14</td>\n",
              "      <td>18.41</td>\n",
              "      <td>84.08</td>\n",
              "      <td>532.8</td>\n",
              "      <td>0.1275</td>\n",
              "      <td>0.1232</td>\n",
              "      <td>0.08636</td>\n",
              "      <td>0.07025</td>\n",
              "      <td>0.2514</td>\n",
              "      <td>0.07898</td>\n",
              "    </tr>\n",
              "  </tbody>\n",
              "</table>\n",
              "</div>"
            ],
            "text/plain": [
              "     mean radius  mean texture  ...  worst symmetry  worst fractal dimension\n",
              "158        12.06         12.74  ...          0.2514                  0.07898\n",
              "\n",
              "[1 rows x 30 columns]"
            ]
          },
          "metadata": {
            "tags": []
          },
          "execution_count": 3
        }
      ]
    },
    {
      "cell_type": "code",
      "metadata": {
        "colab": {
          "base_uri": "https://localhost:8080/"
        },
        "id": "Y8YXP7cdjird",
        "outputId": "4b11b076-22d6-4a5a-e5fe-b3b2694c0eba"
      },
      "source": [
        "print(f'目的変数の種類: {np.unique(y_train)}')"
      ],
      "execution_count": null,
      "outputs": [
        {
          "output_type": "stream",
          "text": [
            "目的変数の種類: [0 1]\n"
          ],
          "name": "stdout"
        }
      ]
    },
    {
      "cell_type": "markdown",
      "metadata": {
        "id": "pV8ufUtF4p2k"
      },
      "source": [
        "ハイパーパラメータをデフォルトの値のまま変えずにランダムフォレストに学習させ予測を行ってみます。"
      ]
    },
    {
      "cell_type": "code",
      "metadata": {
        "colab": {
          "base_uri": "https://localhost:8080/"
        },
        "id": "ZBodW-K4jitl",
        "outputId": "87a6cf38-9bf0-4180-82c4-ff1672c080dd"
      },
      "source": [
        "from sklearn.ensemble import RandomForestClassifier\n",
        "from sklearn.metrics import accuracy_score\n",
        "\n",
        "base_model = RandomForestClassifier(random_state=42)\n",
        "base_model.fit(X_train, y_train)\n",
        "print('ランダムフォレスト(チューニングなし)')\n",
        "print(f'学習データに対する正答率: {accuracy_score(y_train, base_model.predict(X_train))}')\n",
        "print(f'検証データに対する正答率: {accuracy_score(y_test, base_model.predict(X_test))}')"
      ],
      "execution_count": null,
      "outputs": [
        {
          "output_type": "stream",
          "text": [
            "ランダムフォレスト(チューニングなし)\n",
            "学習データに対する正答率: 1.0\n",
            "検証データに対する正答率: 0.965034965034965\n"
          ],
          "name": "stdout"
        }
      ]
    },
    {
      "cell_type": "markdown",
      "metadata": {
        "id": "CErp8s9b4pb_"
      },
      "source": [
        "ここからは、Optunaを使ってランダムフォレストのハイパーパラメータの探索を行っていきます。\n",
        "\n",
        "Optunaでは、目的関数を設定することで指定したハイパーパラメータを任意の範囲で探索することができます。\n",
        "\n",
        "以下のコードのようにOptunaでは、以下の関数を定義して目的関数を設定できます。\n",
        "\n",
        "今回は、分類の評価指標を正答率(accuracy)として、それを最大化するように作成しています。"
      ]
    },
    {
      "cell_type": "code",
      "metadata": {
        "colab": {
          "base_uri": "https://localhost:8080/"
        },
        "id": "Rt0Nv00Ojiu2",
        "outputId": "591c5f80-b19d-4f56-fc68-b16ea7a8958b"
      },
      "source": [
        "import optuna\n",
        "\n",
        "def objective(trial):\n",
        "\n",
        "    param_grid_rfc = {\n",
        "        # max_depthを[2, 16]から探索\n",
        "        \"max_depth\": trial.suggest_int(\"max_depth\", 2, 16),\n",
        "        # min_samples_leafを[2, 4]から探索\n",
        "        \"min_samples_leaf\": trial.suggest_int(\"min_samples_leaf\", 2, 4),\n",
        "        # max_featuresを[2, 30(特徴量の最大数)]から探索\n",
        "        'max_features': trial.suggest_int(\"max_features\", 2, X_test.shape[1]),\n",
        "        \"random_state\": 42\n",
        "    }\n",
        "\n",
        "    model = RandomForestClassifier(**param_grid_rfc)\n",
        "    model.fit(X_train, y_train)\n",
        "    return accuracy_score(y_test, model.predict(X_test))\n",
        "\n",
        "# directionで目的変数の最大化を指定しています\n",
        "# samplerでOptunaの乱数を固定しています\n",
        "study = optuna.create_study(direction='maximize', sampler=optuna.samplers.RandomSampler(seed=42))\n",
        "# n_trialsで探索を行う回数を指定しています\n",
        "study.optimize(objective, n_trials=20)\n",
        "print(f'探索したパラメータ: {study.best_params}')\n",
        "# print(f': {study.best_value}')\n",
        "rfc_best_param_v1 = study.best_params"
      ],
      "execution_count": null,
      "outputs": [
        {
          "output_type": "stream",
          "text": [
            "\u001b[32m[I 2021-06-15 08:51:44,520]\u001b[0m A new study created in memory with name: no-name-46480a53-3951-4547-baa7-61eecf72f5c2\u001b[0m\n",
            "\u001b[32m[I 2021-06-15 08:51:44,886]\u001b[0m Trial 0 finished with value: 0.965034965034965 and parameters: {'max_depth': 7, 'min_samples_leaf': 4, 'max_features': 23}. Best is trial 0 with value: 0.965034965034965.\u001b[0m\n",
            "\u001b[32m[I 2021-06-15 08:51:45,097]\u001b[0m Trial 1 finished with value: 0.965034965034965 and parameters: {'max_depth': 10, 'min_samples_leaf': 2, 'max_features': 6}. Best is trial 0 with value: 0.965034965034965.\u001b[0m\n",
            "\u001b[32m[I 2021-06-15 08:51:45,351]\u001b[0m Trial 2 finished with value: 0.965034965034965 and parameters: {'max_depth': 2, 'min_samples_leaf': 4, 'max_features': 19}. Best is trial 0 with value: 0.965034965034965.\u001b[0m\n",
            "\u001b[32m[I 2021-06-15 08:51:45,804]\u001b[0m Trial 3 finished with value: 0.958041958041958 and parameters: {'max_depth': 12, 'min_samples_leaf': 2, 'max_features': 30}. Best is trial 0 with value: 0.965034965034965.\u001b[0m\n",
            "\u001b[32m[I 2021-06-15 08:51:46,020]\u001b[0m Trial 4 finished with value: 0.965034965034965 and parameters: {'max_depth': 14, 'min_samples_leaf': 2, 'max_features': 7}. Best is trial 0 with value: 0.965034965034965.\u001b[0m\n",
            "\u001b[32m[I 2021-06-15 08:51:46,326]\u001b[0m Trial 5 finished with value: 0.965034965034965 and parameters: {'max_depth': 4, 'min_samples_leaf': 2, 'max_features': 17}. Best is trial 0 with value: 0.965034965034965.\u001b[0m\n",
            "\u001b[32m[I 2021-06-15 08:51:46,672]\u001b[0m Trial 6 finished with value: 0.958041958041958 and parameters: {'max_depth': 8, 'min_samples_leaf': 2, 'max_features': 19}. Best is trial 0 with value: 0.965034965034965.\u001b[0m\n",
            "\u001b[32m[I 2021-06-15 08:51:46,925]\u001b[0m Trial 7 finished with value: 0.965034965034965 and parameters: {'max_depth': 4, 'min_samples_leaf': 2, 'max_features': 12}. Best is trial 0 with value: 0.965034965034965.\u001b[0m\n",
            "\u001b[32m[I 2021-06-15 08:51:47,148]\u001b[0m Trial 8 finished with value: 0.972027972027972 and parameters: {'max_depth': 8, 'min_samples_leaf': 4, 'max_features': 7}. Best is trial 8 with value: 0.972027972027972.\u001b[0m\n",
            "\u001b[32m[I 2021-06-15 08:51:47,334]\u001b[0m Trial 9 finished with value: 0.972027972027972 and parameters: {'max_depth': 9, 'min_samples_leaf': 3, 'max_features': 3}. Best is trial 8 with value: 0.972027972027972.\u001b[0m\n",
            "\u001b[32m[I 2021-06-15 08:51:47,509]\u001b[0m Trial 10 finished with value: 0.965034965034965 and parameters: {'max_depth': 11, 'min_samples_leaf': 2, 'max_features': 3}. Best is trial 8 with value: 0.972027972027972.\u001b[0m\n",
            "\u001b[32m[I 2021-06-15 08:51:47,883]\u001b[0m Trial 11 finished with value: 0.958041958041958 and parameters: {'max_depth': 16, 'min_samples_leaf': 4, 'max_features': 25}. Best is trial 8 with value: 0.972027972027972.\u001b[0m\n",
            "\u001b[32m[I 2021-06-15 08:51:48,239]\u001b[0m Trial 12 finished with value: 0.965034965034965 and parameters: {'max_depth': 6, 'min_samples_leaf': 2, 'max_features': 21}. Best is trial 8 with value: 0.972027972027972.\u001b[0m\n",
            "\u001b[32m[I 2021-06-15 08:51:48,549]\u001b[0m Trial 13 finished with value: 0.958041958041958 and parameters: {'max_depth': 8, 'min_samples_leaf': 2, 'max_features': 16}. Best is trial 8 with value: 0.972027972027972.\u001b[0m\n",
            "\u001b[32m[I 2021-06-15 08:51:48,742]\u001b[0m Trial 14 finished with value: 0.965034965034965 and parameters: {'max_depth': 2, 'min_samples_leaf': 4, 'max_features': 9}. Best is trial 8 with value: 0.972027972027972.\u001b[0m\n",
            "\u001b[32m[I 2021-06-15 08:51:49,086]\u001b[0m Trial 15 finished with value: 0.958041958041958 and parameters: {'max_depth': 11, 'min_samples_leaf': 2, 'max_features': 17}. Best is trial 8 with value: 0.972027972027972.\u001b[0m\n",
            "\u001b[32m[I 2021-06-15 08:51:49,544]\u001b[0m Trial 16 finished with value: 0.958041958041958 and parameters: {'max_depth': 10, 'min_samples_leaf': 2, 'max_features': 30}. Best is trial 8 with value: 0.972027972027972.\u001b[0m\n",
            "\u001b[32m[I 2021-06-15 08:51:49,945]\u001b[0m Trial 17 finished with value: 0.958041958041958 and parameters: {'max_depth': 13, 'min_samples_leaf': 4, 'max_features': 27}. Best is trial 8 with value: 0.972027972027972.\u001b[0m\n",
            "\u001b[32m[I 2021-06-15 08:51:50,130]\u001b[0m Trial 18 finished with value: 0.972027972027972 and parameters: {'max_depth': 10, 'min_samples_leaf': 4, 'max_features': 4}. Best is trial 8 with value: 0.972027972027972.\u001b[0m\n",
            "\u001b[32m[I 2021-06-15 08:51:50,372]\u001b[0m Trial 19 finished with value: 0.965034965034965 and parameters: {'max_depth': 4, 'min_samples_leaf': 2, 'max_features': 11}. Best is trial 8 with value: 0.972027972027972.\u001b[0m\n"
          ],
          "name": "stderr"
        },
        {
          "output_type": "stream",
          "text": [
            "探索したパラメータ: {'max_depth': 8, 'min_samples_leaf': 4, 'max_features': 7}\n"
          ],
          "name": "stdout"
        }
      ]
    },
    {
      "cell_type": "code",
      "metadata": {
        "colab": {
          "base_uri": "https://localhost:8080/",
          "height": 542
        },
        "id": "T6OpQx939tet",
        "outputId": "988176b2-7d74-49fe-91ad-9dae39ff7cd9"
      },
      "source": [
        "from optuna.visualization import plot_optimization_history\n",
        "# 最適化の様子の視覚化\n",
        "plot_optimization_history(study)"
      ],
      "execution_count": null,
      "outputs": [
        {
          "output_type": "display_data",
          "data": {
            "text/html": [
              "<html>\n",
              "<head><meta charset=\"utf-8\" /></head>\n",
              "<body>\n",
              "    <div>\n",
              "            <script src=\"https://cdnjs.cloudflare.com/ajax/libs/mathjax/2.7.5/MathJax.js?config=TeX-AMS-MML_SVG\"></script><script type=\"text/javascript\">if (window.MathJax) {MathJax.Hub.Config({SVG: {font: \"STIX-Web\"}});}</script>\n",
              "                <script type=\"text/javascript\">window.PlotlyConfig = {MathJaxConfig: 'local'};</script>\n",
              "        <script src=\"https://cdn.plot.ly/plotly-latest.min.js\"></script>    \n",
              "            <div id=\"76eb2a6b-df0e-40dd-8b98-40ea9757e30a\" class=\"plotly-graph-div\" style=\"height:525px; width:100%;\"></div>\n",
              "            <script type=\"text/javascript\">\n",
              "                \n",
              "                    window.PLOTLYENV=window.PLOTLYENV || {};\n",
              "                    \n",
              "                if (document.getElementById(\"76eb2a6b-df0e-40dd-8b98-40ea9757e30a\")) {\n",
              "                    Plotly.newPlot(\n",
              "                        '76eb2a6b-df0e-40dd-8b98-40ea9757e30a',\n",
              "                        [{\"mode\": \"markers\", \"name\": \"Objective Value\", \"type\": \"scatter\", \"x\": [0, 1, 2, 3, 4, 5, 6, 7, 8, 9, 10, 11, 12, 13, 14, 15, 16, 17, 18, 19], \"y\": [0.965034965034965, 0.965034965034965, 0.965034965034965, 0.958041958041958, 0.965034965034965, 0.965034965034965, 0.958041958041958, 0.965034965034965, 0.972027972027972, 0.972027972027972, 0.965034965034965, 0.958041958041958, 0.965034965034965, 0.958041958041958, 0.965034965034965, 0.958041958041958, 0.958041958041958, 0.958041958041958, 0.972027972027972, 0.965034965034965]}, {\"name\": \"Best Value\", \"type\": \"scatter\", \"x\": [0, 1, 2, 3, 4, 5, 6, 7, 8, 9, 10, 11, 12, 13, 14, 15, 16, 17, 18, 19], \"y\": [0.965034965034965, 0.965034965034965, 0.965034965034965, 0.965034965034965, 0.965034965034965, 0.965034965034965, 0.965034965034965, 0.965034965034965, 0.972027972027972, 0.972027972027972, 0.972027972027972, 0.972027972027972, 0.972027972027972, 0.972027972027972, 0.972027972027972, 0.972027972027972, 0.972027972027972, 0.972027972027972, 0.972027972027972, 0.972027972027972]}],\n",
              "                        {\"template\": {\"data\": {\"bar\": [{\"error_x\": {\"color\": \"#2a3f5f\"}, \"error_y\": {\"color\": \"#2a3f5f\"}, \"marker\": {\"line\": {\"color\": \"#E5ECF6\", \"width\": 0.5}}, \"type\": \"bar\"}], \"barpolar\": [{\"marker\": {\"line\": {\"color\": \"#E5ECF6\", \"width\": 0.5}}, \"type\": \"barpolar\"}], \"carpet\": [{\"aaxis\": {\"endlinecolor\": \"#2a3f5f\", \"gridcolor\": \"white\", \"linecolor\": \"white\", \"minorgridcolor\": \"white\", \"startlinecolor\": \"#2a3f5f\"}, \"baxis\": {\"endlinecolor\": \"#2a3f5f\", \"gridcolor\": \"white\", \"linecolor\": \"white\", \"minorgridcolor\": \"white\", \"startlinecolor\": \"#2a3f5f\"}, \"type\": \"carpet\"}], \"choropleth\": [{\"colorbar\": {\"outlinewidth\": 0, \"ticks\": \"\"}, \"type\": \"choropleth\"}], \"contour\": [{\"colorbar\": {\"outlinewidth\": 0, \"ticks\": \"\"}, \"colorscale\": [[0.0, \"#0d0887\"], [0.1111111111111111, \"#46039f\"], [0.2222222222222222, \"#7201a8\"], [0.3333333333333333, \"#9c179e\"], [0.4444444444444444, \"#bd3786\"], [0.5555555555555556, \"#d8576b\"], [0.6666666666666666, \"#ed7953\"], [0.7777777777777778, \"#fb9f3a\"], [0.8888888888888888, \"#fdca26\"], [1.0, \"#f0f921\"]], \"type\": \"contour\"}], \"contourcarpet\": [{\"colorbar\": {\"outlinewidth\": 0, \"ticks\": \"\"}, \"type\": \"contourcarpet\"}], \"heatmap\": [{\"colorbar\": {\"outlinewidth\": 0, \"ticks\": \"\"}, \"colorscale\": [[0.0, \"#0d0887\"], [0.1111111111111111, \"#46039f\"], [0.2222222222222222, \"#7201a8\"], [0.3333333333333333, \"#9c179e\"], [0.4444444444444444, \"#bd3786\"], [0.5555555555555556, \"#d8576b\"], [0.6666666666666666, \"#ed7953\"], [0.7777777777777778, \"#fb9f3a\"], [0.8888888888888888, \"#fdca26\"], [1.0, \"#f0f921\"]], \"type\": \"heatmap\"}], \"heatmapgl\": [{\"colorbar\": {\"outlinewidth\": 0, \"ticks\": \"\"}, \"colorscale\": [[0.0, \"#0d0887\"], [0.1111111111111111, \"#46039f\"], [0.2222222222222222, \"#7201a8\"], [0.3333333333333333, \"#9c179e\"], [0.4444444444444444, \"#bd3786\"], [0.5555555555555556, \"#d8576b\"], [0.6666666666666666, \"#ed7953\"], [0.7777777777777778, \"#fb9f3a\"], [0.8888888888888888, \"#fdca26\"], [1.0, \"#f0f921\"]], \"type\": \"heatmapgl\"}], \"histogram\": [{\"marker\": {\"colorbar\": {\"outlinewidth\": 0, \"ticks\": \"\"}}, \"type\": \"histogram\"}], \"histogram2d\": [{\"colorbar\": {\"outlinewidth\": 0, \"ticks\": \"\"}, \"colorscale\": [[0.0, \"#0d0887\"], [0.1111111111111111, \"#46039f\"], [0.2222222222222222, \"#7201a8\"], [0.3333333333333333, \"#9c179e\"], [0.4444444444444444, \"#bd3786\"], [0.5555555555555556, \"#d8576b\"], [0.6666666666666666, \"#ed7953\"], [0.7777777777777778, \"#fb9f3a\"], [0.8888888888888888, \"#fdca26\"], [1.0, \"#f0f921\"]], \"type\": \"histogram2d\"}], \"histogram2dcontour\": [{\"colorbar\": {\"outlinewidth\": 0, \"ticks\": \"\"}, \"colorscale\": [[0.0, \"#0d0887\"], [0.1111111111111111, \"#46039f\"], [0.2222222222222222, \"#7201a8\"], [0.3333333333333333, \"#9c179e\"], [0.4444444444444444, \"#bd3786\"], [0.5555555555555556, \"#d8576b\"], [0.6666666666666666, \"#ed7953\"], [0.7777777777777778, \"#fb9f3a\"], [0.8888888888888888, \"#fdca26\"], [1.0, \"#f0f921\"]], \"type\": \"histogram2dcontour\"}], \"mesh3d\": [{\"colorbar\": {\"outlinewidth\": 0, \"ticks\": \"\"}, \"type\": \"mesh3d\"}], \"parcoords\": [{\"line\": {\"colorbar\": {\"outlinewidth\": 0, \"ticks\": \"\"}}, \"type\": \"parcoords\"}], \"pie\": [{\"automargin\": true, \"type\": \"pie\"}], \"scatter\": [{\"marker\": {\"colorbar\": {\"outlinewidth\": 0, \"ticks\": \"\"}}, \"type\": \"scatter\"}], \"scatter3d\": [{\"line\": {\"colorbar\": {\"outlinewidth\": 0, \"ticks\": \"\"}}, \"marker\": {\"colorbar\": {\"outlinewidth\": 0, \"ticks\": \"\"}}, \"type\": \"scatter3d\"}], \"scattercarpet\": [{\"marker\": {\"colorbar\": {\"outlinewidth\": 0, \"ticks\": \"\"}}, \"type\": \"scattercarpet\"}], \"scattergeo\": [{\"marker\": {\"colorbar\": {\"outlinewidth\": 0, \"ticks\": \"\"}}, \"type\": \"scattergeo\"}], \"scattergl\": [{\"marker\": {\"colorbar\": {\"outlinewidth\": 0, \"ticks\": \"\"}}, \"type\": \"scattergl\"}], \"scattermapbox\": [{\"marker\": {\"colorbar\": {\"outlinewidth\": 0, \"ticks\": \"\"}}, \"type\": \"scattermapbox\"}], \"scatterpolar\": [{\"marker\": {\"colorbar\": {\"outlinewidth\": 0, \"ticks\": \"\"}}, \"type\": \"scatterpolar\"}], \"scatterpolargl\": [{\"marker\": {\"colorbar\": {\"outlinewidth\": 0, \"ticks\": \"\"}}, \"type\": \"scatterpolargl\"}], \"scatterternary\": [{\"marker\": {\"colorbar\": {\"outlinewidth\": 0, \"ticks\": \"\"}}, \"type\": \"scatterternary\"}], \"surface\": [{\"colorbar\": {\"outlinewidth\": 0, \"ticks\": \"\"}, \"colorscale\": [[0.0, \"#0d0887\"], [0.1111111111111111, \"#46039f\"], [0.2222222222222222, \"#7201a8\"], [0.3333333333333333, \"#9c179e\"], [0.4444444444444444, \"#bd3786\"], [0.5555555555555556, \"#d8576b\"], [0.6666666666666666, \"#ed7953\"], [0.7777777777777778, \"#fb9f3a\"], [0.8888888888888888, \"#fdca26\"], [1.0, \"#f0f921\"]], \"type\": \"surface\"}], \"table\": [{\"cells\": {\"fill\": {\"color\": \"#EBF0F8\"}, \"line\": {\"color\": \"white\"}}, \"header\": {\"fill\": {\"color\": \"#C8D4E3\"}, \"line\": {\"color\": \"white\"}}, \"type\": \"table\"}]}, \"layout\": {\"annotationdefaults\": {\"arrowcolor\": \"#2a3f5f\", \"arrowhead\": 0, \"arrowwidth\": 1}, \"coloraxis\": {\"colorbar\": {\"outlinewidth\": 0, \"ticks\": \"\"}}, \"colorscale\": {\"diverging\": [[0, \"#8e0152\"], [0.1, \"#c51b7d\"], [0.2, \"#de77ae\"], [0.3, \"#f1b6da\"], [0.4, \"#fde0ef\"], [0.5, \"#f7f7f7\"], [0.6, \"#e6f5d0\"], [0.7, \"#b8e186\"], [0.8, \"#7fbc41\"], [0.9, \"#4d9221\"], [1, \"#276419\"]], \"sequential\": [[0.0, \"#0d0887\"], [0.1111111111111111, \"#46039f\"], [0.2222222222222222, \"#7201a8\"], [0.3333333333333333, \"#9c179e\"], [0.4444444444444444, \"#bd3786\"], [0.5555555555555556, \"#d8576b\"], [0.6666666666666666, \"#ed7953\"], [0.7777777777777778, \"#fb9f3a\"], [0.8888888888888888, \"#fdca26\"], [1.0, \"#f0f921\"]], \"sequentialminus\": [[0.0, \"#0d0887\"], [0.1111111111111111, \"#46039f\"], [0.2222222222222222, \"#7201a8\"], [0.3333333333333333, \"#9c179e\"], [0.4444444444444444, \"#bd3786\"], [0.5555555555555556, \"#d8576b\"], [0.6666666666666666, \"#ed7953\"], [0.7777777777777778, \"#fb9f3a\"], [0.8888888888888888, \"#fdca26\"], [1.0, \"#f0f921\"]]}, \"colorway\": [\"#636efa\", \"#EF553B\", \"#00cc96\", \"#ab63fa\", \"#FFA15A\", \"#19d3f3\", \"#FF6692\", \"#B6E880\", \"#FF97FF\", \"#FECB52\"], \"font\": {\"color\": \"#2a3f5f\"}, \"geo\": {\"bgcolor\": \"white\", \"lakecolor\": \"white\", \"landcolor\": \"#E5ECF6\", \"showlakes\": true, \"showland\": true, \"subunitcolor\": \"white\"}, \"hoverlabel\": {\"align\": \"left\"}, \"hovermode\": \"closest\", \"mapbox\": {\"style\": \"light\"}, \"paper_bgcolor\": \"white\", \"plot_bgcolor\": \"#E5ECF6\", \"polar\": {\"angularaxis\": {\"gridcolor\": \"white\", \"linecolor\": \"white\", \"ticks\": \"\"}, \"bgcolor\": \"#E5ECF6\", \"radialaxis\": {\"gridcolor\": \"white\", \"linecolor\": \"white\", \"ticks\": \"\"}}, \"scene\": {\"xaxis\": {\"backgroundcolor\": \"#E5ECF6\", \"gridcolor\": \"white\", \"gridwidth\": 2, \"linecolor\": \"white\", \"showbackground\": true, \"ticks\": \"\", \"zerolinecolor\": \"white\"}, \"yaxis\": {\"backgroundcolor\": \"#E5ECF6\", \"gridcolor\": \"white\", \"gridwidth\": 2, \"linecolor\": \"white\", \"showbackground\": true, \"ticks\": \"\", \"zerolinecolor\": \"white\"}, \"zaxis\": {\"backgroundcolor\": \"#E5ECF6\", \"gridcolor\": \"white\", \"gridwidth\": 2, \"linecolor\": \"white\", \"showbackground\": true, \"ticks\": \"\", \"zerolinecolor\": \"white\"}}, \"shapedefaults\": {\"line\": {\"color\": \"#2a3f5f\"}}, \"ternary\": {\"aaxis\": {\"gridcolor\": \"white\", \"linecolor\": \"white\", \"ticks\": \"\"}, \"baxis\": {\"gridcolor\": \"white\", \"linecolor\": \"white\", \"ticks\": \"\"}, \"bgcolor\": \"#E5ECF6\", \"caxis\": {\"gridcolor\": \"white\", \"linecolor\": \"white\", \"ticks\": \"\"}}, \"title\": {\"x\": 0.05}, \"xaxis\": {\"automargin\": true, \"gridcolor\": \"white\", \"linecolor\": \"white\", \"ticks\": \"\", \"title\": {\"standoff\": 15}, \"zerolinecolor\": \"white\", \"zerolinewidth\": 2}, \"yaxis\": {\"automargin\": true, \"gridcolor\": \"white\", \"linecolor\": \"white\", \"ticks\": \"\", \"title\": {\"standoff\": 15}, \"zerolinecolor\": \"white\", \"zerolinewidth\": 2}}}, \"title\": {\"text\": \"Optimization History Plot\"}, \"xaxis\": {\"title\": {\"text\": \"#Trials\"}}, \"yaxis\": {\"title\": {\"text\": \"Objective Value\"}}},\n",
              "                        {\"responsive\": true}\n",
              "                    ).then(function(){\n",
              "                            \n",
              "var gd = document.getElementById('76eb2a6b-df0e-40dd-8b98-40ea9757e30a');\n",
              "var x = new MutationObserver(function (mutations, observer) {{\n",
              "        var display = window.getComputedStyle(gd).display;\n",
              "        if (!display || display === 'none') {{\n",
              "            console.log([gd, 'removed!']);\n",
              "            Plotly.purge(gd);\n",
              "            observer.disconnect();\n",
              "        }}\n",
              "}});\n",
              "\n",
              "// Listen for the removal of the full notebook cells\n",
              "var notebookContainer = gd.closest('#notebook-container');\n",
              "if (notebookContainer) {{\n",
              "    x.observe(notebookContainer, {childList: true});\n",
              "}}\n",
              "\n",
              "// Listen for the clearing of the current output cell\n",
              "var outputEl = gd.closest('.output');\n",
              "if (outputEl) {{\n",
              "    x.observe(outputEl, {childList: true});\n",
              "}}\n",
              "\n",
              "                        })\n",
              "                };\n",
              "                \n",
              "            </script>\n",
              "        </div>\n",
              "</body>\n",
              "</html>"
            ]
          },
          "metadata": {
            "tags": []
          }
        }
      ]
    },
    {
      "cell_type": "code",
      "metadata": {
        "colab": {
          "base_uri": "https://localhost:8080/",
          "height": 542
        },
        "id": "KLEeoRCU-1AB",
        "outputId": "42f83128-6ec2-425e-a9f4-be10b14b749a"
      },
      "source": [
        "from optuna.visualization import plot_contour\n",
        "# ハイパーパラメータ間の関係の視覚化\n",
        "# 追加\n",
        "plot_contour(study)"
      ],
      "execution_count": null,
      "outputs": [
        {
          "output_type": "display_data",
          "data": {
            "text/html": [
              "<html>\n",
              "<head><meta charset=\"utf-8\" /></head>\n",
              "<body>\n",
              "    <div>\n",
              "            <script src=\"https://cdnjs.cloudflare.com/ajax/libs/mathjax/2.7.5/MathJax.js?config=TeX-AMS-MML_SVG\"></script><script type=\"text/javascript\">if (window.MathJax) {MathJax.Hub.Config({SVG: {font: \"STIX-Web\"}});}</script>\n",
              "                <script type=\"text/javascript\">window.PlotlyConfig = {MathJaxConfig: 'local'};</script>\n",
              "        <script src=\"https://cdn.plot.ly/plotly-latest.min.js\"></script>    \n",
              "            <div id=\"252b0698-49f2-4f37-858b-7c9d18504cd4\" class=\"plotly-graph-div\" style=\"height:525px; width:100%;\"></div>\n",
              "            <script type=\"text/javascript\">\n",
              "                \n",
              "                    window.PLOTLYENV=window.PLOTLYENV || {};\n",
              "                    \n",
              "                if (document.getElementById(\"252b0698-49f2-4f37-858b-7c9d18504cd4\")) {\n",
              "                    Plotly.newPlot(\n",
              "                        '252b0698-49f2-4f37-858b-7c9d18504cd4',\n",
              "                        [{\"type\": \"scatter\", \"xaxis\": \"x\", \"yaxis\": \"y\"}, {\"colorbar\": {\"title\": {\"text\": \"Objective Value\"}}, \"colorscale\": [[0, \"rgb(5,10,172)\"], [0.35, \"rgb(40,60,190)\"], [0.5, \"rgb(70,100,245)\"], [0.6, \"rgb(90,120,245)\"], [0.7, \"rgb(106,137,247)\"], [1, \"rgb(220,220,220)\"]], \"connectgaps\": true, \"contours\": {\"coloring\": \"heatmap\"}, \"hoverinfo\": \"none\", \"line\": {\"smoothing\": 1.3}, \"reversescale\": false, \"showscale\": true, \"type\": \"contour\", \"x\": [1.2999999999999998, 2, 4, 6, 7, 8, 9, 10, 11, 12, 13, 14, 16, 16.7], \"xaxis\": \"x4\", \"y\": [1.65, 3, 4, 6, 7, 9, 11, 12, 16, 17, 19, 21, 23, 25, 27, 30, 31.35], \"yaxis\": \"y4\", \"z\": [[null, null, null, null, null, null, null, null, null, null, null, null, null, null], [null, null, null, null, null, null, 0.972027972027972, null, 0.965034965034965, null, null, null, null, null], [null, null, null, null, null, null, null, 0.972027972027972, null, null, null, null, null, null], [null, null, null, null, null, null, null, 0.965034965034965, null, null, null, null, null, null], [null, null, null, null, null, 0.972027972027972, null, null, null, null, null, 0.965034965034965, null, null], [null, 0.965034965034965, null, null, null, null, null, null, null, null, null, null, null, null], [null, null, 0.965034965034965, null, null, null, null, null, null, null, null, null, null, null], [null, null, 0.965034965034965, null, null, null, null, null, null, null, null, null, null, null], [null, null, null, null, null, 0.958041958041958, null, null, null, null, null, null, null, null], [null, null, 0.965034965034965, null, null, null, null, null, 0.958041958041958, null, null, null, null, null], [null, 0.965034965034965, null, null, null, 0.958041958041958, null, null, null, null, null, null, null, null], [null, null, null, 0.965034965034965, null, null, null, null, null, null, null, null, null, null], [null, null, null, null, 0.965034965034965, null, null, null, null, null, null, null, null, null], [null, null, null, null, null, null, null, null, null, null, null, null, 0.958041958041958, null], [null, null, null, null, null, null, null, null, null, null, 0.958041958041958, null, null, null], [null, null, null, null, null, null, null, 0.958041958041958, null, 0.958041958041958, null, null, null, null], [null, null, null, null, null, null, null, null, null, null, null, null, null, null]]}, {\"marker\": {\"color\": \"black\", \"line\": {\"color\": \"Grey\", \"width\": 0.5}}, \"mode\": \"markers\", \"showlegend\": false, \"type\": \"scatter\", \"x\": [7, 10, 2, 12, 14, 4, 8, 4, 8, 9, 11, 16, 6, 8, 2, 11, 10, 13, 10, 4], \"xaxis\": \"x4\", \"y\": [23, 6, 19, 30, 7, 17, 19, 12, 7, 3, 3, 25, 21, 16, 9, 17, 30, 27, 4, 11], \"yaxis\": \"y4\"}, {\"colorbar\": {\"title\": {\"text\": \"Objective Value\"}}, \"colorscale\": [[0, \"rgb(5,10,172)\"], [0.35, \"rgb(40,60,190)\"], [0.5, \"rgb(70,100,245)\"], [0.6, \"rgb(90,120,245)\"], [0.7, \"rgb(106,137,247)\"], [1, \"rgb(220,220,220)\"]], \"connectgaps\": true, \"contours\": {\"coloring\": \"heatmap\"}, \"hoverinfo\": \"none\", \"line\": {\"smoothing\": 1.3}, \"reversescale\": false, \"showscale\": false, \"type\": \"contour\", \"x\": [1.2999999999999998, 2, 4, 6, 7, 8, 9, 10, 11, 12, 13, 14, 16, 16.7], \"xaxis\": \"x7\", \"y\": [1.9, 2, 3, 4, 4.1], \"yaxis\": \"y7\", \"z\": [[null, null, null, null, null, null, null, null, null, null, null, null, null, null], [null, null, 0.965034965034965, 0.965034965034965, null, 0.958041958041958, null, 0.958041958041958, 0.958041958041958, 0.958041958041958, null, 0.965034965034965, null, null], [null, null, null, null, null, null, 0.972027972027972, null, null, null, null, null, null, null], [null, 0.965034965034965, null, null, 0.965034965034965, 0.972027972027972, null, 0.972027972027972, null, null, 0.958041958041958, null, 0.958041958041958, null], [null, null, null, null, null, null, null, null, null, null, null, null, null, null]]}, {\"marker\": {\"color\": \"black\", \"line\": {\"color\": \"Grey\", \"width\": 0.5}}, \"mode\": \"markers\", \"showlegend\": false, \"type\": \"scatter\", \"x\": [7, 10, 2, 12, 14, 4, 8, 4, 8, 9, 11, 16, 6, 8, 2, 11, 10, 13, 10, 4], \"xaxis\": \"x7\", \"y\": [4, 2, 4, 2, 2, 2, 2, 2, 4, 3, 2, 4, 2, 2, 4, 2, 2, 4, 4, 2], \"yaxis\": \"y7\"}, {\"colorbar\": {\"title\": {\"text\": \"Objective Value\"}}, \"colorscale\": [[0, \"rgb(5,10,172)\"], [0.35, \"rgb(40,60,190)\"], [0.5, \"rgb(70,100,245)\"], [0.6, \"rgb(90,120,245)\"], [0.7, \"rgb(106,137,247)\"], [1, \"rgb(220,220,220)\"]], \"connectgaps\": true, \"contours\": {\"coloring\": \"heatmap\"}, \"hoverinfo\": \"none\", \"line\": {\"smoothing\": 1.3}, \"reversescale\": false, \"showscale\": false, \"type\": \"contour\", \"x\": [1.65, 3, 4, 6, 7, 9, 11, 12, 16, 17, 19, 21, 23, 25, 27, 30, 31.35], \"xaxis\": \"x2\", \"y\": [1.2999999999999998, 2, 4, 6, 7, 8, 9, 10, 11, 12, 13, 14, 16, 16.7], \"yaxis\": \"y2\", \"z\": [[null, null, null, null, null, null, null, null, null, null, null, null, null, null, null, null, null], [null, null, null, null, null, 0.965034965034965, null, null, null, null, 0.965034965034965, null, null, null, null, null, null], [null, null, null, null, null, null, 0.965034965034965, 0.965034965034965, null, 0.965034965034965, null, null, null, null, null, null, null], [null, null, null, null, null, null, null, null, null, null, null, 0.965034965034965, null, null, null, null, null], [null, null, null, null, null, null, null, null, null, null, null, null, 0.965034965034965, null, null, null, null], [null, null, null, null, 0.972027972027972, null, null, null, 0.958041958041958, null, 0.958041958041958, null, null, null, null, null, null], [null, 0.972027972027972, null, null, null, null, null, null, null, null, null, null, null, null, null, null, null], [null, null, 0.972027972027972, 0.965034965034965, null, null, null, null, null, null, null, null, null, null, null, 0.958041958041958, null], [null, 0.965034965034965, null, null, null, null, null, null, null, 0.958041958041958, null, null, null, null, null, null, null], [null, null, null, null, null, null, null, null, null, null, null, null, null, null, null, 0.958041958041958, null], [null, null, null, null, null, null, null, null, null, null, null, null, null, null, 0.958041958041958, null, null], [null, null, null, null, 0.965034965034965, null, null, null, null, null, null, null, null, null, null, null, null], [null, null, null, null, null, null, null, null, null, null, null, null, null, 0.958041958041958, null, null, null], [null, null, null, null, null, null, null, null, null, null, null, null, null, null, null, null, null]]}, {\"marker\": {\"color\": \"black\", \"line\": {\"color\": \"Grey\", \"width\": 0.5}}, \"mode\": \"markers\", \"showlegend\": false, \"type\": \"scatter\", \"x\": [23, 6, 19, 30, 7, 17, 19, 12, 7, 3, 3, 25, 21, 16, 9, 17, 30, 27, 4, 11], \"xaxis\": \"x2\", \"y\": [7, 10, 2, 12, 14, 4, 8, 4, 8, 9, 11, 16, 6, 8, 2, 11, 10, 13, 10, 4], \"yaxis\": \"y2\"}, {\"type\": \"scatter\", \"xaxis\": \"x5\", \"yaxis\": \"y5\"}, {\"colorbar\": {\"title\": {\"text\": \"Objective Value\"}}, \"colorscale\": [[0, \"rgb(5,10,172)\"], [0.35, \"rgb(40,60,190)\"], [0.5, \"rgb(70,100,245)\"], [0.6, \"rgb(90,120,245)\"], [0.7, \"rgb(106,137,247)\"], [1, \"rgb(220,220,220)\"]], \"connectgaps\": true, \"contours\": {\"coloring\": \"heatmap\"}, \"hoverinfo\": \"none\", \"line\": {\"smoothing\": 1.3}, \"reversescale\": false, \"showscale\": false, \"type\": \"contour\", \"x\": [1.65, 3, 4, 6, 7, 9, 11, 12, 16, 17, 19, 21, 23, 25, 27, 30, 31.35], \"xaxis\": \"x8\", \"y\": [1.9, 2, 3, 4, 4.1], \"yaxis\": \"y8\", \"z\": [[null, null, null, null, null, null, null, null, null, null, null, null, null, null, null, null, null], [null, 0.965034965034965, null, 0.965034965034965, 0.965034965034965, null, 0.965034965034965, 0.965034965034965, 0.958041958041958, 0.958041958041958, 0.958041958041958, 0.965034965034965, null, null, null, 0.958041958041958, null], [null, 0.972027972027972, null, null, null, null, null, null, null, null, null, null, null, null, null, null, null], [null, null, 0.972027972027972, null, 0.972027972027972, 0.965034965034965, null, null, null, null, 0.965034965034965, null, 0.965034965034965, 0.958041958041958, 0.958041958041958, null, null], [null, null, null, null, null, null, null, null, null, null, null, null, null, null, null, null, null]]}, {\"marker\": {\"color\": \"black\", \"line\": {\"color\": \"Grey\", \"width\": 0.5}}, \"mode\": \"markers\", \"showlegend\": false, \"type\": \"scatter\", \"x\": [23, 6, 19, 30, 7, 17, 19, 12, 7, 3, 3, 25, 21, 16, 9, 17, 30, 27, 4, 11], \"xaxis\": \"x8\", \"y\": [4, 2, 4, 2, 2, 2, 2, 2, 4, 3, 2, 4, 2, 2, 4, 2, 2, 4, 4, 2], \"yaxis\": \"y8\"}, {\"colorbar\": {\"title\": {\"text\": \"Objective Value\"}}, \"colorscale\": [[0, \"rgb(5,10,172)\"], [0.35, \"rgb(40,60,190)\"], [0.5, \"rgb(70,100,245)\"], [0.6, \"rgb(90,120,245)\"], [0.7, \"rgb(106,137,247)\"], [1, \"rgb(220,220,220)\"]], \"connectgaps\": true, \"contours\": {\"coloring\": \"heatmap\"}, \"hoverinfo\": \"none\", \"line\": {\"smoothing\": 1.3}, \"reversescale\": false, \"showscale\": false, \"type\": \"contour\", \"x\": [1.9, 2, 3, 4, 4.1], \"xaxis\": \"x3\", \"y\": [1.2999999999999998, 2, 4, 6, 7, 8, 9, 10, 11, 12, 13, 14, 16, 16.7], \"yaxis\": \"y3\", \"z\": [[null, null, null, null, null], [null, null, null, 0.965034965034965, null], [null, 0.965034965034965, null, null, null], [null, 0.965034965034965, null, null, null], [null, null, null, 0.965034965034965, null], [null, 0.958041958041958, null, 0.972027972027972, null], [null, null, 0.972027972027972, null, null], [null, 0.958041958041958, null, 0.972027972027972, null], [null, 0.958041958041958, null, null, null], [null, 0.958041958041958, null, null, null], [null, null, null, 0.958041958041958, null], [null, 0.965034965034965, null, null, null], [null, null, null, 0.958041958041958, null], [null, null, null, null, null]]}, {\"marker\": {\"color\": \"black\", \"line\": {\"color\": \"Grey\", \"width\": 0.5}}, \"mode\": \"markers\", \"showlegend\": false, \"type\": \"scatter\", \"x\": [4, 2, 4, 2, 2, 2, 2, 2, 4, 3, 2, 4, 2, 2, 4, 2, 2, 4, 4, 2], \"xaxis\": \"x3\", \"y\": [7, 10, 2, 12, 14, 4, 8, 4, 8, 9, 11, 16, 6, 8, 2, 11, 10, 13, 10, 4], \"yaxis\": \"y3\"}, {\"colorbar\": {\"title\": {\"text\": \"Objective Value\"}}, \"colorscale\": [[0, \"rgb(5,10,172)\"], [0.35, \"rgb(40,60,190)\"], [0.5, \"rgb(70,100,245)\"], [0.6, \"rgb(90,120,245)\"], [0.7, \"rgb(106,137,247)\"], [1, \"rgb(220,220,220)\"]], \"connectgaps\": true, \"contours\": {\"coloring\": \"heatmap\"}, \"hoverinfo\": \"none\", \"line\": {\"smoothing\": 1.3}, \"reversescale\": false, \"showscale\": false, \"type\": \"contour\", \"x\": [1.9, 2, 3, 4, 4.1], \"xaxis\": \"x6\", \"y\": [1.65, 3, 4, 6, 7, 9, 11, 12, 16, 17, 19, 21, 23, 25, 27, 30, 31.35], \"yaxis\": \"y6\", \"z\": [[null, null, null, null, null], [null, 0.965034965034965, 0.972027972027972, null, null], [null, null, null, 0.972027972027972, null], [null, 0.965034965034965, null, null, null], [null, 0.965034965034965, null, 0.972027972027972, null], [null, null, null, 0.965034965034965, null], [null, 0.965034965034965, null, null, null], [null, 0.965034965034965, null, null, null], [null, 0.958041958041958, null, null, null], [null, 0.958041958041958, null, null, null], [null, 0.958041958041958, null, 0.965034965034965, null], [null, 0.965034965034965, null, null, null], [null, null, null, 0.965034965034965, null], [null, null, null, 0.958041958041958, null], [null, null, null, 0.958041958041958, null], [null, 0.958041958041958, null, null, null], [null, null, null, null, null]]}, {\"marker\": {\"color\": \"black\", \"line\": {\"color\": \"Grey\", \"width\": 0.5}}, \"mode\": \"markers\", \"showlegend\": false, \"type\": \"scatter\", \"x\": [4, 2, 4, 2, 2, 2, 2, 2, 4, 3, 2, 4, 2, 2, 4, 2, 2, 4, 4, 2], \"xaxis\": \"x6\", \"y\": [23, 6, 19, 30, 7, 17, 19, 12, 7, 3, 3, 25, 21, 16, 9, 17, 30, 27, 4, 11], \"yaxis\": \"y6\"}, {\"type\": \"scatter\", \"xaxis\": \"x9\", \"yaxis\": \"y9\"}],\n",
              "                        {\"template\": {\"data\": {\"bar\": [{\"error_x\": {\"color\": \"#2a3f5f\"}, \"error_y\": {\"color\": \"#2a3f5f\"}, \"marker\": {\"line\": {\"color\": \"#E5ECF6\", \"width\": 0.5}}, \"type\": \"bar\"}], \"barpolar\": [{\"marker\": {\"line\": {\"color\": \"#E5ECF6\", \"width\": 0.5}}, \"type\": \"barpolar\"}], \"carpet\": [{\"aaxis\": {\"endlinecolor\": \"#2a3f5f\", \"gridcolor\": \"white\", \"linecolor\": \"white\", \"minorgridcolor\": \"white\", \"startlinecolor\": \"#2a3f5f\"}, \"baxis\": {\"endlinecolor\": \"#2a3f5f\", \"gridcolor\": \"white\", \"linecolor\": \"white\", \"minorgridcolor\": \"white\", \"startlinecolor\": \"#2a3f5f\"}, \"type\": \"carpet\"}], \"choropleth\": [{\"colorbar\": {\"outlinewidth\": 0, \"ticks\": \"\"}, \"type\": \"choropleth\"}], \"contour\": [{\"colorbar\": {\"outlinewidth\": 0, \"ticks\": \"\"}, \"colorscale\": [[0.0, \"#0d0887\"], [0.1111111111111111, \"#46039f\"], [0.2222222222222222, \"#7201a8\"], [0.3333333333333333, \"#9c179e\"], [0.4444444444444444, \"#bd3786\"], [0.5555555555555556, \"#d8576b\"], [0.6666666666666666, \"#ed7953\"], [0.7777777777777778, \"#fb9f3a\"], [0.8888888888888888, \"#fdca26\"], [1.0, \"#f0f921\"]], \"type\": \"contour\"}], \"contourcarpet\": [{\"colorbar\": {\"outlinewidth\": 0, \"ticks\": \"\"}, \"type\": \"contourcarpet\"}], \"heatmap\": [{\"colorbar\": {\"outlinewidth\": 0, \"ticks\": \"\"}, \"colorscale\": [[0.0, \"#0d0887\"], [0.1111111111111111, \"#46039f\"], [0.2222222222222222, \"#7201a8\"], [0.3333333333333333, \"#9c179e\"], [0.4444444444444444, \"#bd3786\"], [0.5555555555555556, \"#d8576b\"], [0.6666666666666666, \"#ed7953\"], [0.7777777777777778, \"#fb9f3a\"], [0.8888888888888888, \"#fdca26\"], [1.0, \"#f0f921\"]], \"type\": \"heatmap\"}], \"heatmapgl\": [{\"colorbar\": {\"outlinewidth\": 0, \"ticks\": \"\"}, \"colorscale\": [[0.0, \"#0d0887\"], [0.1111111111111111, \"#46039f\"], [0.2222222222222222, \"#7201a8\"], [0.3333333333333333, \"#9c179e\"], [0.4444444444444444, \"#bd3786\"], [0.5555555555555556, \"#d8576b\"], [0.6666666666666666, \"#ed7953\"], [0.7777777777777778, \"#fb9f3a\"], [0.8888888888888888, \"#fdca26\"], [1.0, \"#f0f921\"]], \"type\": \"heatmapgl\"}], \"histogram\": [{\"marker\": {\"colorbar\": {\"outlinewidth\": 0, \"ticks\": \"\"}}, \"type\": \"histogram\"}], \"histogram2d\": [{\"colorbar\": {\"outlinewidth\": 0, \"ticks\": \"\"}, \"colorscale\": [[0.0, \"#0d0887\"], [0.1111111111111111, \"#46039f\"], [0.2222222222222222, \"#7201a8\"], [0.3333333333333333, \"#9c179e\"], [0.4444444444444444, \"#bd3786\"], [0.5555555555555556, \"#d8576b\"], [0.6666666666666666, \"#ed7953\"], [0.7777777777777778, \"#fb9f3a\"], [0.8888888888888888, \"#fdca26\"], [1.0, \"#f0f921\"]], \"type\": \"histogram2d\"}], \"histogram2dcontour\": [{\"colorbar\": {\"outlinewidth\": 0, \"ticks\": \"\"}, \"colorscale\": [[0.0, \"#0d0887\"], [0.1111111111111111, \"#46039f\"], [0.2222222222222222, \"#7201a8\"], [0.3333333333333333, \"#9c179e\"], [0.4444444444444444, \"#bd3786\"], [0.5555555555555556, \"#d8576b\"], [0.6666666666666666, \"#ed7953\"], [0.7777777777777778, \"#fb9f3a\"], [0.8888888888888888, \"#fdca26\"], [1.0, \"#f0f921\"]], \"type\": \"histogram2dcontour\"}], \"mesh3d\": [{\"colorbar\": {\"outlinewidth\": 0, \"ticks\": \"\"}, \"type\": \"mesh3d\"}], \"parcoords\": [{\"line\": {\"colorbar\": {\"outlinewidth\": 0, \"ticks\": \"\"}}, \"type\": \"parcoords\"}], \"pie\": [{\"automargin\": true, \"type\": \"pie\"}], \"scatter\": [{\"marker\": {\"colorbar\": {\"outlinewidth\": 0, \"ticks\": \"\"}}, \"type\": \"scatter\"}], \"scatter3d\": [{\"line\": {\"colorbar\": {\"outlinewidth\": 0, \"ticks\": \"\"}}, \"marker\": {\"colorbar\": {\"outlinewidth\": 0, \"ticks\": \"\"}}, \"type\": \"scatter3d\"}], \"scattercarpet\": [{\"marker\": {\"colorbar\": {\"outlinewidth\": 0, \"ticks\": \"\"}}, \"type\": \"scattercarpet\"}], \"scattergeo\": [{\"marker\": {\"colorbar\": {\"outlinewidth\": 0, \"ticks\": \"\"}}, \"type\": \"scattergeo\"}], \"scattergl\": [{\"marker\": {\"colorbar\": {\"outlinewidth\": 0, \"ticks\": \"\"}}, \"type\": \"scattergl\"}], \"scattermapbox\": [{\"marker\": {\"colorbar\": {\"outlinewidth\": 0, \"ticks\": \"\"}}, \"type\": \"scattermapbox\"}], \"scatterpolar\": [{\"marker\": {\"colorbar\": {\"outlinewidth\": 0, \"ticks\": \"\"}}, \"type\": \"scatterpolar\"}], \"scatterpolargl\": [{\"marker\": {\"colorbar\": {\"outlinewidth\": 0, \"ticks\": \"\"}}, \"type\": \"scatterpolargl\"}], \"scatterternary\": [{\"marker\": {\"colorbar\": {\"outlinewidth\": 0, \"ticks\": \"\"}}, \"type\": \"scatterternary\"}], \"surface\": [{\"colorbar\": {\"outlinewidth\": 0, \"ticks\": \"\"}, \"colorscale\": [[0.0, \"#0d0887\"], [0.1111111111111111, \"#46039f\"], [0.2222222222222222, \"#7201a8\"], [0.3333333333333333, \"#9c179e\"], [0.4444444444444444, \"#bd3786\"], [0.5555555555555556, \"#d8576b\"], [0.6666666666666666, \"#ed7953\"], [0.7777777777777778, \"#fb9f3a\"], [0.8888888888888888, \"#fdca26\"], [1.0, \"#f0f921\"]], \"type\": \"surface\"}], \"table\": [{\"cells\": {\"fill\": {\"color\": \"#EBF0F8\"}, \"line\": {\"color\": \"white\"}}, \"header\": {\"fill\": {\"color\": \"#C8D4E3\"}, \"line\": {\"color\": \"white\"}}, \"type\": \"table\"}]}, \"layout\": {\"annotationdefaults\": {\"arrowcolor\": \"#2a3f5f\", \"arrowhead\": 0, \"arrowwidth\": 1}, \"coloraxis\": {\"colorbar\": {\"outlinewidth\": 0, \"ticks\": \"\"}}, \"colorscale\": {\"diverging\": [[0, \"#8e0152\"], [0.1, \"#c51b7d\"], [0.2, \"#de77ae\"], [0.3, \"#f1b6da\"], [0.4, \"#fde0ef\"], [0.5, \"#f7f7f7\"], [0.6, \"#e6f5d0\"], [0.7, \"#b8e186\"], [0.8, \"#7fbc41\"], [0.9, \"#4d9221\"], [1, \"#276419\"]], \"sequential\": [[0.0, \"#0d0887\"], [0.1111111111111111, \"#46039f\"], [0.2222222222222222, \"#7201a8\"], [0.3333333333333333, \"#9c179e\"], [0.4444444444444444, \"#bd3786\"], [0.5555555555555556, \"#d8576b\"], [0.6666666666666666, \"#ed7953\"], [0.7777777777777778, \"#fb9f3a\"], [0.8888888888888888, \"#fdca26\"], [1.0, \"#f0f921\"]], \"sequentialminus\": [[0.0, \"#0d0887\"], [0.1111111111111111, \"#46039f\"], [0.2222222222222222, \"#7201a8\"], [0.3333333333333333, \"#9c179e\"], [0.4444444444444444, \"#bd3786\"], [0.5555555555555556, \"#d8576b\"], [0.6666666666666666, \"#ed7953\"], [0.7777777777777778, \"#fb9f3a\"], [0.8888888888888888, \"#fdca26\"], [1.0, \"#f0f921\"]]}, \"colorway\": [\"#636efa\", \"#EF553B\", \"#00cc96\", \"#ab63fa\", \"#FFA15A\", \"#19d3f3\", \"#FF6692\", \"#B6E880\", \"#FF97FF\", \"#FECB52\"], \"font\": {\"color\": \"#2a3f5f\"}, \"geo\": {\"bgcolor\": \"white\", \"lakecolor\": \"white\", \"landcolor\": \"#E5ECF6\", \"showlakes\": true, \"showland\": true, \"subunitcolor\": \"white\"}, \"hoverlabel\": {\"align\": \"left\"}, \"hovermode\": \"closest\", \"mapbox\": {\"style\": \"light\"}, \"paper_bgcolor\": \"white\", \"plot_bgcolor\": \"#E5ECF6\", \"polar\": {\"angularaxis\": {\"gridcolor\": \"white\", \"linecolor\": \"white\", \"ticks\": \"\"}, \"bgcolor\": \"#E5ECF6\", \"radialaxis\": {\"gridcolor\": \"white\", \"linecolor\": \"white\", \"ticks\": \"\"}}, \"scene\": {\"xaxis\": {\"backgroundcolor\": \"#E5ECF6\", \"gridcolor\": \"white\", \"gridwidth\": 2, \"linecolor\": \"white\", \"showbackground\": true, \"ticks\": \"\", \"zerolinecolor\": \"white\"}, \"yaxis\": {\"backgroundcolor\": \"#E5ECF6\", \"gridcolor\": \"white\", \"gridwidth\": 2, \"linecolor\": \"white\", \"showbackground\": true, \"ticks\": \"\", \"zerolinecolor\": \"white\"}, \"zaxis\": {\"backgroundcolor\": \"#E5ECF6\", \"gridcolor\": \"white\", \"gridwidth\": 2, \"linecolor\": \"white\", \"showbackground\": true, \"ticks\": \"\", \"zerolinecolor\": \"white\"}}, \"shapedefaults\": {\"line\": {\"color\": \"#2a3f5f\"}}, \"ternary\": {\"aaxis\": {\"gridcolor\": \"white\", \"linecolor\": \"white\", \"ticks\": \"\"}, \"baxis\": {\"gridcolor\": \"white\", \"linecolor\": \"white\", \"ticks\": \"\"}, \"bgcolor\": \"#E5ECF6\", \"caxis\": {\"gridcolor\": \"white\", \"linecolor\": \"white\", \"ticks\": \"\"}}, \"title\": {\"x\": 0.05}, \"xaxis\": {\"automargin\": true, \"gridcolor\": \"white\", \"linecolor\": \"white\", \"ticks\": \"\", \"title\": {\"standoff\": 15}, \"zerolinecolor\": \"white\", \"zerolinewidth\": 2}, \"yaxis\": {\"automargin\": true, \"gridcolor\": \"white\", \"linecolor\": \"white\", \"ticks\": \"\", \"title\": {\"standoff\": 15}, \"zerolinecolor\": \"white\", \"zerolinewidth\": 2}}}, \"title\": {\"text\": \"Contour Plot\"}, \"xaxis\": {\"anchor\": \"y\", \"domain\": [0.0, 0.2888888888888889], \"matches\": \"x7\", \"range\": [1.2999999999999998, 16.7], \"showticklabels\": false}, \"xaxis2\": {\"anchor\": \"y2\", \"domain\": [0.35555555555555557, 0.6444444444444445], \"matches\": \"x8\", \"range\": [1.65, 31.35], \"showticklabels\": false}, \"xaxis3\": {\"anchor\": \"y3\", \"domain\": [0.7111111111111111, 1.0], \"matches\": \"x9\", \"range\": [1.9, 4.1], \"showticklabels\": false}, \"xaxis4\": {\"anchor\": \"y4\", \"domain\": [0.0, 0.2888888888888889], \"matches\": \"x7\", \"range\": [1.2999999999999998, 16.7], \"showticklabels\": false}, \"xaxis5\": {\"anchor\": \"y5\", \"domain\": [0.35555555555555557, 0.6444444444444445], \"matches\": \"x8\", \"range\": [1.65, 31.35], \"showticklabels\": false}, \"xaxis6\": {\"anchor\": \"y6\", \"domain\": [0.7111111111111111, 1.0], \"matches\": \"x9\", \"range\": [1.9, 4.1], \"showticklabels\": false}, \"xaxis7\": {\"anchor\": \"y7\", \"domain\": [0.0, 0.2888888888888889], \"range\": [1.2999999999999998, 16.7], \"title\": {\"text\": \"max_depth\"}}, \"xaxis8\": {\"anchor\": \"y8\", \"domain\": [0.35555555555555557, 0.6444444444444445], \"range\": [1.65, 31.35], \"title\": {\"text\": \"max_features\"}}, \"xaxis9\": {\"anchor\": \"y9\", \"domain\": [0.7111111111111111, 1.0], \"range\": [1.9, 4.1], \"title\": {\"text\": \"min_samples_leaf\"}}, \"yaxis\": {\"anchor\": \"x\", \"domain\": [0.7333333333333333, 1.0], \"range\": [1.2999999999999998, 16.7], \"title\": {\"text\": \"max_depth\"}}, \"yaxis2\": {\"anchor\": \"x2\", \"domain\": [0.7333333333333333, 1.0], \"matches\": \"y\", \"range\": [1.2999999999999998, 16.7], \"showticklabels\": false}, \"yaxis3\": {\"anchor\": \"x3\", \"domain\": [0.7333333333333333, 1.0], \"matches\": \"y\", \"range\": [1.2999999999999998, 16.7], \"showticklabels\": false}, \"yaxis4\": {\"anchor\": \"x4\", \"domain\": [0.36666666666666664, 0.6333333333333333], \"range\": [1.65, 31.35], \"title\": {\"text\": \"max_features\"}}, \"yaxis5\": {\"anchor\": \"x5\", \"domain\": [0.36666666666666664, 0.6333333333333333], \"matches\": \"y4\", \"range\": [1.65, 31.35], \"showticklabels\": false}, \"yaxis6\": {\"anchor\": \"x6\", \"domain\": [0.36666666666666664, 0.6333333333333333], \"matches\": \"y4\", \"range\": [1.65, 31.35], \"showticklabels\": false}, \"yaxis7\": {\"anchor\": \"x7\", \"domain\": [0.0, 0.26666666666666666], \"range\": [1.9, 4.1], \"title\": {\"text\": \"min_samples_leaf\"}}, \"yaxis8\": {\"anchor\": \"x8\", \"domain\": [0.0, 0.26666666666666666], \"matches\": \"y7\", \"range\": [1.9, 4.1], \"showticklabels\": false}, \"yaxis9\": {\"anchor\": \"x9\", \"domain\": [0.0, 0.26666666666666666], \"matches\": \"y7\", \"range\": [1.9, 4.1], \"showticklabels\": false}},\n",
              "                        {\"responsive\": true}\n",
              "                    ).then(function(){\n",
              "                            \n",
              "var gd = document.getElementById('252b0698-49f2-4f37-858b-7c9d18504cd4');\n",
              "var x = new MutationObserver(function (mutations, observer) {{\n",
              "        var display = window.getComputedStyle(gd).display;\n",
              "        if (!display || display === 'none') {{\n",
              "            console.log([gd, 'removed!']);\n",
              "            Plotly.purge(gd);\n",
              "            observer.disconnect();\n",
              "        }}\n",
              "}});\n",
              "\n",
              "// Listen for the removal of the full notebook cells\n",
              "var notebookContainer = gd.closest('#notebook-container');\n",
              "if (notebookContainer) {{\n",
              "    x.observe(notebookContainer, {childList: true});\n",
              "}}\n",
              "\n",
              "// Listen for the clearing of the current output cell\n",
              "var outputEl = gd.closest('.output');\n",
              "if (outputEl) {{\n",
              "    x.observe(outputEl, {childList: true});\n",
              "}}\n",
              "\n",
              "                        })\n",
              "                };\n",
              "                \n",
              "            </script>\n",
              "        </div>\n",
              "</body>\n",
              "</html>"
            ]
          },
          "metadata": {
            "tags": []
          }
        }
      ]
    },
    {
      "cell_type": "code",
      "metadata": {
        "colab": {
          "base_uri": "https://localhost:8080/",
          "height": 542
        },
        "id": "W-1zBFAY7fOv",
        "outputId": "d8822dfc-decc-40c0-c96a-24dbe850097e"
      },
      "source": [
        "from optuna.visualization import plot_param_importances\n",
        "# ハイパーパラメータの重要度の視覚化\n",
        "plot_param_importances(study)"
      ],
      "execution_count": null,
      "outputs": [
        {
          "output_type": "display_data",
          "data": {
            "text/html": [
              "<html>\n",
              "<head><meta charset=\"utf-8\" /></head>\n",
              "<body>\n",
              "    <div>\n",
              "            <script src=\"https://cdnjs.cloudflare.com/ajax/libs/mathjax/2.7.5/MathJax.js?config=TeX-AMS-MML_SVG\"></script><script type=\"text/javascript\">if (window.MathJax) {MathJax.Hub.Config({SVG: {font: \"STIX-Web\"}});}</script>\n",
              "                <script type=\"text/javascript\">window.PlotlyConfig = {MathJaxConfig: 'local'};</script>\n",
              "        <script src=\"https://cdn.plot.ly/plotly-latest.min.js\"></script>    \n",
              "            <div id=\"91f3cc11-8ea0-4aab-8643-5ea5d51c337c\" class=\"plotly-graph-div\" style=\"height:525px; width:100%;\"></div>\n",
              "            <script type=\"text/javascript\">\n",
              "                \n",
              "                    window.PLOTLYENV=window.PLOTLYENV || {};\n",
              "                    \n",
              "                if (document.getElementById(\"91f3cc11-8ea0-4aab-8643-5ea5d51c337c\")) {\n",
              "                    Plotly.newPlot(\n",
              "                        '91f3cc11-8ea0-4aab-8643-5ea5d51c337c',\n",
              "                        [{\"cliponaxis\": false, \"hovertemplate\": [\"min_samples_leaf (IntUniformDistribution): 0.062125816102630974<extra></extra>\", \"max_depth (IntUniformDistribution): 0.22664468540412303<extra></extra>\", \"max_features (IntUniformDistribution): 0.711229498493246<extra></extra>\"], \"marker\": {\"color\": \"rgb(66,146,198)\"}, \"orientation\": \"h\", \"text\": [\"0.062125816102630974\", \"0.22664468540412303\", \"0.711229498493246\"], \"textposition\": \"outside\", \"texttemplate\": \"%{text:.2f}\", \"type\": \"bar\", \"x\": [0.062125816102630974, 0.22664468540412303, 0.711229498493246], \"y\": [\"min_samples_leaf\", \"max_depth\", \"max_features\"]}],\n",
              "                        {\"showlegend\": false, \"template\": {\"data\": {\"bar\": [{\"error_x\": {\"color\": \"#2a3f5f\"}, \"error_y\": {\"color\": \"#2a3f5f\"}, \"marker\": {\"line\": {\"color\": \"#E5ECF6\", \"width\": 0.5}}, \"type\": \"bar\"}], \"barpolar\": [{\"marker\": {\"line\": {\"color\": \"#E5ECF6\", \"width\": 0.5}}, \"type\": \"barpolar\"}], \"carpet\": [{\"aaxis\": {\"endlinecolor\": \"#2a3f5f\", \"gridcolor\": \"white\", \"linecolor\": \"white\", \"minorgridcolor\": \"white\", \"startlinecolor\": \"#2a3f5f\"}, \"baxis\": {\"endlinecolor\": \"#2a3f5f\", \"gridcolor\": \"white\", \"linecolor\": \"white\", \"minorgridcolor\": \"white\", \"startlinecolor\": \"#2a3f5f\"}, \"type\": \"carpet\"}], \"choropleth\": [{\"colorbar\": {\"outlinewidth\": 0, \"ticks\": \"\"}, \"type\": \"choropleth\"}], \"contour\": [{\"colorbar\": {\"outlinewidth\": 0, \"ticks\": \"\"}, \"colorscale\": [[0.0, \"#0d0887\"], [0.1111111111111111, \"#46039f\"], [0.2222222222222222, \"#7201a8\"], [0.3333333333333333, \"#9c179e\"], [0.4444444444444444, \"#bd3786\"], [0.5555555555555556, \"#d8576b\"], [0.6666666666666666, \"#ed7953\"], [0.7777777777777778, \"#fb9f3a\"], [0.8888888888888888, \"#fdca26\"], [1.0, \"#f0f921\"]], \"type\": \"contour\"}], \"contourcarpet\": [{\"colorbar\": {\"outlinewidth\": 0, \"ticks\": \"\"}, \"type\": \"contourcarpet\"}], \"heatmap\": [{\"colorbar\": {\"outlinewidth\": 0, \"ticks\": \"\"}, \"colorscale\": [[0.0, \"#0d0887\"], [0.1111111111111111, \"#46039f\"], [0.2222222222222222, \"#7201a8\"], [0.3333333333333333, \"#9c179e\"], [0.4444444444444444, \"#bd3786\"], [0.5555555555555556, \"#d8576b\"], [0.6666666666666666, \"#ed7953\"], [0.7777777777777778, \"#fb9f3a\"], [0.8888888888888888, \"#fdca26\"], [1.0, \"#f0f921\"]], \"type\": \"heatmap\"}], \"heatmapgl\": [{\"colorbar\": {\"outlinewidth\": 0, \"ticks\": \"\"}, \"colorscale\": [[0.0, \"#0d0887\"], [0.1111111111111111, \"#46039f\"], [0.2222222222222222, \"#7201a8\"], [0.3333333333333333, \"#9c179e\"], [0.4444444444444444, \"#bd3786\"], [0.5555555555555556, \"#d8576b\"], [0.6666666666666666, \"#ed7953\"], [0.7777777777777778, \"#fb9f3a\"], [0.8888888888888888, \"#fdca26\"], [1.0, \"#f0f921\"]], \"type\": \"heatmapgl\"}], \"histogram\": [{\"marker\": {\"colorbar\": {\"outlinewidth\": 0, \"ticks\": \"\"}}, \"type\": \"histogram\"}], \"histogram2d\": [{\"colorbar\": {\"outlinewidth\": 0, \"ticks\": \"\"}, \"colorscale\": [[0.0, \"#0d0887\"], [0.1111111111111111, \"#46039f\"], [0.2222222222222222, \"#7201a8\"], [0.3333333333333333, \"#9c179e\"], [0.4444444444444444, \"#bd3786\"], [0.5555555555555556, \"#d8576b\"], [0.6666666666666666, \"#ed7953\"], [0.7777777777777778, \"#fb9f3a\"], [0.8888888888888888, \"#fdca26\"], [1.0, \"#f0f921\"]], \"type\": \"histogram2d\"}], \"histogram2dcontour\": [{\"colorbar\": {\"outlinewidth\": 0, \"ticks\": \"\"}, \"colorscale\": [[0.0, \"#0d0887\"], [0.1111111111111111, \"#46039f\"], [0.2222222222222222, \"#7201a8\"], [0.3333333333333333, \"#9c179e\"], [0.4444444444444444, \"#bd3786\"], [0.5555555555555556, \"#d8576b\"], [0.6666666666666666, \"#ed7953\"], [0.7777777777777778, \"#fb9f3a\"], [0.8888888888888888, \"#fdca26\"], [1.0, \"#f0f921\"]], \"type\": \"histogram2dcontour\"}], \"mesh3d\": [{\"colorbar\": {\"outlinewidth\": 0, \"ticks\": \"\"}, \"type\": \"mesh3d\"}], \"parcoords\": [{\"line\": {\"colorbar\": {\"outlinewidth\": 0, \"ticks\": \"\"}}, \"type\": \"parcoords\"}], \"pie\": [{\"automargin\": true, \"type\": \"pie\"}], \"scatter\": [{\"marker\": {\"colorbar\": {\"outlinewidth\": 0, \"ticks\": \"\"}}, \"type\": \"scatter\"}], \"scatter3d\": [{\"line\": {\"colorbar\": {\"outlinewidth\": 0, \"ticks\": \"\"}}, \"marker\": {\"colorbar\": {\"outlinewidth\": 0, \"ticks\": \"\"}}, \"type\": \"scatter3d\"}], \"scattercarpet\": [{\"marker\": {\"colorbar\": {\"outlinewidth\": 0, \"ticks\": \"\"}}, \"type\": \"scattercarpet\"}], \"scattergeo\": [{\"marker\": {\"colorbar\": {\"outlinewidth\": 0, \"ticks\": \"\"}}, \"type\": \"scattergeo\"}], \"scattergl\": [{\"marker\": {\"colorbar\": {\"outlinewidth\": 0, \"ticks\": \"\"}}, \"type\": \"scattergl\"}], \"scattermapbox\": [{\"marker\": {\"colorbar\": {\"outlinewidth\": 0, \"ticks\": \"\"}}, \"type\": \"scattermapbox\"}], \"scatterpolar\": [{\"marker\": {\"colorbar\": {\"outlinewidth\": 0, \"ticks\": \"\"}}, \"type\": \"scatterpolar\"}], \"scatterpolargl\": [{\"marker\": {\"colorbar\": {\"outlinewidth\": 0, \"ticks\": \"\"}}, \"type\": \"scatterpolargl\"}], \"scatterternary\": [{\"marker\": {\"colorbar\": {\"outlinewidth\": 0, \"ticks\": \"\"}}, \"type\": \"scatterternary\"}], \"surface\": [{\"colorbar\": {\"outlinewidth\": 0, \"ticks\": \"\"}, \"colorscale\": [[0.0, \"#0d0887\"], [0.1111111111111111, \"#46039f\"], [0.2222222222222222, \"#7201a8\"], [0.3333333333333333, \"#9c179e\"], [0.4444444444444444, \"#bd3786\"], [0.5555555555555556, \"#d8576b\"], [0.6666666666666666, \"#ed7953\"], [0.7777777777777778, \"#fb9f3a\"], [0.8888888888888888, \"#fdca26\"], [1.0, \"#f0f921\"]], \"type\": \"surface\"}], \"table\": [{\"cells\": {\"fill\": {\"color\": \"#EBF0F8\"}, \"line\": {\"color\": \"white\"}}, \"header\": {\"fill\": {\"color\": \"#C8D4E3\"}, \"line\": {\"color\": \"white\"}}, \"type\": \"table\"}]}, \"layout\": {\"annotationdefaults\": {\"arrowcolor\": \"#2a3f5f\", \"arrowhead\": 0, \"arrowwidth\": 1}, \"coloraxis\": {\"colorbar\": {\"outlinewidth\": 0, \"ticks\": \"\"}}, \"colorscale\": {\"diverging\": [[0, \"#8e0152\"], [0.1, \"#c51b7d\"], [0.2, \"#de77ae\"], [0.3, \"#f1b6da\"], [0.4, \"#fde0ef\"], [0.5, \"#f7f7f7\"], [0.6, \"#e6f5d0\"], [0.7, \"#b8e186\"], [0.8, \"#7fbc41\"], [0.9, \"#4d9221\"], [1, \"#276419\"]], \"sequential\": [[0.0, \"#0d0887\"], [0.1111111111111111, \"#46039f\"], [0.2222222222222222, \"#7201a8\"], [0.3333333333333333, \"#9c179e\"], [0.4444444444444444, \"#bd3786\"], [0.5555555555555556, \"#d8576b\"], [0.6666666666666666, \"#ed7953\"], [0.7777777777777778, \"#fb9f3a\"], [0.8888888888888888, \"#fdca26\"], [1.0, \"#f0f921\"]], \"sequentialminus\": [[0.0, \"#0d0887\"], [0.1111111111111111, \"#46039f\"], [0.2222222222222222, \"#7201a8\"], [0.3333333333333333, \"#9c179e\"], [0.4444444444444444, \"#bd3786\"], [0.5555555555555556, \"#d8576b\"], [0.6666666666666666, \"#ed7953\"], [0.7777777777777778, \"#fb9f3a\"], [0.8888888888888888, \"#fdca26\"], [1.0, \"#f0f921\"]]}, \"colorway\": [\"#636efa\", \"#EF553B\", \"#00cc96\", \"#ab63fa\", \"#FFA15A\", \"#19d3f3\", \"#FF6692\", \"#B6E880\", \"#FF97FF\", \"#FECB52\"], \"font\": {\"color\": \"#2a3f5f\"}, \"geo\": {\"bgcolor\": \"white\", \"lakecolor\": \"white\", \"landcolor\": \"#E5ECF6\", \"showlakes\": true, \"showland\": true, \"subunitcolor\": \"white\"}, \"hoverlabel\": {\"align\": \"left\"}, \"hovermode\": \"closest\", \"mapbox\": {\"style\": \"light\"}, \"paper_bgcolor\": \"white\", \"plot_bgcolor\": \"#E5ECF6\", \"polar\": {\"angularaxis\": {\"gridcolor\": \"white\", \"linecolor\": \"white\", \"ticks\": \"\"}, \"bgcolor\": \"#E5ECF6\", \"radialaxis\": {\"gridcolor\": \"white\", \"linecolor\": \"white\", \"ticks\": \"\"}}, \"scene\": {\"xaxis\": {\"backgroundcolor\": \"#E5ECF6\", \"gridcolor\": \"white\", \"gridwidth\": 2, \"linecolor\": \"white\", \"showbackground\": true, \"ticks\": \"\", \"zerolinecolor\": \"white\"}, \"yaxis\": {\"backgroundcolor\": \"#E5ECF6\", \"gridcolor\": \"white\", \"gridwidth\": 2, \"linecolor\": \"white\", \"showbackground\": true, \"ticks\": \"\", \"zerolinecolor\": \"white\"}, \"zaxis\": {\"backgroundcolor\": \"#E5ECF6\", \"gridcolor\": \"white\", \"gridwidth\": 2, \"linecolor\": \"white\", \"showbackground\": true, \"ticks\": \"\", \"zerolinecolor\": \"white\"}}, \"shapedefaults\": {\"line\": {\"color\": \"#2a3f5f\"}}, \"ternary\": {\"aaxis\": {\"gridcolor\": \"white\", \"linecolor\": \"white\", \"ticks\": \"\"}, \"baxis\": {\"gridcolor\": \"white\", \"linecolor\": \"white\", \"ticks\": \"\"}, \"bgcolor\": \"#E5ECF6\", \"caxis\": {\"gridcolor\": \"white\", \"linecolor\": \"white\", \"ticks\": \"\"}}, \"title\": {\"x\": 0.05}, \"xaxis\": {\"automargin\": true, \"gridcolor\": \"white\", \"linecolor\": \"white\", \"ticks\": \"\", \"title\": {\"standoff\": 15}, \"zerolinecolor\": \"white\", \"zerolinewidth\": 2}, \"yaxis\": {\"automargin\": true, \"gridcolor\": \"white\", \"linecolor\": \"white\", \"ticks\": \"\", \"title\": {\"standoff\": 15}, \"zerolinecolor\": \"white\", \"zerolinewidth\": 2}}}, \"title\": {\"text\": \"Hyperparameter Importances\"}, \"xaxis\": {\"title\": {\"text\": \"Importance for Objective Value\"}}, \"yaxis\": {\"title\": {\"text\": \"Hyperparameter\"}}},\n",
              "                        {\"responsive\": true}\n",
              "                    ).then(function(){\n",
              "                            \n",
              "var gd = document.getElementById('91f3cc11-8ea0-4aab-8643-5ea5d51c337c');\n",
              "var x = new MutationObserver(function (mutations, observer) {{\n",
              "        var display = window.getComputedStyle(gd).display;\n",
              "        if (!display || display === 'none') {{\n",
              "            console.log([gd, 'removed!']);\n",
              "            Plotly.purge(gd);\n",
              "            observer.disconnect();\n",
              "        }}\n",
              "}});\n",
              "\n",
              "// Listen for the removal of the full notebook cells\n",
              "var notebookContainer = gd.closest('#notebook-container');\n",
              "if (notebookContainer) {{\n",
              "    x.observe(notebookContainer, {childList: true});\n",
              "}}\n",
              "\n",
              "// Listen for the clearing of the current output cell\n",
              "var outputEl = gd.closest('.output');\n",
              "if (outputEl) {{\n",
              "    x.observe(outputEl, {childList: true});\n",
              "}}\n",
              "\n",
              "                        })\n",
              "                };\n",
              "                \n",
              "            </script>\n",
              "        </div>\n",
              "</body>\n",
              "</html>"
            ]
          },
          "metadata": {
            "tags": []
          }
        }
      ]
    },
    {
      "cell_type": "code",
      "metadata": {
        "colab": {
          "base_uri": "https://localhost:8080/"
        },
        "id": "IJsBKhdv1rE6",
        "outputId": "02154d10-bb8c-4fae-a35d-a26fab84622b"
      },
      "source": [
        "tuning_model_v1 = RandomForestClassifier(random_state=42, **rfc_best_param_v1)\n",
        "tuning_model_v1.fit(X_train, y_train)\n",
        "print('ランダムフォレスト(正答率に対してチューニング)')\n",
        "print(f'学習データに対する正答率: {accuracy_score(y_train, tuning_model_v1.predict(X_train))}')\n",
        "print(f'検証データに対する正答率: {accuracy_score(y_test, tuning_model_v1.predict(X_test))}')"
      ],
      "execution_count": null,
      "outputs": [
        {
          "output_type": "stream",
          "text": [
            "ランダムフォレスト(正答率に対してチューニング)\n",
            "学習データに対する正答率: 0.9882629107981221\n",
            "検証データに対する正答率: 0.972027972027972\n"
          ],
          "name": "stdout"
        }
      ]
    },
    {
      "cell_type": "markdown",
      "metadata": {
        "id": "x0pKaJUbGE_6"
      },
      "source": [
        "次は、目的関数の中でStratifiedKFoldを使いハイパーパラメータ探索を行ってみましょう。"
      ]
    },
    {
      "cell_type": "code",
      "metadata": {
        "id": "YUfAfy2nII8J",
        "colab": {
          "base_uri": "https://localhost:8080/"
        },
        "outputId": "40d4e7bd-6095-4ae3-ba74-b91311fe78b0"
      },
      "source": [
        "from sklearn.model_selection import StratifiedKFold, cross_validate\n",
        "\n",
        "\n",
        "def objective(trial):\n",
        "    param_grid_rfc = {\n",
        "        \"max_depth\": trial.suggest_int(\"max_depth\", 5, 15),\n",
        "        \"min_samples_leaf\": trial.suggest_int(\"min_samples_leaf\", 1, 5),\n",
        "        'min_samples_split': trial.suggest_int(\"min_samples_split\", 7, 15),\n",
        "        \"criterion\": trial.suggest_categorical(\"criterion\", [\"gini\", \"entropy\"]),\n",
        "        'max_features': trial.suggest_int(\"max_features\", 3, X_test.shape[1]),\n",
        "        \"random_state\": 42\n",
        "    }\n",
        "\n",
        "    model = RandomForestClassifier(**param_grid_rfc)\n",
        "\n",
        "    score_funcs = [\n",
        "                    'accuracy',\n",
        "                    ]\n",
        "   \n",
        "    kf = StratifiedKFold(n_splits=5, shuffle=True, random_state=42)\n",
        "    scores = cross_validate(model, X=X_train, y=y_train, cv=kf, scoring=score_funcs)\n",
        "\n",
        "    return scores['test_accuracy'].mean()\n",
        "\n",
        "study = optuna.create_study(direction='maximize', sampler=optuna.samplers.RandomSampler(seed=42))\n",
        "study.optimize(objective, n_trials=20)\n",
        "print(study.best_params)\n",
        "print(study.best_value)\n",
        "rfc_best_param_v2 = study.best_params"
      ],
      "execution_count": null,
      "outputs": [
        {
          "output_type": "stream",
          "text": [
            "\u001b[32m[I 2021-06-15 08:54:13,948]\u001b[0m A new study created in memory with name: no-name-6619a075-3b8c-4041-9d57-1f7c0aadb76a\u001b[0m\n",
            "\u001b[32m[I 2021-06-15 08:54:14,890]\u001b[0m Trial 0 finished with value: 0.9460465116279071 and parameters: {'max_depth': 9, 'min_samples_leaf': 5, 'min_samples_split': 13, 'criterion': 'gini', 'max_features': 7}. Best is trial 0 with value: 0.9460465116279071.\u001b[0m\n",
            "\u001b[32m[I 2021-06-15 08:54:16,544]\u001b[0m Trial 1 finished with value: 0.948372093023256 and parameters: {'max_depth': 5, 'min_samples_leaf': 5, 'min_samples_split': 12, 'criterion': 'gini', 'max_features': 30}. Best is trial 1 with value: 0.948372093023256.\u001b[0m\n",
            "\u001b[32m[I 2021-06-15 08:54:18,299]\u001b[0m Trial 2 finished with value: 0.9577564979480165 and parameters: {'max_depth': 14, 'min_samples_leaf': 2, 'min_samples_split': 8, 'criterion': 'entropy', 'max_features': 17}. Best is trial 2 with value: 0.9577564979480165.\u001b[0m\n",
            "\u001b[32m[I 2021-06-15 08:54:19,776]\u001b[0m Trial 3 finished with value: 0.9530506155950753 and parameters: {'max_depth': 9, 'min_samples_leaf': 2, 'min_samples_split': 12, 'criterion': 'entropy', 'max_features': 13}. Best is trial 2 with value: 0.9577564979480165.\u001b[0m\n",
            "\u001b[32m[I 2021-06-15 08:54:20,766]\u001b[0m Trial 4 finished with value: 0.9554582763337894 and parameters: {'max_depth': 10, 'min_samples_leaf': 4, 'min_samples_split': 8, 'criterion': 'entropy', 'max_features': 4}. Best is trial 2 with value: 0.9577564979480165.\u001b[0m\n",
            "\u001b[32m[I 2021-06-15 08:54:22,962]\u001b[0m Trial 5 finished with value: 0.9624623803009577 and parameters: {'max_depth': 11, 'min_samples_leaf': 1, 'min_samples_split': 7, 'criterion': 'entropy', 'max_features': 25}. Best is trial 5 with value: 0.9624623803009577.\u001b[0m\n",
            "\u001b[32m[I 2021-06-15 08:54:24,248]\u001b[0m Trial 6 finished with value: 0.955403556771546 and parameters: {'max_depth': 8, 'min_samples_leaf': 1, 'min_samples_split': 13, 'criterion': 'gini', 'max_features': 16}. Best is trial 5 with value: 0.9624623803009577.\u001b[0m\n",
            "\u001b[32m[I 2021-06-15 08:54:25,477]\u001b[0m Trial 7 finished with value: 0.9530506155950753 and parameters: {'max_depth': 5, 'min_samples_leaf': 5, 'min_samples_split': 9, 'criterion': 'gini', 'max_features': 17}. Best is trial 5 with value: 0.9624623803009577.\u001b[0m\n",
            "\u001b[32m[I 2021-06-15 08:54:27,788]\u001b[0m Trial 8 finished with value: 0.955403556771546 and parameters: {'max_depth': 11, 'min_samples_leaf': 1, 'min_samples_split': 15, 'criterion': 'entropy', 'max_features': 28}. Best is trial 5 with value: 0.9624623803009577.\u001b[0m\n",
            "\u001b[32m[I 2021-06-15 08:54:28,871]\u001b[0m Trial 9 finished with value: 0.9483994528043777 and parameters: {'max_depth': 11, 'min_samples_leaf': 5, 'min_samples_split': 7, 'criterion': 'gini', 'max_features': 12}. Best is trial 5 with value: 0.9624623803009577.\u001b[0m\n",
            "\u001b[32m[I 2021-06-15 08:54:30,210]\u001b[0m Trial 10 finished with value: 0.9530506155950753 and parameters: {'max_depth': 9, 'min_samples_leaf': 2, 'min_samples_split': 14, 'criterion': 'gini', 'max_features': 18}. Best is trial 5 with value: 0.9624623803009577.\u001b[0m\n",
            "\u001b[32m[I 2021-06-15 08:54:31,178]\u001b[0m Trial 11 finished with value: 0.955403556771546 and parameters: {'max_depth': 6, 'min_samples_leaf': 5, 'min_samples_split': 7, 'criterion': 'gini', 'max_features': 8}. Best is trial 5 with value: 0.9624623803009577.\u001b[0m\n",
            "\u001b[32m[I 2021-06-15 08:54:32,150]\u001b[0m Trial 12 finished with value: 0.9483994528043777 and parameters: {'max_depth': 5, 'min_samples_leaf': 5, 'min_samples_split': 13, 'criterion': 'entropy', 'max_features': 5}. Best is trial 5 with value: 0.9624623803009577.\u001b[0m\n",
            "\u001b[32m[I 2021-06-15 08:54:33,013]\u001b[0m Trial 13 finished with value: 0.9484268125854994 and parameters: {'max_depth': 8, 'min_samples_leaf': 1, 'min_samples_split': 14, 'criterion': 'gini', 'max_features': 4}. Best is trial 5 with value: 0.9624623803009577.\u001b[0m\n",
            "\u001b[32m[I 2021-06-15 08:54:34,660]\u001b[0m Trial 14 finished with value: 0.9530506155950753 and parameters: {'max_depth': 8, 'min_samples_leaf': 2, 'min_samples_split': 13, 'criterion': 'entropy', 'max_features': 16}. Best is trial 5 with value: 0.9624623803009577.\u001b[0m\n",
            "\u001b[32m[I 2021-06-15 08:54:36,240]\u001b[0m Trial 15 finished with value: 0.9506976744186048 and parameters: {'max_depth': 6, 'min_samples_leaf': 4, 'min_samples_split': 13, 'criterion': 'entropy', 'max_features': 16}. Best is trial 5 with value: 0.9624623803009577.\u001b[0m\n",
            "\u001b[32m[I 2021-06-15 08:54:37,604]\u001b[0m Trial 16 finished with value: 0.955403556771546 and parameters: {'max_depth': 10, 'min_samples_leaf': 3, 'min_samples_split': 7, 'criterion': 'gini', 'max_features': 20}. Best is trial 5 with value: 0.9624623803009577.\u001b[0m\n",
            "\u001b[32m[I 2021-06-15 08:54:39,639]\u001b[0m Trial 17 finished with value: 0.9601094391244871 and parameters: {'max_depth': 8, 'min_samples_leaf': 3, 'min_samples_split': 15, 'criterion': 'entropy', 'max_features': 24}. Best is trial 5 with value: 0.9624623803009577.\u001b[0m\n",
            "\u001b[32m[I 2021-06-15 08:54:41,839]\u001b[0m Trial 18 finished with value: 0.9648153214774282 and parameters: {'max_depth': 7, 'min_samples_leaf': 1, 'min_samples_split': 9, 'criterion': 'entropy', 'max_features': 25}. Best is trial 18 with value: 0.9648153214774282.\u001b[0m\n",
            "\u001b[32m[I 2021-06-15 08:54:43,521]\u001b[0m Trial 19 finished with value: 0.9507250341997265 and parameters: {'max_depth': 11, 'min_samples_leaf': 5, 'min_samples_split': 14, 'criterion': 'entropy', 'max_features': 18}. Best is trial 18 with value: 0.9648153214774282.\u001b[0m\n"
          ],
          "name": "stderr"
        },
        {
          "output_type": "stream",
          "text": [
            "{'max_depth': 7, 'min_samples_leaf': 1, 'min_samples_split': 9, 'criterion': 'entropy', 'max_features': 25}\n",
            "0.9648153214774282\n"
          ],
          "name": "stdout"
        }
      ]
    },
    {
      "cell_type": "code",
      "metadata": {
        "id": "nJMU906j-H3T"
      },
      "source": [
        "# plot_optimization_history(study)"
      ],
      "execution_count": null,
      "outputs": []
    },
    {
      "cell_type": "code",
      "metadata": {
        "id": "5h4tV4DN_A08",
        "colab": {
          "base_uri": "https://localhost:8080/"
        },
        "outputId": "55eaefdf-72b3-4409-b6f1-2008c42ea94f"
      },
      "source": [
        "tuning_model_v2 = RandomForestClassifier(random_state=42, **rfc_best_param_v2)\n",
        "tuning_model_v2.fit(X_train, y_train)\n",
        "print('ランダムフォレスト(5 foldを行い正答率の平均に対してチューニング)')\n",
        "print(f'学習データに対する正答率: {tuning_model_v2.score(X_train, y_train)}')\n",
        "print(f'検証データに対する正答率: {tuning_model_v2.score(X_test, y_test)}')"
      ],
      "execution_count": null,
      "outputs": [
        {
          "output_type": "stream",
          "text": [
            "ランダムフォレスト(5 foldを行い正答率の平均に対してチューニング)\n",
            "学習データに対する正答率: 0.9929577464788732\n",
            "検証データに対する正答率: 0.972027972027972\n"
          ],
          "name": "stdout"
        }
      ]
    },
    {
      "cell_type": "code",
      "metadata": {
        "id": "EDi3AxX-UuQU",
        "colab": {
          "base_uri": "https://localhost:8080/"
        },
        "outputId": "84903c01-4fa0-4481-d6c2-00b18d58bd6c"
      },
      "source": [
        "print('ランダムフォレスト(チューニングなし)')\n",
        "print(f'検証データに対する正答率: {accuracy_score(y_test, base_model.predict(X_test))}')\n",
        "\n",
        "# print('ランダムフォレスト(正答率に対してチューニング)')\n",
        "print('ランダムフォレスト(チューニングあり)')\n",
        "print(f'検証データに対する正答率: {accuracy_score(y_test, tuning_model_v1.predict(X_test))}')\n",
        "\n",
        "print('ランダムフォレスト(5回foldを行い正答率の平均に対してチューニング)')\n",
        "print(f'検証データに対する正答率: {tuning_model_v2.score(X_test, y_test)}')"
      ],
      "execution_count": null,
      "outputs": [
        {
          "output_type": "stream",
          "text": [
            "ランダムフォレスト(チューニングなし)\n",
            "検証データに対する正答率: 0.965034965034965\n",
            "ランダムフォレスト(チューニングあり)\n",
            "検証データに対する正答率: 0.972027972027972\n",
            "ランダムフォレスト(5回foldを行い正答率の平均に対してチューニング)\n",
            "検証データに対する正答率: 0.972027972027972\n"
          ],
          "name": "stdout"
        }
      ]
    },
    {
      "cell_type": "markdown",
      "metadata": {
        "id": "Mqao7Ztof8Rg"
      },
      "source": [
        "機械学習を行う上で目的とする検証データの精度向上が確認できます。\n",
        "\n",
        "今回紹介した使い方以外にもfold毎にパラメータチューニングを行い予測を行う方法などもあり、optunaは目的に応じて様々なチューニングが行えます。"
      ]
    },
    {
      "cell_type": "markdown",
      "metadata": {
        "id": "AxoAN1vLiTmq"
      },
      "source": [
        "<a name='1-4'></a>\n",
        "### 1.4 多層パーセプトロンのハイパーパラメータをOptunaでチューニング"
      ]
    },
    {
      "cell_type": "markdown",
      "metadata": {
        "id": "miYlWu93h4--"
      },
      "source": [
        "Optunaを使いRandomForestをチューニングしましたが、Optunaはscikit-learnの他にも様々なフレームワークで使用することができます。\n",
        "\n",
        "[フレームワークの例](https://optuna.org/#code_examples)\n",
        "\n",
        "* PyTorch\n",
        "\n",
        "* Chainer\n",
        "\n",
        "* TensorFlow\n",
        "\n",
        "* Keras\n",
        "\n",
        "* MXNet\n",
        "\n",
        "* Scikit-Learn\n",
        "\n",
        "* XGBoost\n",
        "\n",
        "* LightGBM\n",
        "\n"
      ]
    },
    {
      "cell_type": "markdown",
      "metadata": {
        "id": "0IoGYcIW-kYV"
      },
      "source": [
        "【興味がある方向け】\n",
        "\n",
        "ここではPyTorchとOptunaを使い画像分類のハイパーパラメーターの探索を行ってみましょう。\n",
        "\n",
        "画像は、[Fashion MNIST](https://www.kaggle.com/zalando-research/fashionmnist)を使用します。"
      ]
    },
    {
      "cell_type": "code",
      "metadata": {
        "colab": {
          "base_uri": "https://localhost:8080/",
          "height": 889,
          "referenced_widgets": [
            "3d2b89145bef4f8886009c67e341e013",
            "7c3db432bed9426a8b401d75ec6ce87a",
            "b9f1398826fe451c97cc1d46275eae04",
            "4cdc1c18dd9047b590abde0b0c23de84",
            "bb9624b4c74347e4a630f659c7967495",
            "3d7535cfdeee47158b915bc65668aa50",
            "f68b277708674bbf82daa7b52d92315f",
            "58d3f43bed9a4c3e8c3013a3662c2525",
            "24ea96e52c3147958cec8427255de042",
            "6a2ae42aa58543d9a3a8a3c83ddba3fb",
            "c668786f0e534e1bb87f46f994c23101",
            "75942d0f70574c629043ae67352a9444",
            "05f4f01f78144b17b7616c52a3fb4d55",
            "2010e2a855ce404a9bac095e4cef7382",
            "caeb350924384a0e965207bdbdcfb3fc",
            "94ba7ed48bf449969d9df80d27a50488",
            "02423de1688e41259ab701252f1a5fe7",
            "de886169ec6f4b7984445560761fdd9e",
            "7f7ab846daf841b78efe940c64daa7dc",
            "444cab79b0c743a29ed7a400f284499e",
            "e4e0a24d257c487097a1e7fe496edd73",
            "5aba6675eeca440291721a413e8db4a9",
            "5e60b490fa3b47b08cc31ce842ddaa14",
            "f556862079fb49d485ac525827d803a5",
            "e9259028c7104565affc13b5f3f9aba1",
            "1e93e757508a4c4a9538d1d86f571bd3",
            "d973a162a491486bb30c854d9ef36221",
            "0a2a01389b024d5c9ea37e802375c416",
            "12e0c972abaa4722b1b50bdf38ae0609",
            "87e3dd41069145fbabfe34bada11dea6",
            "df785040ff514007ad46f873d6fe5d42",
            "0e7cf3db141441cda5dcca37aba9e082"
          ]
        },
        "id": "Xxw-QxBO-kxe",
        "outputId": "edd3527c-b30c-4dae-a507-71e409b8f1c6"
      },
      "source": [
        "import os\n",
        "\n",
        "import torch\n",
        "import torch.nn as nn\n",
        "import torch.nn.functional as F\n",
        "import torch.optim as optim\n",
        "import torch.utils.data\n",
        "from torchvision import datasets\n",
        "from torchvision import transforms\n",
        "import optuna\n",
        "from optuna.trial import TrialState\n",
        "import matplotlib.pyplot as plt\n",
        "%matplotlib inline\n",
        "\n",
        "DEVICE = torch.device(\"cuda\" if torch.cuda.is_available() else \"cpu\")\n",
        "\n",
        "BATCHSIZE = 128\n",
        "CLASSES = 10\n",
        "DIR = os.getcwd()\n",
        "EPOCHS = 10\n",
        "LOG_INTERVAL = 10\n",
        "N_TRAIN_EXAMPLES = BATCHSIZE * 30\n",
        "N_VALID_EXAMPLES = BATCHSIZE * 10\n",
        "import matplotlib.pyplot as plt\n",
        "%matplotlib inline\n",
        "\n",
        "train_set = datasets.FashionMNIST(DIR, train=True, download=True, transform=transforms.ToTensor())\n",
        "valid_set = datasets.FashionMNIST(DIR, train=False, transform=transforms.ToTensor())\n",
        "\n",
        "# どんなデータが入ってるか確認をしてみます。\n",
        "print(f'ラベル:{train_set[3][1]}')\n",
        "plt.imshow(train_set[3][0].reshape(28, 28), cmap='gray')"
      ],
      "execution_count": null,
      "outputs": [
        {
          "output_type": "stream",
          "text": [
            "Downloading http://fashion-mnist.s3-website.eu-central-1.amazonaws.com/train-images-idx3-ubyte.gz\n",
            "Downloading http://fashion-mnist.s3-website.eu-central-1.amazonaws.com/train-images-idx3-ubyte.gz to /content/FashionMNIST/raw/train-images-idx3-ubyte.gz\n"
          ],
          "name": "stdout"
        },
        {
          "output_type": "display_data",
          "data": {
            "application/vnd.jupyter.widget-view+json": {
              "model_id": "3d2b89145bef4f8886009c67e341e013",
              "version_minor": 0,
              "version_major": 2
            },
            "text/plain": [
              "HBox(children=(FloatProgress(value=0.0, max=26421880.0), HTML(value='')))"
            ]
          },
          "metadata": {
            "tags": []
          }
        },
        {
          "output_type": "stream",
          "text": [
            "\n",
            "Extracting /content/FashionMNIST/raw/train-images-idx3-ubyte.gz to /content/FashionMNIST/raw\n",
            "\n",
            "Downloading http://fashion-mnist.s3-website.eu-central-1.amazonaws.com/train-labels-idx1-ubyte.gz\n",
            "Downloading http://fashion-mnist.s3-website.eu-central-1.amazonaws.com/train-labels-idx1-ubyte.gz to /content/FashionMNIST/raw/train-labels-idx1-ubyte.gz\n"
          ],
          "name": "stdout"
        },
        {
          "output_type": "display_data",
          "data": {
            "application/vnd.jupyter.widget-view+json": {
              "model_id": "24ea96e52c3147958cec8427255de042",
              "version_minor": 0,
              "version_major": 2
            },
            "text/plain": [
              "HBox(children=(FloatProgress(value=0.0, max=29515.0), HTML(value='')))"
            ]
          },
          "metadata": {
            "tags": []
          }
        },
        {
          "output_type": "stream",
          "text": [
            "\n",
            "Extracting /content/FashionMNIST/raw/train-labels-idx1-ubyte.gz to /content/FashionMNIST/raw\n",
            "\n",
            "Downloading http://fashion-mnist.s3-website.eu-central-1.amazonaws.com/t10k-images-idx3-ubyte.gz\n",
            "Downloading http://fashion-mnist.s3-website.eu-central-1.amazonaws.com/t10k-images-idx3-ubyte.gz to /content/FashionMNIST/raw/t10k-images-idx3-ubyte.gz\n"
          ],
          "name": "stdout"
        },
        {
          "output_type": "display_data",
          "data": {
            "application/vnd.jupyter.widget-view+json": {
              "model_id": "02423de1688e41259ab701252f1a5fe7",
              "version_minor": 0,
              "version_major": 2
            },
            "text/plain": [
              "HBox(children=(FloatProgress(value=0.0, max=4422102.0), HTML(value='')))"
            ]
          },
          "metadata": {
            "tags": []
          }
        },
        {
          "output_type": "stream",
          "text": [
            "\n",
            "Extracting /content/FashionMNIST/raw/t10k-images-idx3-ubyte.gz to /content/FashionMNIST/raw\n",
            "\n",
            "Downloading http://fashion-mnist.s3-website.eu-central-1.amazonaws.com/t10k-labels-idx1-ubyte.gz\n",
            "Downloading http://fashion-mnist.s3-website.eu-central-1.amazonaws.com/t10k-labels-idx1-ubyte.gz to /content/FashionMNIST/raw/t10k-labels-idx1-ubyte.gz\n"
          ],
          "name": "stdout"
        },
        {
          "output_type": "display_data",
          "data": {
            "application/vnd.jupyter.widget-view+json": {
              "model_id": "e9259028c7104565affc13b5f3f9aba1",
              "version_minor": 0,
              "version_major": 2
            },
            "text/plain": [
              "HBox(children=(FloatProgress(value=0.0, max=5148.0), HTML(value='')))"
            ]
          },
          "metadata": {
            "tags": []
          }
        },
        {
          "output_type": "stream",
          "text": [
            "\n",
            "Extracting /content/FashionMNIST/raw/t10k-labels-idx1-ubyte.gz to /content/FashionMNIST/raw\n",
            "\n",
            "Processing...\n"
          ],
          "name": "stdout"
        },
        {
          "output_type": "stream",
          "text": [
            "/usr/local/lib/python3.7/dist-packages/torchvision/datasets/mnist.py:502: UserWarning:\n",
            "\n",
            "The given NumPy array is not writeable, and PyTorch does not support non-writeable tensors. This means you can write to the underlying (supposedly non-writeable) NumPy array using the tensor. You may want to copy the array to protect its data or make it writeable before converting it to a tensor. This type of warning will be suppressed for the rest of this program. (Triggered internally at  /pytorch/torch/csrc/utils/tensor_numpy.cpp:143.)\n",
            "\n"
          ],
          "name": "stderr"
        },
        {
          "output_type": "stream",
          "text": [
            "Done!\n",
            "ラベル:3\n"
          ],
          "name": "stdout"
        },
        {
          "output_type": "execute_result",
          "data": {
            "text/plain": [
              "<matplotlib.image.AxesImage at 0x7f061bd4b790>"
            ]
          },
          "metadata": {
            "tags": []
          },
          "execution_count": 2
        },
        {
          "output_type": "display_data",
          "data": {
            "image/png": "[encoded data removed]",
            "text/plain": [
              "<Figure size 432x288 with 1 Axes>"
            ]
          },
          "metadata": {
            "tags": [],
            "needs_background": "light"
          }
        }
      ]
    },
    {
      "cell_type": "code",
      "metadata": {
        "colab": {
          "base_uri": "https://localhost:8080/"
        },
        "id": "9BrZBiQg-qwV",
        "outputId": "e1ad2efc-43bd-460c-c63d-3c5aae8d5b31"
      },
      "source": [
        "def define_model(trial):\n",
        "    n_layers = 1\n",
        "    layers = []\n",
        "\n",
        "    in_features = 28 * 28\n",
        "    for i in range(n_layers):\n",
        "        out_features = 128\n",
        "        layers.append(nn.Linear(in_features, out_features))\n",
        "        layers.append(nn.ReLU())\n",
        "        p = trial.suggest_float(\"dropout_l{}\".format(i), 0.2, 0.5)\n",
        "        layers.append(nn.Dropout(p))\n",
        "\n",
        "        in_features = out_features\n",
        "    layers.append(nn.Linear(in_features, CLASSES))\n",
        "    layers.append(nn.LogSoftmax(dim=1))\n",
        "\n",
        "    return nn.Sequential(*layers)\n",
        "\n",
        "\n",
        "def get_mnist():\n",
        "    \n",
        "    train_loader = torch.utils.data.DataLoader(\n",
        "        datasets.FashionMNIST(DIR, train=True, download=True, transform=transforms.ToTensor()),\n",
        "        batch_size=BATCHSIZE,\n",
        "        shuffle=True,\n",
        "    )\n",
        "    valid_loader = torch.utils.data.DataLoader(\n",
        "        datasets.FashionMNIST(DIR, train=False, transform=transforms.ToTensor()),\n",
        "        batch_size=BATCHSIZE,\n",
        "        shuffle=True,\n",
        "    )\n",
        "\n",
        "    return train_loader, valid_loader\n",
        "\n",
        "\n",
        "def objective(trial):\n",
        "\n",
        "    model = define_model(trial).to(DEVICE)\n",
        "\n",
        "    optimizer_name = trial.suggest_categorical(\"optimizer\", [\"Adam\", \"RMSprop\", \"SGD\"])\n",
        "    lr = trial.suggest_float(\"lr\", 1e-5, 1e-1, log=True)\n",
        "    optimizer = getattr(optim, optimizer_name)(model.parameters(), lr=lr)\n",
        "\n",
        "    train_loader, valid_loader = get_mnist()\n",
        "\n",
        "    for epoch in range(EPOCHS):\n",
        "        model.train()\n",
        "        for batch_idx, (data, target) in enumerate(train_loader):\n",
        "            if batch_idx * BATCHSIZE >= N_TRAIN_EXAMPLES:\n",
        "                break\n",
        "\n",
        "            data, target = data.view(data.size(0), -1).to(DEVICE), target.to(DEVICE)\n",
        "\n",
        "            optimizer.zero_grad()\n",
        "            output = model(data)\n",
        "            loss = F.nll_loss(output, target)\n",
        "            loss.backward()\n",
        "            optimizer.step()\n",
        "\n",
        "        model.eval()\n",
        "        correct = 0\n",
        "        with torch.no_grad():\n",
        "            for batch_idx, (data, target) in enumerate(valid_loader):\n",
        "                if batch_idx * BATCHSIZE >= N_VALID_EXAMPLES:\n",
        "                    break\n",
        "                data, target = data.view(data.size(0), -1).to(DEVICE), target.to(DEVICE)\n",
        "                output = model(data)\n",
        "\n",
        "                pred = output.argmax(dim=1, keepdim=True)\n",
        "                correct += pred.eq(target.view_as(pred)).sum().item()\n",
        "\n",
        "        accuracy = correct / min(len(valid_loader.dataset), N_VALID_EXAMPLES)\n",
        "\n",
        "        trial.report(accuracy, epoch)\n",
        "\n",
        "        if trial.should_prune():\n",
        "            raise optuna.exceptions.TrialPruned()\n",
        "\n",
        "    return accuracy\n",
        "\n",
        "\n",
        "if __name__ == \"__main__\":\n",
        "    study = optuna.create_study(direction=\"maximize\",sampler=optuna.samplers.RandomSampler(seed=42))\n",
        "    study.optimize(objective, n_trials=30, timeout=600)\n",
        "\n",
        "    pruned_trials = study.get_trials(deepcopy=False, states=[TrialState.PRUNED])\n",
        "    complete_trials = study.get_trials(deepcopy=False, states=[TrialState.COMPLETE])\n",
        "\n",
        "    print(\"Study statistics: \")\n",
        "    print(\"  Number of finished trials: \", len(study.trials))\n",
        "    print(\"  Number of pruned trials: \", len(pruned_trials))\n",
        "    print(\"  Number of complete trials: \", len(complete_trials))\n",
        "\n",
        "    print(\"Best trial:\")\n",
        "    trial = study.best_trial\n",
        "\n",
        "    print(\"  Value: \", trial.value)\n",
        "\n",
        "    print(\"  Params: \")\n",
        "    for key, value in trial.params.items():\n",
        "        print(\"    {}: {}\".format(key, value))"
      ],
      "execution_count": null,
      "outputs": [
        {
          "output_type": "stream",
          "text": [
            "\u001b[32m[I 2021-05-31 10:48:01,393]\u001b[0m A new study created in memory with name: no-name-76e0a9f2-7f64-4c50-8c35-8a24e8cc21f2\u001b[0m\n",
            "\u001b[32m[I 2021-05-31 10:48:06,014]\u001b[0m Trial 0 finished with value: 0.6734375 and parameters: {'dropout_l0': 0.3123620356542087, 'optimizer': 'Adam', 'lr': 4.207988669606632e-05}. Best is trial 0 with value: 0.6734375.\u001b[0m\n",
            "\u001b[32m[I 2021-05-31 10:48:10,255]\u001b[0m Trial 1 finished with value: 0.80234375 and parameters: {'dropout_l0': 0.24679835610086082, 'optimizer': 'RMSprop', 'lr': 0.006796578090758156}. Best is trial 1 with value: 0.80234375.\u001b[0m\n",
            "\u001b[32m[I 2021-05-31 10:48:14,566]\u001b[0m Trial 2 finished with value: 0.64765625 and parameters: {'dropout_l0': 0.20617534828874073, 'optimizer': 'Adam', 'lr': 5.3370327626039544e-05}. Best is trial 1 with value: 0.80234375.\u001b[0m\n",
            "\u001b[32m[I 2021-05-31 10:48:18,741]\u001b[0m Trial 3 finished with value: 0.7578125 and parameters: {'dropout_l0': 0.2550213529560302, 'optimizer': 'RMSprop', 'lr': 0.0001461896279370495}. Best is trial 1 with value: 0.80234375.\u001b[0m\n",
            "\u001b[32m[I 2021-05-31 10:48:22,839]\u001b[0m Trial 4 finished with value: 0.29375 and parameters: {'dropout_l0': 0.38355586841671385, 'optimizer': 'SGD', 'lr': 0.0006672367170464204}. Best is trial 1 with value: 0.80234375.\u001b[0m\n",
            "\u001b[32m[I 2021-05-31 10:48:23,277]\u001b[0m Trial 5 pruned. \u001b[0m\n",
            "\u001b[32m[I 2021-05-31 10:48:27,404]\u001b[0m Trial 6 finished with value: 0.79296875 and parameters: {'dropout_l0': 0.3822634555704315, 'optimizer': 'SGD', 'lr': 0.07286653737491042}. Best is trial 1 with value: 0.80234375.\u001b[0m\n",
            "\u001b[32m[I 2021-05-31 10:48:27,834]\u001b[0m Trial 7 pruned. \u001b[0m\n",
            "\u001b[32m[I 2021-05-31 10:48:28,277]\u001b[0m Trial 8 pruned. \u001b[0m\n",
            "\u001b[32m[I 2021-05-31 10:48:28,730]\u001b[0m Trial 9 pruned. \u001b[0m\n",
            "\u001b[32m[I 2021-05-31 10:48:33,103]\u001b[0m Trial 10 finished with value: 0.81796875 and parameters: {'dropout_l0': 0.49087538832936756, 'optimizer': 'RMSprop', 'lr': 0.002463768595899745}. Best is trial 10 with value: 0.81796875.\u001b[0m\n",
            "\u001b[32m[I 2021-05-31 10:48:37,341]\u001b[0m Trial 11 finished with value: 0.7640625 and parameters: {'dropout_l0': 0.47656227050693506, 'optimizer': 'RMSprop', 'lr': 0.0002001342062287998}. Best is trial 10 with value: 0.81796875.\u001b[0m\n",
            "\u001b[32m[I 2021-05-31 10:48:38,245]\u001b[0m Trial 12 pruned. \u001b[0m\n",
            "\u001b[32m[I 2021-05-31 10:48:38,699]\u001b[0m Trial 13 pruned. \u001b[0m\n",
            "\u001b[32m[I 2021-05-31 10:48:39,172]\u001b[0m Trial 14 pruned. \u001b[0m\n",
            "\u001b[32m[I 2021-05-31 10:48:39,725]\u001b[0m Trial 15 pruned. \u001b[0m\n",
            "\u001b[32m[I 2021-05-31 10:48:40,203]\u001b[0m Trial 16 pruned. \u001b[0m\n",
            "\u001b[32m[I 2021-05-31 10:48:40,643]\u001b[0m Trial 17 pruned. \u001b[0m\n",
            "\u001b[32m[I 2021-05-31 10:48:44,960]\u001b[0m Trial 18 finished with value: 0.75859375 and parameters: {'dropout_l0': 0.2358782737814905, 'optimizer': 'RMSprop', 'lr': 0.012130221181165156}. Best is trial 10 with value: 0.81796875.\u001b[0m\n",
            "\u001b[32m[I 2021-05-31 10:48:45,410]\u001b[0m Trial 19 pruned. \u001b[0m\n",
            "\u001b[32m[I 2021-05-31 10:48:45,862]\u001b[0m Trial 20 pruned. \u001b[0m\n",
            "\u001b[32m[I 2021-05-31 10:48:46,322]\u001b[0m Trial 21 pruned. \u001b[0m\n",
            "\u001b[32m[I 2021-05-31 10:48:50,493]\u001b[0m Trial 22 finished with value: 0.81640625 and parameters: {'dropout_l0': 0.28692543587413044, 'optimizer': 'RMSprop', 'lr': 0.0034167643418329683}. Best is trial 10 with value: 0.81796875.\u001b[0m\n",
            "\u001b[32m[I 2021-05-31 10:48:50,927]\u001b[0m Trial 23 pruned. \u001b[0m\n",
            "\u001b[32m[I 2021-05-31 10:48:51,422]\u001b[0m Trial 24 pruned. \u001b[0m\n",
            "\u001b[32m[I 2021-05-31 10:48:55,653]\u001b[0m Trial 25 finished with value: 0.80390625 and parameters: {'dropout_l0': 0.3281323365878769, 'optimizer': 'RMSprop', 'lr': 0.0011040511903162248}. Best is trial 10 with value: 0.81796875.\u001b[0m\n",
            "\u001b[32m[I 2021-05-31 10:48:56,090]\u001b[0m Trial 26 pruned. \u001b[0m\n",
            "\u001b[32m[I 2021-05-31 10:48:56,524]\u001b[0m Trial 27 pruned. \u001b[0m\n",
            "\u001b[32m[I 2021-05-31 10:48:56,961]\u001b[0m Trial 28 pruned. \u001b[0m\n",
            "\u001b[32m[I 2021-05-31 10:48:57,403]\u001b[0m Trial 29 pruned. \u001b[0m\n"
          ],
          "name": "stderr"
        },
        {
          "output_type": "stream",
          "text": [
            "Study statistics: \n",
            "  Number of finished trials:  30\n",
            "  Number of pruned trials:  19\n",
            "  Number of complete trials:  11\n",
            "Best trial:\n",
            "  Value:  0.81796875\n",
            "  Params: \n",
            "    dropout_l0: 0.49087538832936756\n",
            "    optimizer: RMSprop\n",
            "    lr: 0.002463768595899745\n"
          ],
          "name": "stdout"
        }
      ]
    },
    {
      "cell_type": "code",
      "metadata": {
        "colab": {
          "base_uri": "https://localhost:8080/",
          "height": 542
        },
        "id": "3VQL1_5i_2Nx",
        "outputId": "fa00f5cd-7003-45c2-a242-6bfe122f9088"
      },
      "source": [
        "from optuna.visualization import plot_optimization_history\n",
        "# 最適化の様子の視覚化\n",
        "plot_optimization_history(study)"
      ],
      "execution_count": null,
      "outputs": [
        {
          "output_type": "display_data",
          "data": {
            "text/html": [
              "<html>\n",
              "<head><meta charset=\"utf-8\" /></head>\n",
              "<body>\n",
              "    <div>\n",
              "            <script src=\"https://cdnjs.cloudflare.com/ajax/libs/mathjax/2.7.5/MathJax.js?config=TeX-AMS-MML_SVG\"></script><script type=\"text/javascript\">if (window.MathJax) {MathJax.Hub.Config({SVG: {font: \"STIX-Web\"}});}</script>\n",
              "                <script type=\"text/javascript\">window.PlotlyConfig = {MathJaxConfig: 'local'};</script>\n",
              "        <script src=\"https://cdn.plot.ly/plotly-latest.min.js\"></script>    \n",
              "            <div id=\"6257a9d8-df68-47bc-b3fe-04ebc67a2bd4\" class=\"plotly-graph-div\" style=\"height:525px; width:100%;\"></div>\n",
              "            <script type=\"text/javascript\">\n",
              "                \n",
              "                    window.PLOTLYENV=window.PLOTLYENV || {};\n",
              "                    \n",
              "                if (document.getElementById(\"6257a9d8-df68-47bc-b3fe-04ebc67a2bd4\")) {\n",
              "                    Plotly.newPlot(\n",
              "                        '6257a9d8-df68-47bc-b3fe-04ebc67a2bd4',\n",
              "                        [{\"mode\": \"markers\", \"name\": \"Objective Value\", \"type\": \"scatter\", \"x\": [0, 1, 2, 3, 4, 6, 10, 11, 18, 22, 25], \"y\": [0.6734375, 0.80234375, 0.64765625, 0.7578125, 0.29375, 0.79296875, 0.81796875, 0.7640625, 0.75859375, 0.81640625, 0.80390625]}, {\"name\": \"Best Value\", \"type\": \"scatter\", \"x\": [0, 1, 2, 3, 4, 6, 10, 11, 18, 22, 25], \"y\": [0.6734375, 0.80234375, 0.80234375, 0.80234375, 0.80234375, 0.80234375, 0.81796875, 0.81796875, 0.81796875, 0.81796875, 0.81796875]}],\n",
              "                        {\"template\": {\"data\": {\"bar\": [{\"error_x\": {\"color\": \"#2a3f5f\"}, \"error_y\": {\"color\": \"#2a3f5f\"}, \"marker\": {\"line\": {\"color\": \"#E5ECF6\", \"width\": 0.5}}, \"type\": \"bar\"}], \"barpolar\": [{\"marker\": {\"line\": {\"color\": \"#E5ECF6\", \"width\": 0.5}}, \"type\": \"barpolar\"}], \"carpet\": [{\"aaxis\": {\"endlinecolor\": \"#2a3f5f\", \"gridcolor\": \"white\", \"linecolor\": \"white\", \"minorgridcolor\": \"white\", \"startlinecolor\": \"#2a3f5f\"}, \"baxis\": {\"endlinecolor\": \"#2a3f5f\", \"gridcolor\": \"white\", \"linecolor\": \"white\", \"minorgridcolor\": \"white\", \"startlinecolor\": \"#2a3f5f\"}, \"type\": \"carpet\"}], \"choropleth\": [{\"colorbar\": {\"outlinewidth\": 0, \"ticks\": \"\"}, \"type\": \"choropleth\"}], \"contour\": [{\"colorbar\": {\"outlinewidth\": 0, \"ticks\": \"\"}, \"colorscale\": [[0.0, \"#0d0887\"], [0.1111111111111111, \"#46039f\"], [0.2222222222222222, \"#7201a8\"], [0.3333333333333333, \"#9c179e\"], [0.4444444444444444, \"#bd3786\"], [0.5555555555555556, \"#d8576b\"], [0.6666666666666666, \"#ed7953\"], [0.7777777777777778, \"#fb9f3a\"], [0.8888888888888888, \"#fdca26\"], [1.0, \"#f0f921\"]], \"type\": \"contour\"}], \"contourcarpet\": [{\"colorbar\": {\"outlinewidth\": 0, \"ticks\": \"\"}, \"type\": \"contourcarpet\"}], \"heatmap\": [{\"colorbar\": {\"outlinewidth\": 0, \"ticks\": \"\"}, \"colorscale\": [[0.0, \"#0d0887\"], [0.1111111111111111, \"#46039f\"], [0.2222222222222222, \"#7201a8\"], [0.3333333333333333, \"#9c179e\"], [0.4444444444444444, \"#bd3786\"], [0.5555555555555556, \"#d8576b\"], [0.6666666666666666, \"#ed7953\"], [0.7777777777777778, \"#fb9f3a\"], [0.8888888888888888, \"#fdca26\"], [1.0, \"#f0f921\"]], \"type\": \"heatmap\"}], \"heatmapgl\": [{\"colorbar\": {\"outlinewidth\": 0, \"ticks\": \"\"}, \"colorscale\": [[0.0, \"#0d0887\"], [0.1111111111111111, \"#46039f\"], [0.2222222222222222, \"#7201a8\"], [0.3333333333333333, \"#9c179e\"], [0.4444444444444444, \"#bd3786\"], [0.5555555555555556, \"#d8576b\"], [0.6666666666666666, \"#ed7953\"], [0.7777777777777778, \"#fb9f3a\"], [0.8888888888888888, \"#fdca26\"], [1.0, \"#f0f921\"]], \"type\": \"heatmapgl\"}], \"histogram\": [{\"marker\": {\"colorbar\": {\"outlinewidth\": 0, \"ticks\": \"\"}}, \"type\": \"histogram\"}], \"histogram2d\": [{\"colorbar\": {\"outlinewidth\": 0, \"ticks\": \"\"}, \"colorscale\": [[0.0, \"#0d0887\"], [0.1111111111111111, \"#46039f\"], [0.2222222222222222, \"#7201a8\"], [0.3333333333333333, \"#9c179e\"], [0.4444444444444444, \"#bd3786\"], [0.5555555555555556, \"#d8576b\"], [0.6666666666666666, \"#ed7953\"], [0.7777777777777778, \"#fb9f3a\"], [0.8888888888888888, \"#fdca26\"], [1.0, \"#f0f921\"]], \"type\": \"histogram2d\"}], \"histogram2dcontour\": [{\"colorbar\": {\"outlinewidth\": 0, \"ticks\": \"\"}, \"colorscale\": [[0.0, \"#0d0887\"], [0.1111111111111111, \"#46039f\"], [0.2222222222222222, \"#7201a8\"], [0.3333333333333333, \"#9c179e\"], [0.4444444444444444, \"#bd3786\"], [0.5555555555555556, \"#d8576b\"], [0.6666666666666666, \"#ed7953\"], [0.7777777777777778, \"#fb9f3a\"], [0.8888888888888888, \"#fdca26\"], [1.0, \"#f0f921\"]], \"type\": \"histogram2dcontour\"}], \"mesh3d\": [{\"colorbar\": {\"outlinewidth\": 0, \"ticks\": \"\"}, \"type\": \"mesh3d\"}], \"parcoords\": [{\"line\": {\"colorbar\": {\"outlinewidth\": 0, \"ticks\": \"\"}}, \"type\": \"parcoords\"}], \"pie\": [{\"automargin\": true, \"type\": \"pie\"}], \"scatter\": [{\"marker\": {\"colorbar\": {\"outlinewidth\": 0, \"ticks\": \"\"}}, \"type\": \"scatter\"}], \"scatter3d\": [{\"line\": {\"colorbar\": {\"outlinewidth\": 0, \"ticks\": \"\"}}, \"marker\": {\"colorbar\": {\"outlinewidth\": 0, \"ticks\": \"\"}}, \"type\": \"scatter3d\"}], \"scattercarpet\": [{\"marker\": {\"colorbar\": {\"outlinewidth\": 0, \"ticks\": \"\"}}, \"type\": \"scattercarpet\"}], \"scattergeo\": [{\"marker\": {\"colorbar\": {\"outlinewidth\": 0, \"ticks\": \"\"}}, \"type\": \"scattergeo\"}], \"scattergl\": [{\"marker\": {\"colorbar\": {\"outlinewidth\": 0, \"ticks\": \"\"}}, \"type\": \"scattergl\"}], \"scattermapbox\": [{\"marker\": {\"colorbar\": {\"outlinewidth\": 0, \"ticks\": \"\"}}, \"type\": \"scattermapbox\"}], \"scatterpolar\": [{\"marker\": {\"colorbar\": {\"outlinewidth\": 0, \"ticks\": \"\"}}, \"type\": \"scatterpolar\"}], \"scatterpolargl\": [{\"marker\": {\"colorbar\": {\"outlinewidth\": 0, \"ticks\": \"\"}}, \"type\": \"scatterpolargl\"}], \"scatterternary\": [{\"marker\": {\"colorbar\": {\"outlinewidth\": 0, \"ticks\": \"\"}}, \"type\": \"scatterternary\"}], \"surface\": [{\"colorbar\": {\"outlinewidth\": 0, \"ticks\": \"\"}, \"colorscale\": [[0.0, \"#0d0887\"], [0.1111111111111111, \"#46039f\"], [0.2222222222222222, \"#7201a8\"], [0.3333333333333333, \"#9c179e\"], [0.4444444444444444, \"#bd3786\"], [0.5555555555555556, \"#d8576b\"], [0.6666666666666666, \"#ed7953\"], [0.7777777777777778, \"#fb9f3a\"], [0.8888888888888888, \"#fdca26\"], [1.0, \"#f0f921\"]], \"type\": \"surface\"}], \"table\": [{\"cells\": {\"fill\": {\"color\": \"#EBF0F8\"}, \"line\": {\"color\": \"white\"}}, \"header\": {\"fill\": {\"color\": \"#C8D4E3\"}, \"line\": {\"color\": \"white\"}}, \"type\": \"table\"}]}, \"layout\": {\"annotationdefaults\": {\"arrowcolor\": \"#2a3f5f\", \"arrowhead\": 0, \"arrowwidth\": 1}, \"coloraxis\": {\"colorbar\": {\"outlinewidth\": 0, \"ticks\": \"\"}}, \"colorscale\": {\"diverging\": [[0, \"#8e0152\"], [0.1, \"#c51b7d\"], [0.2, \"#de77ae\"], [0.3, \"#f1b6da\"], [0.4, \"#fde0ef\"], [0.5, \"#f7f7f7\"], [0.6, \"#e6f5d0\"], [0.7, \"#b8e186\"], [0.8, \"#7fbc41\"], [0.9, \"#4d9221\"], [1, \"#276419\"]], \"sequential\": [[0.0, \"#0d0887\"], [0.1111111111111111, \"#46039f\"], [0.2222222222222222, \"#7201a8\"], [0.3333333333333333, \"#9c179e\"], [0.4444444444444444, \"#bd3786\"], [0.5555555555555556, \"#d8576b\"], [0.6666666666666666, \"#ed7953\"], [0.7777777777777778, \"#fb9f3a\"], [0.8888888888888888, \"#fdca26\"], [1.0, \"#f0f921\"]], \"sequentialminus\": [[0.0, \"#0d0887\"], [0.1111111111111111, \"#46039f\"], [0.2222222222222222, \"#7201a8\"], [0.3333333333333333, \"#9c179e\"], [0.4444444444444444, \"#bd3786\"], [0.5555555555555556, \"#d8576b\"], [0.6666666666666666, \"#ed7953\"], [0.7777777777777778, \"#fb9f3a\"], [0.8888888888888888, \"#fdca26\"], [1.0, \"#f0f921\"]]}, \"colorway\": [\"#636efa\", \"#EF553B\", \"#00cc96\", \"#ab63fa\", \"#FFA15A\", \"#19d3f3\", \"#FF6692\", \"#B6E880\", \"#FF97FF\", \"#FECB52\"], \"font\": {\"color\": \"#2a3f5f\"}, \"geo\": {\"bgcolor\": \"white\", \"lakecolor\": \"white\", \"landcolor\": \"#E5ECF6\", \"showlakes\": true, \"showland\": true, \"subunitcolor\": \"white\"}, \"hoverlabel\": {\"align\": \"left\"}, \"hovermode\": \"closest\", \"mapbox\": {\"style\": \"light\"}, \"paper_bgcolor\": \"white\", \"plot_bgcolor\": \"#E5ECF6\", \"polar\": {\"angularaxis\": {\"gridcolor\": \"white\", \"linecolor\": \"white\", \"ticks\": \"\"}, \"bgcolor\": \"#E5ECF6\", \"radialaxis\": {\"gridcolor\": \"white\", \"linecolor\": \"white\", \"ticks\": \"\"}}, \"scene\": {\"xaxis\": {\"backgroundcolor\": \"#E5ECF6\", \"gridcolor\": \"white\", \"gridwidth\": 2, \"linecolor\": \"white\", \"showbackground\": true, \"ticks\": \"\", \"zerolinecolor\": \"white\"}, \"yaxis\": {\"backgroundcolor\": \"#E5ECF6\", \"gridcolor\": \"white\", \"gridwidth\": 2, \"linecolor\": \"white\", \"showbackground\": true, \"ticks\": \"\", \"zerolinecolor\": \"white\"}, \"zaxis\": {\"backgroundcolor\": \"#E5ECF6\", \"gridcolor\": \"white\", \"gridwidth\": 2, \"linecolor\": \"white\", \"showbackground\": true, \"ticks\": \"\", \"zerolinecolor\": \"white\"}}, \"shapedefaults\": {\"line\": {\"color\": \"#2a3f5f\"}}, \"ternary\": {\"aaxis\": {\"gridcolor\": \"white\", \"linecolor\": \"white\", \"ticks\": \"\"}, \"baxis\": {\"gridcolor\": \"white\", \"linecolor\": \"white\", \"ticks\": \"\"}, \"bgcolor\": \"#E5ECF6\", \"caxis\": {\"gridcolor\": \"white\", \"linecolor\": \"white\", \"ticks\": \"\"}}, \"title\": {\"x\": 0.05}, \"xaxis\": {\"automargin\": true, \"gridcolor\": \"white\", \"linecolor\": \"white\", \"ticks\": \"\", \"title\": {\"standoff\": 15}, \"zerolinecolor\": \"white\", \"zerolinewidth\": 2}, \"yaxis\": {\"automargin\": true, \"gridcolor\": \"white\", \"linecolor\": \"white\", \"ticks\": \"\", \"title\": {\"standoff\": 15}, \"zerolinecolor\": \"white\", \"zerolinewidth\": 2}}}, \"title\": {\"text\": \"Optimization History Plot\"}, \"xaxis\": {\"title\": {\"text\": \"#Trials\"}}, \"yaxis\": {\"title\": {\"text\": \"Objective Value\"}}},\n",
              "                        {\"responsive\": true}\n",
              "                    ).then(function(){\n",
              "                            \n",
              "var gd = document.getElementById('6257a9d8-df68-47bc-b3fe-04ebc67a2bd4');\n",
              "var x = new MutationObserver(function (mutations, observer) {{\n",
              "        var display = window.getComputedStyle(gd).display;\n",
              "        if (!display || display === 'none') {{\n",
              "            console.log([gd, 'removed!']);\n",
              "            Plotly.purge(gd);\n",
              "            observer.disconnect();\n",
              "        }}\n",
              "}});\n",
              "\n",
              "// Listen for the removal of the full notebook cells\n",
              "var notebookContainer = gd.closest('#notebook-container');\n",
              "if (notebookContainer) {{\n",
              "    x.observe(notebookContainer, {childList: true});\n",
              "}}\n",
              "\n",
              "// Listen for the clearing of the current output cell\n",
              "var outputEl = gd.closest('.output');\n",
              "if (outputEl) {{\n",
              "    x.observe(outputEl, {childList: true});\n",
              "}}\n",
              "\n",
              "                        })\n",
              "                };\n",
              "                \n",
              "            </script>\n",
              "        </div>\n",
              "</body>\n",
              "</html>"
            ]
          },
          "metadata": {
            "tags": []
          }
        }
      ]
    },
    {
      "cell_type": "code",
      "metadata": {
        "colab": {
          "base_uri": "https://localhost:8080/",
          "height": 542
        },
        "id": "jgeRDexMAHDQ",
        "outputId": "6370f310-5c66-4c34-f0d8-27cb7da214c1"
      },
      "source": [
        "from optuna.visualization import plot_contour\n",
        "# ハイパーパラメータ間の関係の視覚化\n",
        "plot_contour(study)"
      ],
      "execution_count": null,
      "outputs": [
        {
          "output_type": "display_data",
          "data": {
            "text/html": [
              "<html>\n",
              "<head><meta charset=\"utf-8\" /></head>\n",
              "<body>\n",
              "    <div>\n",
              "            <script src=\"https://cdnjs.cloudflare.com/ajax/libs/mathjax/2.7.5/MathJax.js?config=TeX-AMS-MML_SVG\"></script><script type=\"text/javascript\">if (window.MathJax) {MathJax.Hub.Config({SVG: {font: \"STIX-Web\"}});}</script>\n",
              "                <script type=\"text/javascript\">window.PlotlyConfig = {MathJaxConfig: 'local'};</script>\n",
              "        <script src=\"https://cdn.plot.ly/plotly-latest.min.js\"></script>    \n",
              "            <div id=\"8180979a-d81e-48e0-a610-efab2ab17da0\" class=\"plotly-graph-div\" style=\"height:525px; width:100%;\"></div>\n",
              "            <script type=\"text/javascript\">\n",
              "                \n",
              "                    window.PLOTLYENV=window.PLOTLYENV || {};\n",
              "                    \n",
              "                if (document.getElementById(\"8180979a-d81e-48e0-a610-efab2ab17da0\")) {\n",
              "                    Plotly.newPlot(\n",
              "                        '8180979a-d81e-48e0-a610-efab2ab17da0',\n",
              "                        [{\"type\": \"scatter\", \"xaxis\": \"x\", \"yaxis\": \"y\"}, {\"colorbar\": {\"title\": {\"text\": \"Objective Value\"}}, \"colorscale\": [[0, \"rgb(5,10,172)\"], [0.35, \"rgb(40,60,190)\"], [0.5, \"rgb(70,100,245)\"], [0.6, \"rgb(90,120,245)\"], [0.7, \"rgb(106,137,247)\"], [1, \"rgb(220,220,220)\"]], \"connectgaps\": true, \"contours\": {\"coloring\": \"heatmap\"}, \"hoverinfo\": \"none\", \"line\": {\"smoothing\": 1.3}, \"reversescale\": false, \"showscale\": true, \"type\": \"contour\", \"x\": [0.1919403462867094, 0.20617534828874073, 0.2358782737814905, 0.24679835610086082, 0.2550213529560302, 0.28692543587413044, 0.3123620356542087, 0.3281323365878769, 0.3822634555704315, 0.38355586841671385, 0.47656227050693506, 0.49087538832936756, 0.5051103903313989], \"xaxis\": \"x4\", \"y\": [2.8983570357598587e-05, 4.207988669606632e-05, 5.3370327626039544e-05, 0.0001461896279370495, 0.0002001342062287998, 0.0006672367170464204, 0.0011040511903162248, 0.002463768595899745, 0.0034167643418329683, 0.006796578090758156, 0.012130221181165156, 0.07286653737491042, 0.10579150873546686], \"yaxis\": \"y4\", \"z\": [[null, null, null, null, null, null, null, null, null, null, null, null, null], [null, null, null, null, null, null, 0.6734375, null, null, null, null, null, null], [null, 0.64765625, null, null, null, null, null, null, null, null, null, null, null], [null, null, null, null, 0.7578125, null, null, null, null, null, null, null, null], [null, null, null, null, null, null, null, null, null, null, 0.7640625, null, null], [null, null, null, null, null, null, null, null, null, 0.29375, null, null, null], [null, null, null, null, null, null, null, 0.80390625, null, null, null, null, null], [null, null, null, null, null, null, null, null, null, null, null, 0.81796875, null], [null, null, null, null, null, 0.81640625, null, null, null, null, null, null, null], [null, null, null, 0.80234375, null, null, null, null, null, null, null, null, null], [null, null, 0.75859375, null, null, null, null, null, null, null, null, null, null], [null, null, null, null, null, null, null, null, 0.79296875, null, null, null, null], [null, null, null, null, null, null, null, null, null, null, null, null, null]]}, {\"marker\": {\"color\": \"black\", \"line\": {\"color\": \"Grey\", \"width\": 0.5}}, \"mode\": \"markers\", \"showlegend\": false, \"type\": \"scatter\", \"x\": [0.3123620356542087, 0.24679835610086082, 0.20617534828874073, 0.2550213529560302, 0.38355586841671385, 0.3822634555704315, 0.49087538832936756, 0.47656227050693506, 0.2358782737814905, 0.28692543587413044, 0.3281323365878769], \"xaxis\": \"x4\", \"y\": [4.207988669606632e-05, 0.006796578090758156, 5.3370327626039544e-05, 0.0001461896279370495, 0.0006672367170464204, 0.07286653737491042, 0.002463768595899745, 0.0002001342062287998, 0.012130221181165156, 0.0034167643418329683, 0.0011040511903162248], \"yaxis\": \"y4\"}, {\"colorbar\": {\"title\": {\"text\": \"Objective Value\"}}, \"colorscale\": [[0, \"rgb(5,10,172)\"], [0.35, \"rgb(40,60,190)\"], [0.5, \"rgb(70,100,245)\"], [0.6, \"rgb(90,120,245)\"], [0.7, \"rgb(106,137,247)\"], [1, \"rgb(220,220,220)\"]], \"connectgaps\": true, \"contours\": {\"coloring\": \"heatmap\"}, \"hoverinfo\": \"none\", \"line\": {\"smoothing\": 1.3}, \"reversescale\": false, \"showscale\": false, \"type\": \"contour\", \"x\": [0.1919403462867094, 0.20617534828874073, 0.2358782737814905, 0.24679835610086082, 0.2550213529560302, 0.28692543587413044, 0.3123620356542087, 0.3281323365878769, 0.3822634555704315, 0.38355586841671385, 0.47656227050693506, 0.49087538832936756, 0.5051103903313989], \"xaxis\": \"x7\", \"y\": [\"Adam\", \"RMSprop\", \"SGD\"], \"yaxis\": \"y7\", \"z\": [[null, 0.64765625, null, null, null, null, 0.6734375, null, null, null, null, null, null], [null, null, 0.75859375, 0.80234375, 0.7578125, 0.81640625, null, 0.80390625, null, null, 0.7640625, 0.81796875, null], [null, null, null, null, null, null, null, null, 0.79296875, 0.29375, null, null, null]]}, {\"marker\": {\"color\": \"black\", \"line\": {\"color\": \"Grey\", \"width\": 0.5}}, \"mode\": \"markers\", \"showlegend\": false, \"type\": \"scatter\", \"x\": [0.3123620356542087, 0.24679835610086082, 0.20617534828874073, 0.2550213529560302, 0.38355586841671385, 0.3822634555704315, 0.49087538832936756, 0.47656227050693506, 0.2358782737814905, 0.28692543587413044, 0.3281323365878769], \"xaxis\": \"x7\", \"y\": [\"Adam\", \"RMSprop\", \"Adam\", \"RMSprop\", \"SGD\", \"SGD\", \"RMSprop\", \"RMSprop\", \"RMSprop\", \"RMSprop\", \"RMSprop\"], \"yaxis\": \"y7\"}, {\"colorbar\": {\"title\": {\"text\": \"Objective Value\"}}, \"colorscale\": [[0, \"rgb(5,10,172)\"], [0.35, \"rgb(40,60,190)\"], [0.5, \"rgb(70,100,245)\"], [0.6, \"rgb(90,120,245)\"], [0.7, \"rgb(106,137,247)\"], [1, \"rgb(220,220,220)\"]], \"connectgaps\": true, \"contours\": {\"coloring\": \"heatmap\"}, \"hoverinfo\": \"none\", \"line\": {\"smoothing\": 1.3}, \"reversescale\": false, \"showscale\": false, \"type\": \"contour\", \"x\": [2.8983570357598587e-05, 4.207988669606632e-05, 5.3370327626039544e-05, 0.0001461896279370495, 0.0002001342062287998, 0.0006672367170464204, 0.0011040511903162248, 0.002463768595899745, 0.0034167643418329683, 0.006796578090758156, 0.012130221181165156, 0.07286653737491042, 0.10579150873546686], \"xaxis\": \"x2\", \"y\": [0.1919403462867094, 0.20617534828874073, 0.2358782737814905, 0.24679835610086082, 0.2550213529560302, 0.28692543587413044, 0.3123620356542087, 0.3281323365878769, 0.3822634555704315, 0.38355586841671385, 0.47656227050693506, 0.49087538832936756, 0.5051103903313989], \"yaxis\": \"y2\", \"z\": [[null, null, null, null, null, null, null, null, null, null, null, null, null], [null, null, 0.64765625, null, null, null, null, null, null, null, null, null, null], [null, null, null, null, null, null, null, null, null, null, 0.75859375, null, null], [null, null, null, null, null, null, null, null, null, 0.80234375, null, null, null], [null, null, null, 0.7578125, null, null, null, null, null, null, null, null, null], [null, null, null, null, null, null, null, null, 0.81640625, null, null, null, null], [null, 0.6734375, null, null, null, null, null, null, null, null, null, null, null], [null, null, null, null, null, null, 0.80390625, null, null, null, null, null, null], [null, null, null, null, null, null, null, null, null, null, null, 0.79296875, null], [null, null, null, null, null, 0.29375, null, null, null, null, null, null, null], [null, null, null, null, 0.7640625, null, null, null, null, null, null, null, null], [null, null, null, null, null, null, null, 0.81796875, null, null, null, null, null], [null, null, null, null, null, null, null, null, null, null, null, null, null]]}, {\"marker\": {\"color\": \"black\", \"line\": {\"color\": \"Grey\", \"width\": 0.5}}, \"mode\": \"markers\", \"showlegend\": false, \"type\": \"scatter\", \"x\": [4.207988669606632e-05, 0.006796578090758156, 5.3370327626039544e-05, 0.0001461896279370495, 0.0006672367170464204, 0.07286653737491042, 0.002463768595899745, 0.0002001342062287998, 0.012130221181165156, 0.0034167643418329683, 0.0011040511903162248], \"xaxis\": \"x2\", \"y\": [0.3123620356542087, 0.24679835610086082, 0.20617534828874073, 0.2550213529560302, 0.38355586841671385, 0.3822634555704315, 0.49087538832936756, 0.47656227050693506, 0.2358782737814905, 0.28692543587413044, 0.3281323365878769], \"yaxis\": \"y2\"}, {\"type\": \"scatter\", \"xaxis\": \"x5\", \"yaxis\": \"y5\"}, {\"colorbar\": {\"title\": {\"text\": \"Objective Value\"}}, \"colorscale\": [[0, \"rgb(5,10,172)\"], [0.35, \"rgb(40,60,190)\"], [0.5, \"rgb(70,100,245)\"], [0.6, \"rgb(90,120,245)\"], [0.7, \"rgb(106,137,247)\"], [1, \"rgb(220,220,220)\"]], \"connectgaps\": true, \"contours\": {\"coloring\": \"heatmap\"}, \"hoverinfo\": \"none\", \"line\": {\"smoothing\": 1.3}, \"reversescale\": false, \"showscale\": false, \"type\": \"contour\", \"x\": [2.8983570357598587e-05, 4.207988669606632e-05, 5.3370327626039544e-05, 0.0001461896279370495, 0.0002001342062287998, 0.0006672367170464204, 0.0011040511903162248, 0.002463768595899745, 0.0034167643418329683, 0.006796578090758156, 0.012130221181165156, 0.07286653737491042, 0.10579150873546686], \"xaxis\": \"x8\", \"y\": [\"Adam\", \"RMSprop\", \"SGD\"], \"yaxis\": \"y8\", \"z\": [[null, 0.6734375, 0.64765625, null, null, null, null, null, null, null, null, null, null], [null, null, null, 0.7578125, 0.7640625, null, 0.80390625, 0.81796875, 0.81640625, 0.80234375, 0.75859375, null, null], [null, null, null, null, null, 0.29375, null, null, null, null, null, 0.79296875, null]]}, {\"marker\": {\"color\": \"black\", \"line\": {\"color\": \"Grey\", \"width\": 0.5}}, \"mode\": \"markers\", \"showlegend\": false, \"type\": \"scatter\", \"x\": [4.207988669606632e-05, 0.006796578090758156, 5.3370327626039544e-05, 0.0001461896279370495, 0.0006672367170464204, 0.07286653737491042, 0.002463768595899745, 0.0002001342062287998, 0.012130221181165156, 0.0034167643418329683, 0.0011040511903162248], \"xaxis\": \"x8\", \"y\": [\"Adam\", \"RMSprop\", \"Adam\", \"RMSprop\", \"SGD\", \"SGD\", \"RMSprop\", \"RMSprop\", \"RMSprop\", \"RMSprop\", \"RMSprop\"], \"yaxis\": \"y8\"}, {\"colorbar\": {\"title\": {\"text\": \"Objective Value\"}}, \"colorscale\": [[0, \"rgb(5,10,172)\"], [0.35, \"rgb(40,60,190)\"], [0.5, \"rgb(70,100,245)\"], [0.6, \"rgb(90,120,245)\"], [0.7, \"rgb(106,137,247)\"], [1, \"rgb(220,220,220)\"]], \"connectgaps\": true, \"contours\": {\"coloring\": \"heatmap\"}, \"hoverinfo\": \"none\", \"line\": {\"smoothing\": 1.3}, \"reversescale\": false, \"showscale\": false, \"type\": \"contour\", \"x\": [\"Adam\", \"RMSprop\", \"SGD\"], \"xaxis\": \"x3\", \"y\": [0.1919403462867094, 0.20617534828874073, 0.2358782737814905, 0.24679835610086082, 0.2550213529560302, 0.28692543587413044, 0.3123620356542087, 0.3281323365878769, 0.3822634555704315, 0.38355586841671385, 0.47656227050693506, 0.49087538832936756, 0.5051103903313989], \"yaxis\": \"y3\", \"z\": [[null, null, null], [0.64765625, null, null], [null, 0.75859375, null], [null, 0.80234375, null], [null, 0.7578125, null], [null, 0.81640625, null], [0.6734375, null, null], [null, 0.80390625, null], [null, null, 0.79296875], [null, null, 0.29375], [null, 0.7640625, null], [null, 0.81796875, null], [null, null, null]]}, {\"marker\": {\"color\": \"black\", \"line\": {\"color\": \"Grey\", \"width\": 0.5}}, \"mode\": \"markers\", \"showlegend\": false, \"type\": \"scatter\", \"x\": [\"Adam\", \"RMSprop\", \"Adam\", \"RMSprop\", \"SGD\", \"SGD\", \"RMSprop\", \"RMSprop\", \"RMSprop\", \"RMSprop\", \"RMSprop\"], \"xaxis\": \"x3\", \"y\": [0.3123620356542087, 0.24679835610086082, 0.20617534828874073, 0.2550213529560302, 0.38355586841671385, 0.3822634555704315, 0.49087538832936756, 0.47656227050693506, 0.2358782737814905, 0.28692543587413044, 0.3281323365878769], \"yaxis\": \"y3\"}, {\"colorbar\": {\"title\": {\"text\": \"Objective Value\"}}, \"colorscale\": [[0, \"rgb(5,10,172)\"], [0.35, \"rgb(40,60,190)\"], [0.5, \"rgb(70,100,245)\"], [0.6, \"rgb(90,120,245)\"], [0.7, \"rgb(106,137,247)\"], [1, \"rgb(220,220,220)\"]], \"connectgaps\": true, \"contours\": {\"coloring\": \"heatmap\"}, \"hoverinfo\": \"none\", \"line\": {\"smoothing\": 1.3}, \"reversescale\": false, \"showscale\": false, \"type\": \"contour\", \"x\": [\"Adam\", \"RMSprop\", \"SGD\"], \"xaxis\": \"x6\", \"y\": [2.8983570357598587e-05, 4.207988669606632e-05, 5.3370327626039544e-05, 0.0001461896279370495, 0.0002001342062287998, 0.0006672367170464204, 0.0011040511903162248, 0.002463768595899745, 0.0034167643418329683, 0.006796578090758156, 0.012130221181165156, 0.07286653737491042, 0.10579150873546686], \"yaxis\": \"y6\", \"z\": [[null, null, null], [0.6734375, null, null], [0.64765625, null, null], [null, 0.7578125, null], [null, 0.7640625, null], [null, null, 0.29375], [null, 0.80390625, null], [null, 0.81796875, null], [null, 0.81640625, null], [null, 0.80234375, null], [null, 0.75859375, null], [null, null, 0.79296875], [null, null, null]]}, {\"marker\": {\"color\": \"black\", \"line\": {\"color\": \"Grey\", \"width\": 0.5}}, \"mode\": \"markers\", \"showlegend\": false, \"type\": \"scatter\", \"x\": [\"Adam\", \"RMSprop\", \"Adam\", \"RMSprop\", \"SGD\", \"SGD\", \"RMSprop\", \"RMSprop\", \"RMSprop\", \"RMSprop\", \"RMSprop\"], \"xaxis\": \"x6\", \"y\": [4.207988669606632e-05, 0.006796578090758156, 5.3370327626039544e-05, 0.0001461896279370495, 0.0006672367170464204, 0.07286653737491042, 0.002463768595899745, 0.0002001342062287998, 0.012130221181165156, 0.0034167643418329683, 0.0011040511903162248], \"yaxis\": \"y6\"}, {\"type\": \"scatter\", \"xaxis\": \"x9\", \"yaxis\": \"y9\"}],\n",
              "                        {\"template\": {\"data\": {\"bar\": [{\"error_x\": {\"color\": \"#2a3f5f\"}, \"error_y\": {\"color\": \"#2a3f5f\"}, \"marker\": {\"line\": {\"color\": \"#E5ECF6\", \"width\": 0.5}}, \"type\": \"bar\"}], \"barpolar\": [{\"marker\": {\"line\": {\"color\": \"#E5ECF6\", \"width\": 0.5}}, \"type\": \"barpolar\"}], \"carpet\": [{\"aaxis\": {\"endlinecolor\": \"#2a3f5f\", \"gridcolor\": \"white\", \"linecolor\": \"white\", \"minorgridcolor\": \"white\", \"startlinecolor\": \"#2a3f5f\"}, \"baxis\": {\"endlinecolor\": \"#2a3f5f\", \"gridcolor\": \"white\", \"linecolor\": \"white\", \"minorgridcolor\": \"white\", \"startlinecolor\": \"#2a3f5f\"}, \"type\": \"carpet\"}], \"choropleth\": [{\"colorbar\": {\"outlinewidth\": 0, \"ticks\": \"\"}, \"type\": \"choropleth\"}], \"contour\": [{\"colorbar\": {\"outlinewidth\": 0, \"ticks\": \"\"}, \"colorscale\": [[0.0, \"#0d0887\"], [0.1111111111111111, \"#46039f\"], [0.2222222222222222, \"#7201a8\"], [0.3333333333333333, \"#9c179e\"], [0.4444444444444444, \"#bd3786\"], [0.5555555555555556, \"#d8576b\"], [0.6666666666666666, \"#ed7953\"], [0.7777777777777778, \"#fb9f3a\"], [0.8888888888888888, \"#fdca26\"], [1.0, \"#f0f921\"]], \"type\": \"contour\"}], \"contourcarpet\": [{\"colorbar\": {\"outlinewidth\": 0, \"ticks\": \"\"}, \"type\": \"contourcarpet\"}], \"heatmap\": [{\"colorbar\": {\"outlinewidth\": 0, \"ticks\": \"\"}, \"colorscale\": [[0.0, \"#0d0887\"], [0.1111111111111111, \"#46039f\"], [0.2222222222222222, \"#7201a8\"], [0.3333333333333333, \"#9c179e\"], [0.4444444444444444, \"#bd3786\"], [0.5555555555555556, \"#d8576b\"], [0.6666666666666666, \"#ed7953\"], [0.7777777777777778, \"#fb9f3a\"], [0.8888888888888888, \"#fdca26\"], [1.0, \"#f0f921\"]], \"type\": \"heatmap\"}], \"heatmapgl\": [{\"colorbar\": {\"outlinewidth\": 0, \"ticks\": \"\"}, \"colorscale\": [[0.0, \"#0d0887\"], [0.1111111111111111, \"#46039f\"], [0.2222222222222222, \"#7201a8\"], [0.3333333333333333, \"#9c179e\"], [0.4444444444444444, \"#bd3786\"], [0.5555555555555556, \"#d8576b\"], [0.6666666666666666, \"#ed7953\"], [0.7777777777777778, \"#fb9f3a\"], [0.8888888888888888, \"#fdca26\"], [1.0, \"#f0f921\"]], \"type\": \"heatmapgl\"}], \"histogram\": [{\"marker\": {\"colorbar\": {\"outlinewidth\": 0, \"ticks\": \"\"}}, \"type\": \"histogram\"}], \"histogram2d\": [{\"colorbar\": {\"outlinewidth\": 0, \"ticks\": \"\"}, \"colorscale\": [[0.0, \"#0d0887\"], [0.1111111111111111, \"#46039f\"], [0.2222222222222222, \"#7201a8\"], [0.3333333333333333, \"#9c179e\"], [0.4444444444444444, \"#bd3786\"], [0.5555555555555556, \"#d8576b\"], [0.6666666666666666, \"#ed7953\"], [0.7777777777777778, \"#fb9f3a\"], [0.8888888888888888, \"#fdca26\"], [1.0, \"#f0f921\"]], \"type\": \"histogram2d\"}], \"histogram2dcontour\": [{\"colorbar\": {\"outlinewidth\": 0, \"ticks\": \"\"}, \"colorscale\": [[0.0, \"#0d0887\"], [0.1111111111111111, \"#46039f\"], [0.2222222222222222, \"#7201a8\"], [0.3333333333333333, \"#9c179e\"], [0.4444444444444444, \"#bd3786\"], [0.5555555555555556, \"#d8576b\"], [0.6666666666666666, \"#ed7953\"], [0.7777777777777778, \"#fb9f3a\"], [0.8888888888888888, \"#fdca26\"], [1.0, \"#f0f921\"]], \"type\": \"histogram2dcontour\"}], \"mesh3d\": [{\"colorbar\": {\"outlinewidth\": 0, \"ticks\": \"\"}, \"type\": \"mesh3d\"}], \"parcoords\": [{\"line\": {\"colorbar\": {\"outlinewidth\": 0, \"ticks\": \"\"}}, \"type\": \"parcoords\"}], \"pie\": [{\"automargin\": true, \"type\": \"pie\"}], \"scatter\": [{\"marker\": {\"colorbar\": {\"outlinewidth\": 0, \"ticks\": \"\"}}, \"type\": \"scatter\"}], \"scatter3d\": [{\"line\": {\"colorbar\": {\"outlinewidth\": 0, \"ticks\": \"\"}}, \"marker\": {\"colorbar\": {\"outlinewidth\": 0, \"ticks\": \"\"}}, \"type\": \"scatter3d\"}], \"scattercarpet\": [{\"marker\": {\"colorbar\": {\"outlinewidth\": 0, \"ticks\": \"\"}}, \"type\": \"scattercarpet\"}], \"scattergeo\": [{\"marker\": {\"colorbar\": {\"outlinewidth\": 0, \"ticks\": \"\"}}, \"type\": \"scattergeo\"}], \"scattergl\": [{\"marker\": {\"colorbar\": {\"outlinewidth\": 0, \"ticks\": \"\"}}, \"type\": \"scattergl\"}], \"scattermapbox\": [{\"marker\": {\"colorbar\": {\"outlinewidth\": 0, \"ticks\": \"\"}}, \"type\": \"scattermapbox\"}], \"scatterpolar\": [{\"marker\": {\"colorbar\": {\"outlinewidth\": 0, \"ticks\": \"\"}}, \"type\": \"scatterpolar\"}], \"scatterpolargl\": [{\"marker\": {\"colorbar\": {\"outlinewidth\": 0, \"ticks\": \"\"}}, \"type\": \"scatterpolargl\"}], \"scatterternary\": [{\"marker\": {\"colorbar\": {\"outlinewidth\": 0, \"ticks\": \"\"}}, \"type\": \"scatterternary\"}], \"surface\": [{\"colorbar\": {\"outlinewidth\": 0, \"ticks\": \"\"}, \"colorscale\": [[0.0, \"#0d0887\"], [0.1111111111111111, \"#46039f\"], [0.2222222222222222, \"#7201a8\"], [0.3333333333333333, \"#9c179e\"], [0.4444444444444444, \"#bd3786\"], [0.5555555555555556, \"#d8576b\"], [0.6666666666666666, \"#ed7953\"], [0.7777777777777778, \"#fb9f3a\"], [0.8888888888888888, \"#fdca26\"], [1.0, \"#f0f921\"]], \"type\": \"surface\"}], \"table\": [{\"cells\": {\"fill\": {\"color\": \"#EBF0F8\"}, \"line\": {\"color\": \"white\"}}, \"header\": {\"fill\": {\"color\": \"#C8D4E3\"}, \"line\": {\"color\": \"white\"}}, \"type\": \"table\"}]}, \"layout\": {\"annotationdefaults\": {\"arrowcolor\": \"#2a3f5f\", \"arrowhead\": 0, \"arrowwidth\": 1}, \"coloraxis\": {\"colorbar\": {\"outlinewidth\": 0, \"ticks\": \"\"}}, \"colorscale\": {\"diverging\": [[0, \"#8e0152\"], [0.1, \"#c51b7d\"], [0.2, \"#de77ae\"], [0.3, \"#f1b6da\"], [0.4, \"#fde0ef\"], [0.5, \"#f7f7f7\"], [0.6, \"#e6f5d0\"], [0.7, \"#b8e186\"], [0.8, \"#7fbc41\"], [0.9, \"#4d9221\"], [1, \"#276419\"]], \"sequential\": [[0.0, \"#0d0887\"], [0.1111111111111111, \"#46039f\"], [0.2222222222222222, \"#7201a8\"], [0.3333333333333333, \"#9c179e\"], [0.4444444444444444, \"#bd3786\"], [0.5555555555555556, \"#d8576b\"], [0.6666666666666666, \"#ed7953\"], [0.7777777777777778, \"#fb9f3a\"], [0.8888888888888888, \"#fdca26\"], [1.0, \"#f0f921\"]], \"sequentialminus\": [[0.0, \"#0d0887\"], [0.1111111111111111, \"#46039f\"], [0.2222222222222222, \"#7201a8\"], [0.3333333333333333, \"#9c179e\"], [0.4444444444444444, \"#bd3786\"], [0.5555555555555556, \"#d8576b\"], [0.6666666666666666, \"#ed7953\"], [0.7777777777777778, \"#fb9f3a\"], [0.8888888888888888, \"#fdca26\"], [1.0, \"#f0f921\"]]}, \"colorway\": [\"#636efa\", \"#EF553B\", \"#00cc96\", \"#ab63fa\", \"#FFA15A\", \"#19d3f3\", \"#FF6692\", \"#B6E880\", \"#FF97FF\", \"#FECB52\"], \"font\": {\"color\": \"#2a3f5f\"}, \"geo\": {\"bgcolor\": \"white\", \"lakecolor\": \"white\", \"landcolor\": \"#E5ECF6\", \"showlakes\": true, \"showland\": true, \"subunitcolor\": \"white\"}, \"hoverlabel\": {\"align\": \"left\"}, \"hovermode\": \"closest\", \"mapbox\": {\"style\": \"light\"}, \"paper_bgcolor\": \"white\", \"plot_bgcolor\": \"#E5ECF6\", \"polar\": {\"angularaxis\": {\"gridcolor\": \"white\", \"linecolor\": \"white\", \"ticks\": \"\"}, \"bgcolor\": \"#E5ECF6\", \"radialaxis\": {\"gridcolor\": \"white\", \"linecolor\": \"white\", \"ticks\": \"\"}}, \"scene\": {\"xaxis\": {\"backgroundcolor\": \"#E5ECF6\", \"gridcolor\": \"white\", \"gridwidth\": 2, \"linecolor\": \"white\", \"showbackground\": true, \"ticks\": \"\", \"zerolinecolor\": \"white\"}, \"yaxis\": {\"backgroundcolor\": \"#E5ECF6\", \"gridcolor\": \"white\", \"gridwidth\": 2, \"linecolor\": \"white\", \"showbackground\": true, \"ticks\": \"\", \"zerolinecolor\": \"white\"}, \"zaxis\": {\"backgroundcolor\": \"#E5ECF6\", \"gridcolor\": \"white\", \"gridwidth\": 2, \"linecolor\": \"white\", \"showbackground\": true, \"ticks\": \"\", \"zerolinecolor\": \"white\"}}, \"shapedefaults\": {\"line\": {\"color\": \"#2a3f5f\"}}, \"ternary\": {\"aaxis\": {\"gridcolor\": \"white\", \"linecolor\": \"white\", \"ticks\": \"\"}, \"baxis\": {\"gridcolor\": \"white\", \"linecolor\": \"white\", \"ticks\": \"\"}, \"bgcolor\": \"#E5ECF6\", \"caxis\": {\"gridcolor\": \"white\", \"linecolor\": \"white\", \"ticks\": \"\"}}, \"title\": {\"x\": 0.05}, \"xaxis\": {\"automargin\": true, \"gridcolor\": \"white\", \"linecolor\": \"white\", \"ticks\": \"\", \"title\": {\"standoff\": 15}, \"zerolinecolor\": \"white\", \"zerolinewidth\": 2}, \"yaxis\": {\"automargin\": true, \"gridcolor\": \"white\", \"linecolor\": \"white\", \"ticks\": \"\", \"title\": {\"standoff\": 15}, \"zerolinecolor\": \"white\", \"zerolinewidth\": 2}}}, \"title\": {\"text\": \"Contour Plot\"}, \"xaxis\": {\"anchor\": \"y\", \"domain\": [0.0, 0.2888888888888889], \"matches\": \"x7\", \"range\": [0.1919403462867094, 0.5051103903313989], \"showticklabels\": false}, \"xaxis2\": {\"anchor\": \"y2\", \"domain\": [0.35555555555555557, 0.6444444444444445], \"matches\": \"x8\", \"range\": [-4.537848116756679, -0.9755491891753375], \"showticklabels\": false, \"type\": \"log\"}, \"xaxis3\": {\"anchor\": \"y3\", \"domain\": [0.7111111111111111, 1.0], \"matches\": \"x9\", \"range\": [\"Adam\", \"SGD\"], \"showticklabels\": false, \"type\": \"category\"}, \"xaxis4\": {\"anchor\": \"y4\", \"domain\": [0.0, 0.2888888888888889], \"matches\": \"x7\", \"range\": [0.1919403462867094, 0.5051103903313989], \"showticklabels\": false}, \"xaxis5\": {\"anchor\": \"y5\", \"domain\": [0.35555555555555557, 0.6444444444444445], \"matches\": \"x8\", \"range\": [-4.537848116756679, -0.9755491891753375], \"showticklabels\": false, \"type\": \"log\"}, \"xaxis6\": {\"anchor\": \"y6\", \"domain\": [0.7111111111111111, 1.0], \"matches\": \"x9\", \"range\": [\"Adam\", \"SGD\"], \"showticklabels\": false, \"type\": \"category\"}, \"xaxis7\": {\"anchor\": \"y7\", \"domain\": [0.0, 0.2888888888888889], \"range\": [0.1919403462867094, 0.5051103903313989], \"title\": {\"text\": \"dropout_l0\"}}, \"xaxis8\": {\"anchor\": \"y8\", \"domain\": [0.35555555555555557, 0.6444444444444445], \"range\": [-4.537848116756679, -0.9755491891753375], \"title\": {\"text\": \"lr\"}, \"type\": \"log\"}, \"xaxis9\": {\"anchor\": \"y9\", \"domain\": [0.7111111111111111, 1.0], \"range\": [\"Adam\", \"SGD\"], \"title\": {\"text\": \"optimizer\"}, \"type\": \"category\"}, \"yaxis\": {\"anchor\": \"x\", \"domain\": [0.7333333333333333, 1.0], \"range\": [0.1919403462867094, 0.5051103903313989], \"title\": {\"text\": \"dropout_l0\"}}, \"yaxis2\": {\"anchor\": \"x2\", \"domain\": [0.7333333333333333, 1.0], \"matches\": \"y\", \"range\": [0.1919403462867094, 0.5051103903313989], \"showticklabels\": false}, \"yaxis3\": {\"anchor\": \"x3\", \"domain\": [0.7333333333333333, 1.0], \"matches\": \"y\", \"range\": [0.1919403462867094, 0.5051103903313989], \"showticklabels\": false}, \"yaxis4\": {\"anchor\": \"x4\", \"domain\": [0.36666666666666664, 0.6333333333333333], \"range\": [-4.537848116756679, -0.9755491891753375], \"title\": {\"text\": \"lr\"}, \"type\": \"log\"}, \"yaxis5\": {\"anchor\": \"x5\", \"domain\": [0.36666666666666664, 0.6333333333333333], \"matches\": \"y4\", \"range\": [-4.537848116756679, -0.9755491891753375], \"showticklabels\": false, \"type\": \"log\"}, \"yaxis6\": {\"anchor\": \"x6\", \"domain\": [0.36666666666666664, 0.6333333333333333], \"matches\": \"y4\", \"range\": [-4.537848116756679, -0.9755491891753375], \"showticklabels\": false, \"type\": \"log\"}, \"yaxis7\": {\"anchor\": \"x7\", \"domain\": [0.0, 0.26666666666666666], \"range\": [\"Adam\", \"SGD\"], \"title\": {\"text\": \"optimizer\"}, \"type\": \"category\"}, \"yaxis8\": {\"anchor\": \"x8\", \"domain\": [0.0, 0.26666666666666666], \"matches\": \"y7\", \"range\": [\"Adam\", \"SGD\"], \"showticklabels\": false, \"type\": \"category\"}, \"yaxis9\": {\"anchor\": \"x9\", \"domain\": [0.0, 0.26666666666666666], \"matches\": \"y7\", \"range\": [\"Adam\", \"SGD\"], \"showticklabels\": false, \"type\": \"category\"}},\n",
              "                        {\"responsive\": true}\n",
              "                    ).then(function(){\n",
              "                            \n",
              "var gd = document.getElementById('8180979a-d81e-48e0-a610-efab2ab17da0');\n",
              "var x = new MutationObserver(function (mutations, observer) {{\n",
              "        var display = window.getComputedStyle(gd).display;\n",
              "        if (!display || display === 'none') {{\n",
              "            console.log([gd, 'removed!']);\n",
              "            Plotly.purge(gd);\n",
              "            observer.disconnect();\n",
              "        }}\n",
              "}});\n",
              "\n",
              "// Listen for the removal of the full notebook cells\n",
              "var notebookContainer = gd.closest('#notebook-container');\n",
              "if (notebookContainer) {{\n",
              "    x.observe(notebookContainer, {childList: true});\n",
              "}}\n",
              "\n",
              "// Listen for the clearing of the current output cell\n",
              "var outputEl = gd.closest('.output');\n",
              "if (outputEl) {{\n",
              "    x.observe(outputEl, {childList: true});\n",
              "}}\n",
              "\n",
              "                        })\n",
              "                };\n",
              "                \n",
              "            </script>\n",
              "        </div>\n",
              "</body>\n",
              "</html>"
            ]
          },
          "metadata": {
            "tags": []
          }
        }
      ]
    },
    {
      "cell_type": "code",
      "metadata": {
        "colab": {
          "base_uri": "https://localhost:8080/",
          "height": 542
        },
        "id": "xwGKSnZ2AMBL",
        "outputId": "62309158-41ba-4984-eb9d-cd7737d772bd"
      },
      "source": [
        "from optuna.visualization import plot_param_importances\n",
        "# パラメータの重要度の視覚化\n",
        "plot_param_importances(study)"
      ],
      "execution_count": null,
      "outputs": [
        {
          "output_type": "display_data",
          "data": {
            "text/html": [
              "<html>\n",
              "<head><meta charset=\"utf-8\" /></head>\n",
              "<body>\n",
              "    <div>\n",
              "            <script src=\"https://cdnjs.cloudflare.com/ajax/libs/mathjax/2.7.5/MathJax.js?config=TeX-AMS-MML_SVG\"></script><script type=\"text/javascript\">if (window.MathJax) {MathJax.Hub.Config({SVG: {font: \"STIX-Web\"}});}</script>\n",
              "                <script type=\"text/javascript\">window.PlotlyConfig = {MathJaxConfig: 'local'};</script>\n",
              "        <script src=\"https://cdn.plot.ly/plotly-latest.min.js\"></script>    \n",
              "            <div id=\"306be26c-2888-4ded-be38-cadf4bf4a078\" class=\"plotly-graph-div\" style=\"height:525px; width:100%;\"></div>\n",
              "            <script type=\"text/javascript\">\n",
              "                \n",
              "                    window.PLOTLYENV=window.PLOTLYENV || {};\n",
              "                    \n",
              "                if (document.getElementById(\"306be26c-2888-4ded-be38-cadf4bf4a078\")) {\n",
              "                    Plotly.newPlot(\n",
              "                        '306be26c-2888-4ded-be38-cadf4bf4a078',\n",
              "                        [{\"cliponaxis\": false, \"hovertemplate\": [\"lr (LogUniformDistribution): 0.23770801949272077<extra></extra>\", \"dropout_l0 (UniformDistribution): 0.3714225360627616<extra></extra>\", \"optimizer (CategoricalDistribution): 0.3908694444445176<extra></extra>\"], \"marker\": {\"color\": [\"rgb(8,48,107)\", \"rgb(8,48,107)\", \"rgb(66,146,198)\"]}, \"orientation\": \"h\", \"text\": [\"0.23770801949272077\", \"0.3714225360627616\", \"0.3908694444445176\"], \"textposition\": \"outside\", \"texttemplate\": \"%{text:.2f}\", \"type\": \"bar\", \"x\": [0.23770801949272077, 0.3714225360627616, 0.3908694444445176], \"y\": [\"lr\", \"dropout_l0\", \"optimizer\"]}],\n",
              "                        {\"showlegend\": false, \"template\": {\"data\": {\"bar\": [{\"error_x\": {\"color\": \"#2a3f5f\"}, \"error_y\": {\"color\": \"#2a3f5f\"}, \"marker\": {\"line\": {\"color\": \"#E5ECF6\", \"width\": 0.5}}, \"type\": \"bar\"}], \"barpolar\": [{\"marker\": {\"line\": {\"color\": \"#E5ECF6\", \"width\": 0.5}}, \"type\": \"barpolar\"}], \"carpet\": [{\"aaxis\": {\"endlinecolor\": \"#2a3f5f\", \"gridcolor\": \"white\", \"linecolor\": \"white\", \"minorgridcolor\": \"white\", \"startlinecolor\": \"#2a3f5f\"}, \"baxis\": {\"endlinecolor\": \"#2a3f5f\", \"gridcolor\": \"white\", \"linecolor\": \"white\", \"minorgridcolor\": \"white\", \"startlinecolor\": \"#2a3f5f\"}, \"type\": \"carpet\"}], \"choropleth\": [{\"colorbar\": {\"outlinewidth\": 0, \"ticks\": \"\"}, \"type\": \"choropleth\"}], \"contour\": [{\"colorbar\": {\"outlinewidth\": 0, \"ticks\": \"\"}, \"colorscale\": [[0.0, \"#0d0887\"], [0.1111111111111111, \"#46039f\"], [0.2222222222222222, \"#7201a8\"], [0.3333333333333333, \"#9c179e\"], [0.4444444444444444, \"#bd3786\"], [0.5555555555555556, \"#d8576b\"], [0.6666666666666666, \"#ed7953\"], [0.7777777777777778, \"#fb9f3a\"], [0.8888888888888888, \"#fdca26\"], [1.0, \"#f0f921\"]], \"type\": \"contour\"}], \"contourcarpet\": [{\"colorbar\": {\"outlinewidth\": 0, \"ticks\": \"\"}, \"type\": \"contourcarpet\"}], \"heatmap\": [{\"colorbar\": {\"outlinewidth\": 0, \"ticks\": \"\"}, \"colorscale\": [[0.0, \"#0d0887\"], [0.1111111111111111, \"#46039f\"], [0.2222222222222222, \"#7201a8\"], [0.3333333333333333, \"#9c179e\"], [0.4444444444444444, \"#bd3786\"], [0.5555555555555556, \"#d8576b\"], [0.6666666666666666, \"#ed7953\"], [0.7777777777777778, \"#fb9f3a\"], [0.8888888888888888, \"#fdca26\"], [1.0, \"#f0f921\"]], \"type\": \"heatmap\"}], \"heatmapgl\": [{\"colorbar\": {\"outlinewidth\": 0, \"ticks\": \"\"}, \"colorscale\": [[0.0, \"#0d0887\"], [0.1111111111111111, \"#46039f\"], [0.2222222222222222, \"#7201a8\"], [0.3333333333333333, \"#9c179e\"], [0.4444444444444444, \"#bd3786\"], [0.5555555555555556, \"#d8576b\"], [0.6666666666666666, \"#ed7953\"], [0.7777777777777778, \"#fb9f3a\"], [0.8888888888888888, \"#fdca26\"], [1.0, \"#f0f921\"]], \"type\": \"heatmapgl\"}], \"histogram\": [{\"marker\": {\"colorbar\": {\"outlinewidth\": 0, \"ticks\": \"\"}}, \"type\": \"histogram\"}], \"histogram2d\": [{\"colorbar\": {\"outlinewidth\": 0, \"ticks\": \"\"}, \"colorscale\": [[0.0, \"#0d0887\"], [0.1111111111111111, \"#46039f\"], [0.2222222222222222, \"#7201a8\"], [0.3333333333333333, \"#9c179e\"], [0.4444444444444444, \"#bd3786\"], [0.5555555555555556, \"#d8576b\"], [0.6666666666666666, \"#ed7953\"], [0.7777777777777778, \"#fb9f3a\"], [0.8888888888888888, \"#fdca26\"], [1.0, \"#f0f921\"]], \"type\": \"histogram2d\"}], \"histogram2dcontour\": [{\"colorbar\": {\"outlinewidth\": 0, \"ticks\": \"\"}, \"colorscale\": [[0.0, \"#0d0887\"], [0.1111111111111111, \"#46039f\"], [0.2222222222222222, \"#7201a8\"], [0.3333333333333333, \"#9c179e\"], [0.4444444444444444, \"#bd3786\"], [0.5555555555555556, \"#d8576b\"], [0.6666666666666666, \"#ed7953\"], [0.7777777777777778, \"#fb9f3a\"], [0.8888888888888888, \"#fdca26\"], [1.0, \"#f0f921\"]], \"type\": \"histogram2dcontour\"}], \"mesh3d\": [{\"colorbar\": {\"outlinewidth\": 0, \"ticks\": \"\"}, \"type\": \"mesh3d\"}], \"parcoords\": [{\"line\": {\"colorbar\": {\"outlinewidth\": 0, \"ticks\": \"\"}}, \"type\": \"parcoords\"}], \"pie\": [{\"automargin\": true, \"type\": \"pie\"}], \"scatter\": [{\"marker\": {\"colorbar\": {\"outlinewidth\": 0, \"ticks\": \"\"}}, \"type\": \"scatter\"}], \"scatter3d\": [{\"line\": {\"colorbar\": {\"outlinewidth\": 0, \"ticks\": \"\"}}, \"marker\": {\"colorbar\": {\"outlinewidth\": 0, \"ticks\": \"\"}}, \"type\": \"scatter3d\"}], \"scattercarpet\": [{\"marker\": {\"colorbar\": {\"outlinewidth\": 0, \"ticks\": \"\"}}, \"type\": \"scattercarpet\"}], \"scattergeo\": [{\"marker\": {\"colorbar\": {\"outlinewidth\": 0, \"ticks\": \"\"}}, \"type\": \"scattergeo\"}], \"scattergl\": [{\"marker\": {\"colorbar\": {\"outlinewidth\": 0, \"ticks\": \"\"}}, \"type\": \"scattergl\"}], \"scattermapbox\": [{\"marker\": {\"colorbar\": {\"outlinewidth\": 0, \"ticks\": \"\"}}, \"type\": \"scattermapbox\"}], \"scatterpolar\": [{\"marker\": {\"colorbar\": {\"outlinewidth\": 0, \"ticks\": \"\"}}, \"type\": \"scatterpolar\"}], \"scatterpolargl\": [{\"marker\": {\"colorbar\": {\"outlinewidth\": 0, \"ticks\": \"\"}}, \"type\": \"scatterpolargl\"}], \"scatterternary\": [{\"marker\": {\"colorbar\": {\"outlinewidth\": 0, \"ticks\": \"\"}}, \"type\": \"scatterternary\"}], \"surface\": [{\"colorbar\": {\"outlinewidth\": 0, \"ticks\": \"\"}, \"colorscale\": [[0.0, \"#0d0887\"], [0.1111111111111111, \"#46039f\"], [0.2222222222222222, \"#7201a8\"], [0.3333333333333333, \"#9c179e\"], [0.4444444444444444, \"#bd3786\"], [0.5555555555555556, \"#d8576b\"], [0.6666666666666666, \"#ed7953\"], [0.7777777777777778, \"#fb9f3a\"], [0.8888888888888888, \"#fdca26\"], [1.0, \"#f0f921\"]], \"type\": \"surface\"}], \"table\": [{\"cells\": {\"fill\": {\"color\": \"#EBF0F8\"}, \"line\": {\"color\": \"white\"}}, \"header\": {\"fill\": {\"color\": \"#C8D4E3\"}, \"line\": {\"color\": \"white\"}}, \"type\": \"table\"}]}, \"layout\": {\"annotationdefaults\": {\"arrowcolor\": \"#2a3f5f\", \"arrowhead\": 0, \"arrowwidth\": 1}, \"coloraxis\": {\"colorbar\": {\"outlinewidth\": 0, \"ticks\": \"\"}}, \"colorscale\": {\"diverging\": [[0, \"#8e0152\"], [0.1, \"#c51b7d\"], [0.2, \"#de77ae\"], [0.3, \"#f1b6da\"], [0.4, \"#fde0ef\"], [0.5, \"#f7f7f7\"], [0.6, \"#e6f5d0\"], [0.7, \"#b8e186\"], [0.8, \"#7fbc41\"], [0.9, \"#4d9221\"], [1, \"#276419\"]], \"sequential\": [[0.0, \"#0d0887\"], [0.1111111111111111, \"#46039f\"], [0.2222222222222222, \"#7201a8\"], [0.3333333333333333, \"#9c179e\"], [0.4444444444444444, \"#bd3786\"], [0.5555555555555556, \"#d8576b\"], [0.6666666666666666, \"#ed7953\"], [0.7777777777777778, \"#fb9f3a\"], [0.8888888888888888, \"#fdca26\"], [1.0, \"#f0f921\"]], \"sequentialminus\": [[0.0, \"#0d0887\"], [0.1111111111111111, \"#46039f\"], [0.2222222222222222, \"#7201a8\"], [0.3333333333333333, \"#9c179e\"], [0.4444444444444444, \"#bd3786\"], [0.5555555555555556, \"#d8576b\"], [0.6666666666666666, \"#ed7953\"], [0.7777777777777778, \"#fb9f3a\"], [0.8888888888888888, \"#fdca26\"], [1.0, \"#f0f921\"]]}, \"colorway\": [\"#636efa\", \"#EF553B\", \"#00cc96\", \"#ab63fa\", \"#FFA15A\", \"#19d3f3\", \"#FF6692\", \"#B6E880\", \"#FF97FF\", \"#FECB52\"], \"font\": {\"color\": \"#2a3f5f\"}, \"geo\": {\"bgcolor\": \"white\", \"lakecolor\": \"white\", \"landcolor\": \"#E5ECF6\", \"showlakes\": true, \"showland\": true, \"subunitcolor\": \"white\"}, \"hoverlabel\": {\"align\": \"left\"}, \"hovermode\": \"closest\", \"mapbox\": {\"style\": \"light\"}, \"paper_bgcolor\": \"white\", \"plot_bgcolor\": \"#E5ECF6\", \"polar\": {\"angularaxis\": {\"gridcolor\": \"white\", \"linecolor\": \"white\", \"ticks\": \"\"}, \"bgcolor\": \"#E5ECF6\", \"radialaxis\": {\"gridcolor\": \"white\", \"linecolor\": \"white\", \"ticks\": \"\"}}, \"scene\": {\"xaxis\": {\"backgroundcolor\": \"#E5ECF6\", \"gridcolor\": \"white\", \"gridwidth\": 2, \"linecolor\": \"white\", \"showbackground\": true, \"ticks\": \"\", \"zerolinecolor\": \"white\"}, \"yaxis\": {\"backgroundcolor\": \"#E5ECF6\", \"gridcolor\": \"white\", \"gridwidth\": 2, \"linecolor\": \"white\", \"showbackground\": true, \"ticks\": \"\", \"zerolinecolor\": \"white\"}, \"zaxis\": {\"backgroundcolor\": \"#E5ECF6\", \"gridcolor\": \"white\", \"gridwidth\": 2, \"linecolor\": \"white\", \"showbackground\": true, \"ticks\": \"\", \"zerolinecolor\": \"white\"}}, \"shapedefaults\": {\"line\": {\"color\": \"#2a3f5f\"}}, \"ternary\": {\"aaxis\": {\"gridcolor\": \"white\", \"linecolor\": \"white\", \"ticks\": \"\"}, \"baxis\": {\"gridcolor\": \"white\", \"linecolor\": \"white\", \"ticks\": \"\"}, \"bgcolor\": \"#E5ECF6\", \"caxis\": {\"gridcolor\": \"white\", \"linecolor\": \"white\", \"ticks\": \"\"}}, \"title\": {\"x\": 0.05}, \"xaxis\": {\"automargin\": true, \"gridcolor\": \"white\", \"linecolor\": \"white\", \"ticks\": \"\", \"title\": {\"standoff\": 15}, \"zerolinecolor\": \"white\", \"zerolinewidth\": 2}, \"yaxis\": {\"automargin\": true, \"gridcolor\": \"white\", \"linecolor\": \"white\", \"ticks\": \"\", \"title\": {\"standoff\": 15}, \"zerolinecolor\": \"white\", \"zerolinewidth\": 2}}}, \"title\": {\"text\": \"Hyperparameter Importances\"}, \"xaxis\": {\"title\": {\"text\": \"Importance for Objective Value\"}}, \"yaxis\": {\"title\": {\"text\": \"Hyperparameter\"}}},\n",
              "                        {\"responsive\": true}\n",
              "                    ).then(function(){\n",
              "                            \n",
              "var gd = document.getElementById('306be26c-2888-4ded-be38-cadf4bf4a078');\n",
              "var x = new MutationObserver(function (mutations, observer) {{\n",
              "        var display = window.getComputedStyle(gd).display;\n",
              "        if (!display || display === 'none') {{\n",
              "            console.log([gd, 'removed!']);\n",
              "            Plotly.purge(gd);\n",
              "            observer.disconnect();\n",
              "        }}\n",
              "}});\n",
              "\n",
              "// Listen for the removal of the full notebook cells\n",
              "var notebookContainer = gd.closest('#notebook-container');\n",
              "if (notebookContainer) {{\n",
              "    x.observe(notebookContainer, {childList: true});\n",
              "}}\n",
              "\n",
              "// Listen for the clearing of the current output cell\n",
              "var outputEl = gd.closest('.output');\n",
              "if (outputEl) {{\n",
              "    x.observe(outputEl, {childList: true});\n",
              "}}\n",
              "\n",
              "                        })\n",
              "                };\n",
              "                \n",
              "            </script>\n",
              "        </div>\n",
              "</body>\n",
              "</html>"
            ]
          },
          "metadata": {
            "tags": []
          }
        }
      ]
    },
    {
      "cell_type": "markdown",
      "metadata": {
        "id": "6RaTcmDaA7hA"
      },
      "source": [
        "---"
      ]
    },
    {
      "cell_type": "markdown",
      "metadata": {
        "id": "ZofNFPXGxlYp"
      },
      "source": [
        "<a name='2'></a>\n",
        "## 2. 実験管理"
      ]
    },
    {
      "cell_type": "markdown",
      "metadata": {
        "id": "g43ttS6ROr_1"
      },
      "source": [
        "<a name='2-1'></a>\n",
        "### 2.1 実験管理とは"
      ]
    },
    {
      "cell_type": "markdown",
      "metadata": {
        "id": "BDOF4PXS8BuP"
      },
      "source": [
        "機械学習モデルの作成には、さまざまな試行錯誤が必要です。一般に多くの実験が行われ、それぞれのモデルの性能を評価しながらモデルの構築を進めていきます。 \n",
        "\n",
        "\n",
        "<img src='https://drive.google.com/uc?export=view&id=1jKB3wAAUS-Lk1YSCxhfk4x61yuwo2CTe' name=MLflowの4つの要素.png width=100%>\n",
        "\n",
        "実験を後から振り返った時、どんな実験であったのかを記録していないと、同じ実験を繰り返さなければならなくなったり、どんなモデルが良かったのかがわからなくなってしまいます。こうした機械学習モデルの開発プロセスに関する問題の解消に、実験管理の活用が期待されます。\n",
        "\n",
        "\n",
        "機械学習モデルの開発において記録しておきたいものは主に以下の情報です。\n",
        "- コードバージョン\n",
        "- データバージョン\n",
        "- ハイパーパラメータ\n",
        "- メトリクス\n",
        "- 環境\n",
        " \n",
        "<br>\n",
        "\n",
        "しかし、これらの管理を効率的に行うことは以下の理由から困難だと言えます。\n",
        "\n",
        "- 実験の記録を取るのは難しい\n",
        "\n",
        "    ファイルやJupyterNotebookで作業している場合、特定の結果を得るためにどのデータ、コード、パラメータが使われたかをどのように記録すべきか\n",
        "\n",
        "- コードを再現するのは難しい\n",
        "\n",
        "    コードのバージョンやパラメータを綿密に追跡したとしても、同じ結果を再び得るためには、環境全体（例えば、ライブラリの依存関係）を把握する必要があります。これは、別のデータサイエンティストに自分のコードを使ってもらいたい場合や、同じコードを別のプラットフォーム（例えばクラウド）で大規模に実行したい場合には、特に困難です。\n",
        "\n",
        "- モデルをパッケージ化してデプロイする標準的な方法がない\n",
        "\n",
        "    各データサイエンスチームは、使用するMLライブラリごとに独自のアプローチをとっており、モデルとそれを生成したコードやパラメータとの間のリンクが失われがちです。\n",
        "\n",
        "- モデル（そのバージョンやステージの遷移）を管理するセントラルストアがない\n",
        "\n",
        "    データサイエンスチームは多くのモデルを作成します。モデルのライフサイクルを共同で管理する中心的な場所がないため、データサイエンスチームは、開発からステージング、そして最終的にはアーカイブや本番まで、それぞれのバージョン、アノテーション、履歴など、モデルの状態をどのように管理するかという課題に直面しています。\n"
      ]
    },
    {
      "cell_type": "markdown",
      "metadata": {
        "id": "1P70r8FCxtWF"
      },
      "source": [
        "<a name='2-2'></a>\n",
        "### 2.2 実験管理ツールの紹介"
      ]
    },
    {
      "cell_type": "markdown",
      "metadata": {
        "id": "0Zsgue68x3dk"
      },
      "source": [
        "|  ツール名  |  開発元  |  特徴  | \n",
        "| ---- | ---- | ---- | \n",
        "|  MLflow | Databricks |  機械学習ライフサイクル全体の管理を支援するオープンソースプラットフォーム　[GitHub](https://github.com/mlflow/mlflow/)  | \n",
        "|  Neptune | Neptune |  軽量の実験管理及びコラボレーションツール　[公式サイト](https://neptune.ai/blog/best-tools-to-manage-machine-learning-projects)  | \n",
        "|  Comet | Comet | 　実験とモデルを追跡、比較、説明、最適化するためのメタ機械学習プラットフォーム　[公式サイト](https://www.comet.ml/site/)  | \n"
      ]
    },
    {
      "cell_type": "markdown",
      "metadata": {
        "id": "0DJ4DChNA-Xm"
      },
      "source": [
        "---"
      ]
    },
    {
      "cell_type": "markdown",
      "metadata": {
        "id": "k-_7j82UjETR"
      },
      "source": [
        "<a name='3'></a>\n",
        "## 3. MLflowを使った実験管理"
      ]
    },
    {
      "cell_type": "markdown",
      "metadata": {
        "id": "XMbOK61EjLij"
      },
      "source": [
        "MLflow 公式ドキュメント：https://mlflow.org/docs/latest/index.html"
      ]
    },
    {
      "cell_type": "markdown",
      "metadata": {
        "id": "QhfVj_LYkRe9"
      },
      "source": [
        "> MLflowは、あらゆる機械学習ライブラリと連携し、実装コードの多くのことを慣習的に決定し、既存のコードベースに統合するために必要な変更を最小限に抑えるように設計されています。同時にMLflowは、そのフォーマットで書かれたどんなコードベースでも、複数のデータサイエンティストが再現性を持って再利用できるようにすることを目指しています。"
      ]
    },
    {
      "cell_type": "markdown",
      "metadata": {
        "id": "Q7pgCzbLjbCS"
      },
      "source": [
        "MLflowは、実験、再現性、デプロイメント、セントラルモデルレジストリなど、MLライフサイクルを管理するためのオープンソースのプラットフォームです。MLflowは現在、4つのコンポーネントを提供しています。\n",
        "\n",
        "<img src='https://drive.google.com/uc?export=view&id=19WuhM_bdkgzmO-DXxrHQjhTRmWN8QvWx' name=MLflowの4つの要素.png width=100%>\n",
        "\n",
        "\n",
        "- MLflow Trackingとは、環境、コード、データ、精度、ハイパーパラメータなどを管理しておくものです。ML Trackingを使うことで、実験管理の煩わしさが軽減される可能性があります。\n",
        "\n",
        "- MLflow Projectsとは、機械学習を実行する環境をどこでも再現できるようにパッケージ化するものです。具体的にはcondaの設定ファイルなどが記述してあります。\n",
        "\n",
        "- MLflow Modelsとは、学習済みモデルやパイプラインのデプロイを簡単にするものです。MLflow Modelsにより、システムへの組み込みが容易になる可能性があります。\n",
        "\n",
        "- Model Registryとは機械学習モデル等を保存しておくためのレジストリです。バージョン管理やタグ付けなども行うことが可能です。\n",
        "\n",
        "\n",
        "\n",
        "\n",
        "\n",
        "\n",
        "\n",
        "\n",
        "今回は、コードやデータ、実験結果の管理をすることができるMLflow Trackingについて扱います。"
      ]
    },
    {
      "cell_type": "markdown",
      "metadata": {
        "id": "UNPGCTt3jKFw"
      },
      "source": [
        "<a name='3-1'></a>\n",
        "### 3.1 MLflowの使い方"
      ]
    },
    {
      "cell_type": "markdown",
      "metadata": {
        "id": "DctQANC6jbEp"
      },
      "source": [
        "機械学習でよく用いられるIrisデータセットで、LightGBMのハイパーパラメータをOptunaで最適化した際の実験管理の仕方を例として紹介します。\n",
        "\n",
        "MLflowでハイパーパラメータと評価指標のトラッキングをするためには、以下のように指定します。\n",
        "```python\n",
        "mlflow.log_params(trial.params)\n",
        "mlflow.log_metrics({\"log_loss\": loss})\n",
        "```\n",
        "\n",
        "また、MLflowには、mlflow.lightgbm.autologモジュールが用意されており、LightGBMを使用した場合、以下の情報の自動トラッキングを有効にすることができます。\n",
        "- lightgbm.trainで指定されたパラメーター\n",
        "- 各イテレーションでのメトリクス（valid_setsが指定されている場合）\n",
        "- 最良のイテレーションにおけるメトリクス（early_stopping_roundsが指定されている場合）\n",
        "- 特徴の重要度（\"split \"と \"gain \"の両方）のJSONファイルとプロット\n",
        "\n",
        "mlflow.lightgbm.autologモジュールの詳細は[こちらのドキュメント](https://www.mlflow.org/docs/latest/python_api/mlflow.lightgbm.html)を参照してください。\n"
      ]
    },
    {
      "cell_type": "markdown",
      "metadata": {
        "id": "kzTXDPgJ9X_u"
      },
      "source": [
        "**ここから、AWSのEC2インスタンスに入り作業を行います**\n",
        "\n",
        "前回と同様に、pemファイルがあるところまで移動しssh接続します（lsでpemファイルがあるか確認）\n",
        "```shell\n",
        "ssh -i <key-pair-name>.pem ubuntu@<my-instance-public-dns-name>\n",
        "#ubuntu@ip- :~$となったらログイン成功\n",
        "```\n",
        "\n",
        "前回作成した、docker imageが存在するか確認しましょう\n",
        "```shell\n",
        "docker images\n",
        "```\n",
        "\n",
        "mlops_envとubuntuのdocker imageが確認できたら以下のコマンドで、docker runを実行します\n",
        "```\n",
        "docker run -it -v /home/ubuntu/MLOps_tutorial:/home --rm --name mlops -p 8080:8080 -p 5000:5000 mlops_env /bin/bash\n",
        "```\n",
        "dockerのコンテナ内に入れたことを確認しましょう"
      ]
    },
    {
      "cell_type": "markdown",
      "metadata": {
        "id": "mXp5UKd3XhlP"
      },
      "source": [
        "のちにターミナルをもう一つ使うので、あらかじめ準備をしておきます\n",
        "\n",
        "> Macの方は⌘+Tでターミナルをもう一つ起動できます\n",
        ">\n",
        "> Windowsの方は一つ目立ち上げた時と同じ方法で起動できます\n",
        "\n",
        "pemファイルがあるところまで移動しssh接続します（lsでpemファイルがあるか確認）\n",
        "```shell\n",
        "ssh -i <key-pair-name>.pem ubuntu@<my-instance-public-dns-name>\n",
        "```\n",
        "\n",
        "先ほどdocker runで立ち上げたコンテナの中に入り操作をするためにdocker execコマンドを実行します\n",
        "```shell\n",
        "docker exec -it mlops /bin/bash\n",
        "```\n",
        "こちらでもdockerのコンテナ内に入れたことを確認しましょう"
      ]
    },
    {
      "cell_type": "markdown",
      "metadata": {
        "id": "9xraEGw_z47A"
      },
      "source": [
        "#### MLflowで学習を記録する"
      ]
    },
    {
      "cell_type": "markdown",
      "metadata": {
        "id": "0qHDZvhFSKqB"
      },
      "source": [
        "**初めに立ち上げたターミナルに戻り**、root@43a2429a4b12:/home/Day2_mlflow/に移動しましょう\n",
        "\n",
        "```\n",
        "cd /home/Day2_mlflow/\n",
        "```\n",
        "\n",
        "\n",
        "```\n",
        "python3 train.py\n",
        "```\n",
        "を実行すると、Optunaによるハイパーパラメータの探索が始まり、MLflowがそれを記録します。"
      ]
    },
    {
      "cell_type": "markdown",
      "metadata": {
        "id": "TWpX6FwmD_Vd"
      },
      "source": [
        "##### 実装コードの例"
      ]
    },
    {
      "cell_type": "markdown",
      "metadata": {
        "id": "ebOdJIS8DnCt"
      },
      "source": [
        "今回使用するコード全体はこのようになっています。\n",
        "\n",
        "データセットはIrisデータセットを使用し、lightgbmで学習を実行します。\n",
        "\n",
        "```python\n",
        "import numpy as np\n",
        "from sklearn import datasets\n",
        "from sklearn.model_selection import train_test_split\n",
        "from sklearn.metrics import accuracy_score, log_loss\n",
        "import lightgbm as lgb\n",
        "import optuna\n",
        "import mlflow\n",
        "import mlflow.lightgbm\n",
        "\n",
        "\n",
        "def objective(trial):\n",
        "    iris = datasets.load_iris()\n",
        "    X = iris.data\n",
        "    y = iris.target\n",
        "    X_train, X_test, y_train, y_test = train_test_split(X, y, test_size=0.2, random_state=42)\n",
        "\n",
        "    train_set = lgb.Dataset(X_train, label=y_train)\n",
        "    test_set = lgb.Dataset(X_test, label=y_test)\n",
        "\n",
        "    param = dict(objective=\"multiclass\", metric=\"multi_logloss\", num_class=3,\n",
        "                 lambda_l1=trial.suggest_loguniform(\"lambda_l1\", 1e-8, 10.0),\n",
        "                 lambda_l2=trial.suggest_loguniform(\"lambda_l2\", 1e-8, 10.0),\n",
        "                 num_leaves=trial.suggest_int(\"num_leaves\", 2, 256),\n",
        "                 feature_fraction=trial.suggest_uniform(\"feature_fraction\", 0.4, 1.0),\n",
        "                 bagging_fraction=trial.suggest_uniform(\"bagging_fraction\", 0.4, 1.0),\n",
        "                 bagging_freq=trial.suggest_int(\"bagging_freq\", 1, 7),\n",
        "                 min_child_samples=trial.suggest_int(\"min_child_samples\", 5, 100), seed=42)\n",
        "\n",
        "    gbm = lgb.train(param, train_set, valid_sets=test_set)\n",
        "    y_proba = gbm.predict(X_test)\n",
        "    y_pred = np.argmax(y_proba, axis=1)\n",
        "    loss = log_loss(y_test, y_proba)\n",
        "\n",
        "    return loss\n",
        "\n",
        "\n",
        "def main():\n",
        "    # enable auto logging\n",
        "    print(\"#\" * 20)\n",
        "    mlflow.lightgbm.autolog()\n",
        "\n",
        "    study = optuna.create_study(direction='minimize')\n",
        "    study.optimize(objective, n_trials=100)\n",
        "\n",
        "    print(\"Number of finished trials: {}\".format(len(study.trials)))\n",
        "\n",
        "    print(\"Best trial:\")\n",
        "    trial = study.best_trial\n",
        "\n",
        "    print(\"  Value: {}\".format(trial.value))\n",
        "\n",
        "    print(\"  Params: \")\n",
        "    for key, value in trial.params.items():\n",
        "        print(\"    {}: {}\".format(key, value))\n",
        "\n",
        "\n",
        "if __name__ == \"__main__\":\n",
        "    main()\n",
        "\n",
        "```"
      ]
    },
    {
      "cell_type": "markdown",
      "metadata": {
        "id": "pQJS7m-1ATPI"
      },
      "source": [
        "#### MLflowUI, AirflowUIへアクセスするための準備"
      ]
    },
    {
      "cell_type": "markdown",
      "metadata": {
        "id": "4NRCcsxcbHy9"
      },
      "source": [
        "自分のブラウザ上からEC2上にアクセスするため、EC2上でインバウンドルールの追加を行います。\n",
        "\n",
        ">インバウンドルールでは、未設定の場合は全ての通信を遮断し、許可した通信のみを通過させます。\n",
        "\n",
        "\n",
        "\n",
        "EC2 -> インスタンス -> {作ったインスタンス概要}へ移動\n",
        "\n",
        "セキュリティタブへ移動 -> セキュリティグループをクリック -> 下記のようにインバウンドルールを編集\n",
        "\n",
        "\n",
        "\n",
        "\n",
        "<img src='https://drive.google.com/uc?export=view&id=1aLyktJBXxqfaYRN01eMvzNnBUSOOimid' name=インバウンドルールの追加.png width=80%>\n",
        "\n",
        "\n",
        "※ソースで「任意の場所」を選択すると、インスタンスのIPアドレスを知る人なら、誰もが[http://<EC2のパブリック IPv4 アドレス>:5000](#)等にアクセスできるようになります。"
      ]
    },
    {
      "cell_type": "markdown",
      "metadata": {
        "id": "SopXKD0ti2o9"
      },
      "source": [
        "<a name='3-2'></a>\n",
        "### 3.2 MLflowUIの使い方"
      ]
    },
    {
      "cell_type": "markdown",
      "metadata": {
        "id": "G-r3douF_0Bj"
      },
      "source": [
        "MLflowの強みは、リッチなUIがすでに用意されていることです。先程実行した結果をUIから確認してみましょう。"
      ]
    },
    {
      "cell_type": "markdown",
      "metadata": {
        "id": "1HztK5j8i2q0"
      },
      "source": [
        "以下のコマンドを実行することで、MLflowのUIサーバがポート5000番で立ち上がります\n",
        "```\n",
        "mlflow ui --host 0.0.0.0\n",
        "```"
      ]
    },
    {
      "cell_type": "markdown",
      "metadata": {
        "id": "az8Q4UPGi2t4"
      },
      "source": [
        "http://<EC2のパブリック IPv4 アドレス>:5000\n",
        "\n",
        "にアクセスしてみましょう\n",
        "\n",
        "<img src='https://drive.google.com/uc?export=view&id=1ATPcp70Rsdx6iVa35_YcSzu2vpOuijPV' name=MLflow管理画面.png width=100%>\n",
        "\n",
        "\n",
        "Optunaで探索された10回のハイパーパラメータ探索の結果が表示されています。各列名をクリックするとソートすることもできます。\n",
        "\n",
        "<br>\n",
        "\n",
        "モデルの詳細を見てみましょう。ここでは、ハイパーパラメータの値と学習の進み方、特徴量重要度をみることができます。\n",
        "<img src='https://drive.google.com/uc?export=view&id=13y9aRfWNIsdi3FEBFxEl6t-z2GUB7loM' name=MLflowモデル詳細加筆ver.png width=100%>\n",
        "\n",
        "<img src='https://drive.google.com/uc?export=view&id=1MSj_UyvBRxgrbJ0Hhy4S-cUAtznmstt0' name=MLflowメトリクス矢印ver.png width=100%>\n",
        "\n",
        "<br>\n",
        "\n",
        "学習の進み方は[valid_0-multi_logloss](#)をクリックすることで確認することができます。\n",
        "<img src='https://drive.google.com/uc?export=view&id=13jDxy9G3XYfOPNmpzloghjhPBN22tz1t' name=MLflow特徴量重要度.png width=100%>\n",
        "\n",
        "<br>\n",
        "\n",
        "また、LightGBMなどの特徴量重要度をみることができるTree系のモデルでは特徴量重要度も確認することができます。ここには、各実験の環境を再現するcondaの環境や学習済みモデルのバイナリファイルも記録されています。\n",
        "\n",
        "<img src='https://drive.google.com/uc?export=view&id=18zc5xl3FZBoF_fJoqK54TU4StDgKHR_-' name=MLflow特徴量重要度.png width=100%>\n",
        "\n",
        "\n",
        "\n",
        " \n",
        "\n",
        "\n",
        "\n",
        "\n"
      ]
    },
    {
      "cell_type": "markdown",
      "metadata": {
        "id": "B0A6UQZQi2wO"
      },
      "source": [
        "MLflowでは、各実験ごとの比較を行うこともできます。左上のExperimentsをクリックしてホーム画面に戻り、実験リストの一番左にあるチェックボックスにチェックを入れ、Compareをクリックしましょう。ここでは、各実験ごとの結果を比較することで、ハイパーパラメータの値がどのように評価指標に影響を与えたかを考察することができます。\n",
        "\n",
        "<img src='https://drive.google.com/uc?export=view&id=1FMp350ftONsM4zAPJdQu9t3OZzK-vVRK' name=MLflowモデルごとのハイパラ比較加筆ver.png width=100%>"
      ]
    },
    {
      "cell_type": "markdown",
      "metadata": {
        "id": "K6WW7ecUBNv5"
      },
      "source": [
        "ここまでで、機械学習の実験管理をMLflowを使って簡単な実装とともに紹介しました。機械学習の実験管理ができるようになると、大量の実験を行う機械学習モデルの開発で役に立つでしょう。また身近な例で言えば、研究活動などにも活用できると思います。"
      ]
    },
    {
      "cell_type": "markdown",
      "metadata": {
        "id": "QacFKebhKgmR"
      },
      "source": [
        "ここまでで、mlflowの紹介は終わりなので、コントロールCでmlflow uiを切りましょう。"
      ]
    },
    {
      "cell_type": "markdown",
      "metadata": {
        "id": "uasiwJytA3d1"
      },
      "source": [
        "---"
      ]
    },
    {
      "cell_type": "markdown",
      "metadata": {
        "id": "mv4lFFvbx6oe"
      },
      "source": [
        "<a name='4'></a>\n",
        "## 4. ワークフロー管理"
      ]
    },
    {
      "cell_type": "markdown",
      "metadata": {
        "id": "6BibMnqNOaj7"
      },
      "source": [
        "<a name='4-1'></a>\n",
        "### 4.1 ワークフロー管理とは"
      ]
    },
    {
      "cell_type": "markdown",
      "metadata": {
        "id": "w8OTCqiaEZkP"
      },
      "source": [
        "機械学習におけるワークフロー管理とは、機械学習の一連の流れである、データ収集→前処理→モデル学習→評価→本番環境へのデプロイ→監視→更新の一連の流れを管理することです。\n",
        "\n",
        "例えば、ニュース記事の推薦を機械学習で行う場合を考えてみましょう。ニュース記事の推薦では刻一刻と新しい記事が生まれ、トレンドやユーザの状態も変化していきます。このような複雑な状況の中でより良い推薦を行うためには、継続的なモデルの更新が必要になるでしょう。また、生まれてくる新しいデータに対してMLエンジニアが都度学習を行っていては、非効率的です。\n",
        "\n",
        "このように、機械学習パイプラインの一連の流れを効率的に行うために利用されるのがワークフロー管理です。\n",
        "\n",
        "\n",
        "\n",
        "\n",
        "\n"
      ]
    },
    {
      "cell_type": "markdown",
      "metadata": {
        "id": "unxhAhrzyDbc"
      },
      "source": [
        "<a name='4-2'></a>\n",
        "### 4.2 ワークフロー管理ライブラリの紹介"
      ]
    },
    {
      "cell_type": "markdown",
      "metadata": {
        "id": "d-36ZA44zj86"
      },
      "source": [
        "|  ライブラリ名  |  開発元  |  特徴  | \n",
        "| ---- | ---- | ---- | \n",
        "|  Airflow  |  Airbnb  |  ワークフローをPythonで記述。動的なワークフローを生成することができる。GUIでの可視化・監視に優れている。[GitHub](https://github.com/apache/airflow)  | \n",
        "|  Luigi  |  Spotify  |  ワークフローをPythonで記述。Taskクラスを継承したクラスでワークフローを定義する。[GitHub](https://github.com/spotify/luigi)  | \n",
        "|  Gokart  | エムスリー  |  Luigiのラッパーライブラリ。M3 Tech Blogで日本語でのgokartの説明が読める。 [GitHub](https://github.com/m3dev/gokart) |  \n"
      ]
    },
    {
      "cell_type": "markdown",
      "metadata": {
        "id": "_JzgjEL2Ev9e"
      },
      "source": [
        "Airflow公式ドキュメント：https://airflow.apache.org/docs/apache-airflow/stable/index.html"
      ]
    },
    {
      "cell_type": "markdown",
      "metadata": {
        "id": "dDu4HatAyZiJ"
      },
      "source": [
        "> Airflowは、ワークフローの構築、スケジューリング、モニタリングをプログラムで行うためのプラットフォームです。\n",
        "> \n",
        "> Airflow は、タスクの DAG（Directed Acyclic Graph）としてワークフローを定義します。Airflow のスケジューラは、指定された依存関係に従いながら、タスクをワーカーの配列上で実行します。豊富なコマンドラインユーティリティにより、DAGの複雑な処理を簡単に実行できます。リッチなユーザーインターフェースにより、本番環境で実行されているパイプラインの可視化、進捗状況の監視、必要に応じたトラブルシューティングを容易に行うことができます。\n",
        "> \n",
        ">ワークフローがコードとして定義されていると、メンテナンス性、バージョン管理性、テスト性、コラボレーション性が向上します。\n",
        "\n",
        "Pythonでワークフローを定義できるので、普段Pythonを使っているMLエンジニアやデータサイエンティストにやさしい設計になっています。\n",
        "また、GUIベースで可視化、管理できる点もAirflowのメリットです。"
      ]
    },
    {
      "cell_type": "markdown",
      "metadata": {
        "id": "y55W88choE-X"
      },
      "source": [
        "<a name='5'></a>\n",
        "## 5. Airflowを使ったワークフロー管理"
      ]
    },
    {
      "cell_type": "markdown",
      "metadata": {
        "id": "Tm6m5N5SyPM9"
      },
      "source": [
        "<a name='5-1'></a>\n",
        "### 5.1 Airflowの使い方"
      ]
    },
    {
      "cell_type": "markdown",
      "metadata": {
        "id": "aqp0FUrFaqMl"
      },
      "source": [
        "AirflowではDAGの設定をdagsフォルダー内のpyファイルで記述します。DAGとして定義される一つ一つの実行内容をタスクと呼びます。"
      ]
    },
    {
      "cell_type": "markdown",
      "metadata": {
        "id": "T0EMXTxDJhWh"
      },
      "source": [
        "#### DAGファイルの書き方"
      ]
    },
    {
      "cell_type": "markdown",
      "metadata": {
        "id": "-AT_64bjJT2g"
      },
      "source": [
        "\n",
        "\n",
        "公式ドキュメントのチュートリアル：https://airflow.apache.org/docs/apache-airflow/stable/tutorial.html"
      ]
    },
    {
      "cell_type": "markdown",
      "metadata": {
        "id": "OW5OYXYcHXT5"
      },
      "source": [
        "```python\n",
        "from datetime import timedelta\n",
        "\n",
        "# DAGのインポート\n",
        "from airflow import DAG\n",
        "\n",
        "# Operators; 使用するオペレータのインポート\n",
        "from airflow.operators.bash import BashOperator\n",
        "from airflow.utils.dates import days_ago\n",
        "# オペレータのデフォルト引数の設定\n",
        "default_args = {\n",
        "    'owner': 'airflow',\n",
        "    'depends_on_past': False,\n",
        "    'email': ['airflow@example.com'],\n",
        "    'email_on_failure': False,\n",
        "    'email_on_retry': False,\n",
        "    'retries': 1,\n",
        "    'retry_delay': timedelta(minutes=5),\n",
        "    # 'queue': 'bash_queue',\n",
        "    # 'pool': 'backfill',\n",
        "    # 'priority_weight': 10,\n",
        "    # 'end_date': datetime(2016, 1, 1),\n",
        "    # 'wait_for_downstream': False,\n",
        "    # 'dag': dag,\n",
        "    # 'sla': timedelta(hours=2),\n",
        "    # 'execution_timeout': timedelta(seconds=300),\n",
        "    # 'on_failure_callback': some_function,\n",
        "    # 'on_success_callback': some_other_function,\n",
        "    # 'on_retry_callback': another_function,\n",
        "    # 'sla_miss_callback': yet_another_function,\n",
        "    # 'trigger_rule': 'all_success'\n",
        "}\n",
        "\n",
        "# DAGの定義\n",
        "dag = DAG(\n",
        "    'tutorial',\n",
        "    default_args=default_args,\n",
        "    description='A simple tutorial DAG',\n",
        "    schedule_interval=timedelta(days=1),\n",
        "    start_date=days_ago(2),\n",
        "    tags=['example'],\n",
        ")\n",
        "\n",
        "#タスクの設定\n",
        "# t1, t2, t3はオペレータをインスタンス化して作成したタスクの例\n",
        "t1 = BashOperator(\n",
        "    task_id='print_date',\n",
        "    bash_command='date',\n",
        "    dag=dag,\n",
        ")\n",
        "\n",
        "t2 = BashOperator(\n",
        "    task_id='sleep',\n",
        "    depends_on_past=False,\n",
        "    bash_command='sleep 5',\n",
        "    retries=3,\n",
        "    dag=dag,\n",
        ")\n",
        "#DAGのドキュメント\n",
        "dag.doc_md = __doc__\n",
        "\n",
        "\n",
        "#タスクのドキュメント記述\n",
        "t1.doc_md = \"\"\"\\\n",
        "#### Task Documentation\n",
        "You can document your task using the attributes `doc_md` (markdown),\n",
        "`doc` (plain text), `doc_rst`, `doc_json`, `doc_yaml` which gets\n",
        "rendered in the UI's Task Instance Details page.\n",
        "![img](http://montcs.bloomu.edu/~bobmon/Semesters/2012-01/491/import%20soul.png)\n",
        "\"\"\"\n",
        "templated_command = \"\"\"\n",
        "{% for i in range(5) %}\n",
        "    echo \"{{ ds }}\"\n",
        "    echo \"{{ macros.ds_add(ds, 7)}}\"\n",
        "    echo \"{{ params.my_param }}\"\n",
        "{% endfor %}\n",
        "\"\"\"\n",
        "\n",
        "t3 = BashOperator(\n",
        "    task_id='templated',\n",
        "    depends_on_past=False,\n",
        "    bash_command=templated_command,\n",
        "    params={'my_param': 'Parameter I passed in'},\n",
        "    dag=dag,\n",
        ")\n",
        "#グラフ構造を記述\n",
        "t1 >> [t2, t3]\n",
        "```\n"
      ]
    },
    {
      "cell_type": "markdown",
      "metadata": {
        "id": "1VLgto8mJo9Z"
      },
      "source": [
        "#### Airflowの環境構築"
      ]
    },
    {
      "cell_type": "markdown",
      "metadata": {
        "id": "avylGDFCJL4C"
      },
      "source": [
        "```\n",
        "export AIRFLOW_HOME=~/airflow\n",
        "```\n",
        "\n",
        "```\n",
        "AIRFLOW_VERSION=2.0.1\n",
        "PYTHON_VERSION=\"$(python3 --version | cut -d \" \" -f 2 | cut -d \".\" -f 1-2)\"\n",
        "CONSTRAINT_URL=\"https://raw.githubusercontent.com/apache/airflow/constraints-${AIRFLOW_VERSION}/constraints-${PYTHON_VERSION}.txt\"\n",
        "pip3 install \"apache-airflow==${AIRFLOW_VERSION}\" --constraint \"${CONSTRAINT_URL}\"\n",
        "airflow db init\n",
        "```\n",
        "\n",
        "\n",
        "```\n",
        "airflow users create \\\n",
        "    --username admin \\\n",
        "    --firstname Gci \\\n",
        "    --lastname Student \\\n",
        "    --role Admin \\\n",
        "    --email example@example.com\n",
        "```\n",
        "airflow users create の時にpasswordを設定するので特に気にならなければairflowとしておきましょう。一度入力するとRepeat for confirmation:と出るので再度パスワードを入力しましょう。\n",
        "\n",
        "**※ここでパスワードの入力をしないでEnterを押すとログインできなくなります。**\n",
        "\n",
        "**パスワード入力時は文字が表示されず入力されていないように見えますが、入力されています。**\n",
        "\n",
        "\n",
        "```\n",
        "cd ~/airflow\n",
        "```\n",
        "でairflowのディレクトリに行き\n",
        "```\n",
        "vim airflow.cfg\n",
        "```\n",
        "１行目を\n",
        "\n",
        "```\n",
        "dags_folder = /home/Day2_airflow/dags\n",
        "```\n",
        "に変更しましょう\n",
        "\n",
        "※vimエディタが立ち上がります。普段使ってない方は慣れないとは思いますが落ち着いて操作しましょう。\n",
        "\n",
        "矢印キーで移動できるので、`dags_folder = /root/airflow/dags`まで移動し、iを押し、デリートキーで消しましょう。その後上のパスをコピーし貼り付けたら、エスケープキーを押し、`:wq`を押しましょう。\n",
        "\n",
        "|  vimコマンド  |  意味  | \n",
        "| ---- | ---- | \n",
        "|  w  |  保存  |  \n",
        "|  q  |  閉じる  |  "
      ]
    },
    {
      "cell_type": "markdown",
      "metadata": {
        "id": "s2-AoNVAyVS9"
      },
      "source": [
        "<a name='5-2'></a>\n",
        "### 5.2 AirflowUIの使い方"
      ]
    },
    {
      "cell_type": "markdown",
      "metadata": {
        "id": "JF1tEJseybET"
      },
      "source": [
        "Airflowでは、管理用画面を立ち上げるにはairflow webserverを実行します。\n",
        "また、DAGの実行、更新などを管理するスケジューラーも立ちあげます。\n",
        "```\n",
        "airflow webserver -D --port 8080\n",
        "```\n",
        "\n",
        "\n",
        "現在触っているターミナルではない、もう一つのターミナルで以下のコマンドを実行し、schedulerを起動させましょう\n",
        "\n",
        "```\n",
        "airflow scheduler\n",
        "```"
      ]
    },
    {
      "cell_type": "markdown",
      "metadata": {
        "id": "2R4iFwwDKi0m"
      },
      "source": [
        "http://<EC2のパブリック IPv4 アドレス>:8080\n",
        "\n",
        "にアクセスしてみましょう\n",
        "\n",
        "アクセスするとログイン画面が表示されるので、先ほど設定したUsername,Passwordを入力しましょう。\n",
        "\n",
        "上の通り設定していたらUsernameはadmin,Passwordはairflowです。\n",
        "\n",
        "<br>\n",
        "<img src='https://drive.google.com/uc?export=view&id=1Tb-6R_Irxc6dT568whxzhdy5_q7EsWmJ' name=Airflowログイン画面.png width=100%>\n"
      ]
    },
    {
      "cell_type": "markdown",
      "metadata": {
        "id": "oqE3fU9uAa5P"
      },
      "source": [
        "<img src='https://drive.google.com/uc?export=view&id=16zs1WXS9X8SobPMiFDGEnK-kNi4so8NN' name=Airflow管理画面.png width=100%>\n",
        "\n",
        "\n",
        "すでにAirflowがExampleとして提供している26個の例と本講義用に用意した例2つ、合計28個のDAGがありますが、今回使用するのはGCI_tutorial_1,GCI_tutorial_2の２つです。\n",
        "\n"
      ]
    },
    {
      "cell_type": "markdown",
      "metadata": {
        "id": "GsumNMnyMMqg"
      },
      "source": [
        "前回手動で実行したことをAirflowのパイプラインとして実行させてみましょう\n",
        "\n",
        "上の状態で`GCI_tutorial_1`という名前のDAGを選択すると、Tree ViewからDAGで定義されたパイプラインが確認できます。\n",
        "\n",
        "今回のパイプラインは1日おきに実行するよう設定していますが、試しに実行をさせてみます。\n",
        "\n",
        "右上の再生ボタン（Trigger DAG）を押して、次のページでTrggerを押すことで実行させることができます。\n",
        "\n",
        "RUNが始まるとGraph Viewなどで実行状況が表示されます。\n",
        "<img src='https://drive.google.com/uc?export=view&id=197R48w4VNTggsPHOJrfcTxwPxGOyW5pH' name=AirflowDAG詳細画面.png width=100%>\n"
      ]
    },
    {
      "cell_type": "markdown",
      "metadata": {
        "id": "nAMOBVghMJB7"
      },
      "source": [
        "この管理画面ではDAGのPause,Unpauseを変更することができ、Pause状態になっているDAGがスケジュール通りに実行されます。\n",
        "\n",
        "<img src='https://drive.google.com/uc?export=view&id=1Co9NjODiWtXlHN8yL-dztJSmgtHWhiK3' name=AirflowGraphView.png width=100%>\n",
        "\n"
      ]
    },
    {
      "cell_type": "markdown",
      "metadata": {
        "id": "-BawjHhYDZsX"
      },
      "source": [
        "ここまでで、機械学習のワークフロー管理をAirflowを使って簡単な実装とともに紹介しました。ワークフロー管理ができるようになると、機械学習パイプラインの一連の流れを定期的に、自動実行することができます。身近な例で言うと、日々生まれてくるデータに対してスクレイピングをし、そのデータに対し前処理→学習をするパイプラインを定期的に自動で実行させることができるようになります。"
      ]
    },
    {
      "cell_type": "markdown",
      "metadata": {
        "id": "5v_ndG6ZMKeH"
      },
      "source": [
        "## Appendix"
      ]
    },
    {
      "cell_type": "markdown",
      "metadata": {
        "id": "J96tlbvMYAce"
      },
      "source": [
        "[GoogleによるMLOpsの定義](https://cloud.google.com/architecture/mlops-continuous-delivery-and-automation-pipelines-in-machine-learning)\n",
        "\n",
        "企業のMLOps導入記事\n",
        "\n",
        "- [Facebook](https://engineering.fb.com/2016/05/09/core-data/introducing-fblearner-flow-facebook-s-ai-backbone/)\n",
        "\n",
        "- [Netflix1](https://netflixtechblog.com/open-sourcing-metaflow-a-human-centric-framework-for-data-science-fa72e04a5d9)\n",
        "\n",
        "- [Netflix2](https://netflixtechblog.com/meson-workflow-orchestration-for-netflix-recommendations-fc932625c1d9)\n",
        "\n",
        "- [Uber](https://eng.uber.com/scaling-michelangelo/)\n",
        "\n",
        "\n",
        "[CourseraのMLOpsの講義](https://www.coursera.org/specializations/machine-learning-engineering-for-production-mlops)"
      ]
    },
    {
      "cell_type": "markdown",
      "metadata": {
        "id": "Qeon_fujYa2I"
      },
      "source": [
        "発展課題（任意）\n",
        "\n",
        "- Airflowには、実行結果をSlackに通知する機能が用意されています。実行が完了したら通知を送るように変更してみましょう。（通知が全体に届くのは迷惑になるので、自分のDMに送りましょう）\n",
        "\n",
        "\n",
        "- AirflowとMLflowを組み合わせて、実験管理が定期的に実行できるような仕組みを作ってみましょう。\n"
      ]
    },
    {
      "cell_type": "code",
      "metadata": {
        "id": "D7ZedMlz0LCj"
      },
      "source": [
        ""
      ],
      "execution_count": null,
      "outputs": []
    }
  ]
}